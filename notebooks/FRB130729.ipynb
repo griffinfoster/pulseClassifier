{
 "cells": [
  {
   "cell_type": "markdown",
   "metadata": {},
   "source": [
    "## FRB130729"
   ]
  },
  {
   "cell_type": "code",
   "execution_count": 4,
   "metadata": {},
   "outputs": [],
   "source": [
    "import numpy as np\n",
    "import matplotlib.pyplot as plt\n",
    "import imp\n",
    "SOURCE_PATH = '/home/inigo/pulseClassifier/src/'\n",
    "dedispersion = imp.load_source('dedispersion', SOURCE_PATH + 'dedispersion.py')\n",
    "filterbankio = imp.load_source('filterbankio', SOURCE_PATH + 'filterbankio.py')\n",
    "import seaborn as sns\n",
    "\n",
    "%matplotlib inline"
   ]
  },
  {
   "cell_type": "code",
   "execution_count": 5,
   "metadata": {
    "collapsed": true
   },
   "outputs": [],
   "source": [
    "frbFil = 'FRB130729_s41r10b8.fil' #filterbank file"
   ]
  },
  {
   "cell_type": "code",
   "execution_count": 6,
   "metadata": {
    "collapsed": true
   },
   "outputs": [],
   "source": [
    "sns.set()\n",
    "sns.set_context(\"notebook\", rc={\"lines.linewidth\": 1.0})"
   ]
  },
  {
   "cell_type": "markdown",
   "metadata": {},
   "source": [
    "### Parameters"
   ]
  },
  {
   "cell_type": "code",
   "execution_count": 7,
   "metadata": {
    "collapsed": true
   },
   "outputs": [],
   "source": [
    "# standards\n",
    "timeFactor = 1\n",
    "freqFactor = 1\n",
    "dm = 861\n",
    "\n",
    "start_time = 5.1 # seconds\n",
    "time_window = 0.2 # seconds\n",
    "\n",
    "minDM = 0\n",
    "maxDM = 2000\n",
    "dmStep = 4\n",
    "\n",
    "applyGauss = True\n",
    "fGauss = 8. # bins\n",
    "tGauss = 8. # bins\n",
    "\n",
    "####\n",
    "dm = 851.5\n",
    "#start_time = 5. # seconds\n",
    "#time_window = 0.4 # seconds"
   ]
  },
  {
   "cell_type": "markdown",
   "metadata": {},
   "source": [
    "### Load Filterbank"
   ]
  },
  {
   "cell_type": "code",
   "execution_count": 8,
   "metadata": {},
   "outputs": [
    {
     "ename": "IOError",
     "evalue": "[Errno 2] No such file or directory: 'FRB130729_s41r10b8.fil'",
     "output_type": "error",
     "traceback": [
      "\u001b[0;31m---------------------------------------------------------------------------\u001b[0m",
      "\u001b[0;31mIOError\u001b[0m                                   Traceback (most recent call last)",
      "\u001b[0;32m<ipython-input-8-d6d93cc1663d>\u001b[0m in \u001b[0;36m<module>\u001b[0;34m()\u001b[0m\n\u001b[0;32m----> 1\u001b[0;31m \u001b[0mfil\u001b[0m \u001b[0;34m=\u001b[0m \u001b[0mfilterbankio\u001b[0m\u001b[0;34m.\u001b[0m\u001b[0mFilterbank\u001b[0m\u001b[0;34m(\u001b[0m\u001b[0mfrbFil\u001b[0m\u001b[0;34m)\u001b[0m\u001b[0;34m\u001b[0m\u001b[0m\n\u001b[0m\u001b[1;32m      2\u001b[0m \u001b[0;34m\u001b[0m\u001b[0m\n\u001b[1;32m      3\u001b[0m \u001b[0mtInt\u001b[0m \u001b[0;34m=\u001b[0m \u001b[0mfil\u001b[0m\u001b[0;34m.\u001b[0m\u001b[0mheader\u001b[0m\u001b[0;34m[\u001b[0m\u001b[0;34m'tsamp'\u001b[0m\u001b[0;34m]\u001b[0m \u001b[0;31m# get tInt\u001b[0m\u001b[0;34m\u001b[0m\u001b[0m\n\u001b[1;32m      4\u001b[0m \u001b[0mfreqsHz\u001b[0m \u001b[0;34m=\u001b[0m \u001b[0mfil\u001b[0m\u001b[0;34m.\u001b[0m\u001b[0mfreqs\u001b[0m \u001b[0;34m*\u001b[0m \u001b[0;36m1e6\u001b[0m \u001b[0;31m# generate array of freqs in Hz\u001b[0m\u001b[0;34m\u001b[0m\u001b[0m\n\u001b[1;32m      5\u001b[0m \u001b[0;34m\u001b[0m\u001b[0m\n",
      "\u001b[0;32m/home/inigo/pulseClassifier/src/filterbankio.pyc\u001b[0m in \u001b[0;36m__init__\u001b[0;34m(self, filename, f_start, f_stop, t_start, t_stop, load_data, header_dict, data_array)\u001b[0m\n\u001b[1;32m    440\u001b[0m                     \u001b[0mself\u001b[0m\u001b[0;34m.\u001b[0m\u001b[0mread_hdf5\u001b[0m\u001b[0;34m(\u001b[0m\u001b[0mfilename\u001b[0m\u001b[0;34m,\u001b[0m \u001b[0mf_start\u001b[0m\u001b[0;34m,\u001b[0m \u001b[0mf_stop\u001b[0m\u001b[0;34m,\u001b[0m \u001b[0mt_start\u001b[0m\u001b[0;34m,\u001b[0m \u001b[0mt_stop\u001b[0m\u001b[0;34m,\u001b[0m \u001b[0mload_data\u001b[0m\u001b[0;34m)\u001b[0m\u001b[0;34m\u001b[0m\u001b[0m\n\u001b[1;32m    441\u001b[0m                 \u001b[0;32melse\u001b[0m\u001b[0;34m:\u001b[0m\u001b[0;34m\u001b[0m\u001b[0m\n\u001b[0;32m--> 442\u001b[0;31m                     \u001b[0mself\u001b[0m\u001b[0;34m.\u001b[0m\u001b[0mread_filterbank\u001b[0m\u001b[0;34m(\u001b[0m\u001b[0mfilename\u001b[0m\u001b[0;34m,\u001b[0m \u001b[0mf_start\u001b[0m\u001b[0;34m,\u001b[0m \u001b[0mf_stop\u001b[0m\u001b[0;34m,\u001b[0m \u001b[0mt_start\u001b[0m\u001b[0;34m,\u001b[0m \u001b[0mt_stop\u001b[0m\u001b[0;34m,\u001b[0m \u001b[0mload_data\u001b[0m\u001b[0;34m)\u001b[0m\u001b[0;34m\u001b[0m\u001b[0m\n\u001b[0m\u001b[1;32m    443\u001b[0m             \u001b[0;32melse\u001b[0m\u001b[0;34m:\u001b[0m\u001b[0;34m\u001b[0m\u001b[0m\n\u001b[1;32m    444\u001b[0m                 \u001b[0mself\u001b[0m\u001b[0;34m.\u001b[0m\u001b[0mread_filterbank\u001b[0m\u001b[0;34m(\u001b[0m\u001b[0mfilename\u001b[0m\u001b[0;34m,\u001b[0m \u001b[0mf_start\u001b[0m\u001b[0;34m,\u001b[0m \u001b[0mf_stop\u001b[0m\u001b[0;34m,\u001b[0m \u001b[0mt_start\u001b[0m\u001b[0;34m,\u001b[0m \u001b[0mt_stop\u001b[0m\u001b[0;34m,\u001b[0m \u001b[0mload_data\u001b[0m\u001b[0;34m)\u001b[0m\u001b[0;34m\u001b[0m\u001b[0m\n",
      "\u001b[0;32m/home/inigo/pulseClassifier/src/filterbankio.pyc\u001b[0m in \u001b[0;36mread_filterbank\u001b[0;34m(self, filename, f_start, f_stop, t_start, t_stop, load_data)\u001b[0m\n\u001b[1;32m    510\u001b[0m             \u001b[0mfilename\u001b[0m \u001b[0;34m=\u001b[0m \u001b[0mself\u001b[0m\u001b[0;34m.\u001b[0m\u001b[0mfilename\u001b[0m\u001b[0;34m\u001b[0m\u001b[0m\n\u001b[1;32m    511\u001b[0m \u001b[0;34m\u001b[0m\u001b[0m\n\u001b[0;32m--> 512\u001b[0;31m         \u001b[0mself\u001b[0m\u001b[0;34m.\u001b[0m\u001b[0mheader\u001b[0m \u001b[0;34m=\u001b[0m \u001b[0mread_header\u001b[0m\u001b[0;34m(\u001b[0m\u001b[0mfilename\u001b[0m\u001b[0;34m)\u001b[0m\u001b[0;34m\u001b[0m\u001b[0m\n\u001b[0m\u001b[1;32m    513\u001b[0m \u001b[0;34m\u001b[0m\u001b[0m\n\u001b[1;32m    514\u001b[0m         \u001b[0;31m## Setup frequency axis\u001b[0m\u001b[0;34m\u001b[0m\u001b[0;34m\u001b[0m\u001b[0m\n",
      "\u001b[0;32m/home/inigo/pulseClassifier/src/filterbankio.pyc\u001b[0m in \u001b[0;36mread_header\u001b[0;34m(filename, return_idxs)\u001b[0m\n\u001b[1;32m    236\u001b[0m \u001b[0;34m\u001b[0m\u001b[0m\n\u001b[1;32m    237\u001b[0m     \"\"\"\n\u001b[0;32m--> 238\u001b[0;31m     \u001b[0;32mwith\u001b[0m \u001b[0mopen\u001b[0m\u001b[0;34m(\u001b[0m\u001b[0mfilename\u001b[0m\u001b[0;34m,\u001b[0m \u001b[0;34m'rb'\u001b[0m\u001b[0;34m)\u001b[0m \u001b[0;32mas\u001b[0m \u001b[0mfh\u001b[0m\u001b[0;34m:\u001b[0m\u001b[0;34m\u001b[0m\u001b[0m\n\u001b[0m\u001b[1;32m    239\u001b[0m         \u001b[0mheader_dict\u001b[0m \u001b[0;34m=\u001b[0m \u001b[0;34m{\u001b[0m\u001b[0;34m}\u001b[0m\u001b[0;34m\u001b[0m\u001b[0m\n\u001b[1;32m    240\u001b[0m         \u001b[0mheader_idxs\u001b[0m \u001b[0;34m=\u001b[0m \u001b[0;34m{\u001b[0m\u001b[0;34m}\u001b[0m\u001b[0;34m\u001b[0m\u001b[0m\n",
      "\u001b[0;31mIOError\u001b[0m: [Errno 2] No such file or directory: 'FRB130729_s41r10b8.fil'"
     ]
    }
   ],
   "source": [
    "fil = filterbankio.Filterbank(frbFil)\n",
    "\n",
    "tInt = fil.header['tsamp'] # get tInt\n",
    "freqsHz = fil.freqs * 1e6 # generate array of freqs in Hz\n",
    "\n",
    "waterfall = np.reshape(fil.data, (fil.data.shape[0], fil.data.shape[2])) # reshape to (n integrations, n freqs)"
   ]
  },
  {
   "cell_type": "code",
   "execution_count": null,
   "metadata": {},
   "outputs": [],
   "source": [
    "print tInt*1000. * 8\n",
    "print (fil.freqs[0] - fil.freqs[1])*8"
   ]
  },
  {
   "cell_type": "markdown",
   "metadata": {},
   "source": [
    "### Dedisperse"
   ]
  },
  {
   "cell_type": "code",
   "execution_count": null,
   "metadata": {
    "collapsed": true
   },
   "outputs": [],
   "source": [
    "ddwaterfall = dedispersion.incoherent(freqsHz, waterfall, tInt, dm, boundary='wrap') # apply dedispersion"
   ]
  },
  {
   "cell_type": "markdown",
   "metadata": {},
   "source": [
    "### DM Space"
   ]
  },
  {
   "cell_type": "code",
   "execution_count": null,
   "metadata": {
    "collapsed": true
   },
   "outputs": [],
   "source": [
    "#testDMs = np.arange(minDM, maxDM, dmStep)\n",
    "#dmSpace = np.zeros((testDMs.shape[0], waterfall.shape[0]))\n",
    "#print dmSpace.shape\n",
    "#for dmid, dm in enumerate(testDMs):\n",
    "#    dmSpace[dmid, :] = np.sum(dedispersion.incoherent(freqsHz, waterfall, tInt, dm, boundary='wrap'), axis=1)\n",
    "\n",
    "#cmap = 'viridis'\n",
    "#fig = plt.figure(figsize=(4,3)) # (width, height)\n",
    "\n",
    "#plt.imshow(np.flipud(dmSpace), aspect='auto', extent=(0, tInt*waterfall.shape[0], testDMs[0], testDMs[-1]), cmap=plt.get_cmap(cmap), interpolation='nearest')\n",
    "#plt.ylabel('DM')\n",
    "#plt.xlabel('t (s)')\n",
    "#plt.colorbar(fraction=0.025)"
   ]
  },
  {
   "cell_type": "markdown",
   "metadata": {},
   "source": [
    "### Decimate"
   ]
  },
  {
   "cell_type": "code",
   "execution_count": null,
   "metadata": {
    "collapsed": true
   },
   "outputs": [],
   "source": [
    "# Time Decimation\n",
    "# average down by N time samples\n",
    "if waterfall.shape[0] % timeFactor==0:\n",
    "    decwaterfall = waterfall.reshape(waterfall.shape[0]/timeFactor, timeFactor,\\\n",
    "                                        waterfall.shape[1]).sum(axis=1)\n",
    "    decddwaterfall = ddwaterfall.reshape(ddwaterfall.shape[0]/timeFactor, timeFactor,\\\n",
    "                                         ddwaterfall.shape[1]).sum(axis=1)\n",
    "    tInt *= timeFactor\n",
    "else:\n",
    "    print 'WARNING: %i time samples is NOT divisible by %i, zero-padding spectrum to usable size'%(waterfall.shape[0], timeFactor)\n",
    "    zeros = np.zeros((timeFactor - (waterfall.shape[0] % timeFactor), waterfall.shape[1]))\n",
    "    decwaterfall = np.concatenate((waterfall, zeros))\n",
    "    decddwaterfall = np.concatenate((ddwaterfall, zeros))\n",
    "    decwaterfall = decwaterfall.reshape(decwaterfall.shape[0]/timeFactor, timeFactor,\\\n",
    "                                     decwaterfall.shape[1]).sum(axis=1)\n",
    "    decddwaterfall = decddwaterfall.reshape(decddwaterfall.shape[0]/timeFactor, timeFactor,\\\n",
    "                                     decddwaterfall.shape[1]).sum(axis=1)\n",
    "    tInt *= timeFactor\n",
    "\n",
    "# Frequency Decimation\n",
    "if decwaterfall.shape[1] % freqFactor==0:\n",
    "    decwaterfall = decwaterfall.reshape(decwaterfall.shape[0], decwaterfall.shape[1]/freqFactor,\\\n",
    "                                        freqFactor).sum(axis=2)\n",
    "    decddwaterfall = decddwaterfall.reshape(decddwaterfall.shape[0], decddwaterfall.shape[1]/freqFactor,\\\n",
    "                                            freqFactor).sum(axis=2)\n",
    "    freqsHz = freqsHz[::freqFactor]\n",
    "else:\n",
    "    print 'WARNING: %i frequency channels is NOT divisible by %i, ignoring option'%(decwaterfall.shape[1],\\\n",
    "                                                                                    freqFactor)"
   ]
  },
  {
   "cell_type": "markdown",
   "metadata": {},
   "source": [
    "### Cut out Region"
   ]
  },
  {
   "cell_type": "code",
   "execution_count": null,
   "metadata": {
    "collapsed": true
   },
   "outputs": [],
   "source": [
    "if start_time is None: startIdx = 0\n",
    "else: startIdx = int(start_time / tInt)\n",
    "\n",
    "if time_window is None:\n",
    "    endIdx = decwaterfall.shape[0]\n",
    "else:\n",
    "    endIdx = startIdx + int(time_window / tInt)\n",
    "    if endIdx > decwaterfall.shape[0]:\n",
    "        print 'Warning: time window (-w) in conjunction with start time (-s) results in a window extending beyond the filterbank file, clipping to maximum size'\n",
    "        endIdx = decwaterfall.shape[0]\n",
    "\n",
    "decwaterfall = decwaterfall[startIdx:endIdx,:]\n",
    "decddwaterfall = decddwaterfall[startIdx:endIdx,:]"
   ]
  },
  {
   "cell_type": "markdown",
   "metadata": {},
   "source": [
    "### Blank rows"
   ]
  },
  {
   "cell_type": "code",
   "execution_count": null,
   "metadata": {
    "collapsed": true
   },
   "outputs": [],
   "source": [
    "decddwaterfall[:,200:250] = np.random.normal(decddwaterfall[:,500:600].mean(),\\\n",
    "                                             decddwaterfall[:,500:600].std(), size=decddwaterfall[:,200:250].shape)"
   ]
  },
  {
   "cell_type": "markdown",
   "metadata": {},
   "source": [
    "### Gaussian Filter"
   ]
  },
  {
   "cell_type": "code",
   "execution_count": null,
   "metadata": {
    "collapsed": true
   },
   "outputs": [],
   "source": [
    "def gaussianFilter(arrShape, tSigma, fSigma):\n",
    "    # Gaussian filter\n",
    "    # arrShape: 2-D array shape\n",
    "    # tSigma: sigma in time (ms)\n",
    "    # fSigma: sigma in freq (MHz)\n",
    "    lpos, mpos = np.mgrid[0:arrShape[0],0:arrShape[1]]\n",
    "    taper = np.exp(-1. * ( (((lpos - (arrShape[0]/2.))**2.) / (2. * tSigma**2.)) + \\\n",
    "                           (((mpos - (arrShape[1]/2.))**2.) / (2. * tSigma**2.)) ))\n",
    "    return taper\n",
    "\n",
    "def convolveTaper(gaussImg, img):\n",
    "    return np.fft.fftshift(np.fft.ifft2(np.fft.fft2(gaussImg) * np.fft.fft2(img))).real\n",
    "\n",
    "if applyGauss:\n",
    "    gaussFilter = gaussianFilter(decddwaterfall.shape, tGauss, fGauss)\n",
    "    decddwaterfall = convolveTaper(gaussFilter, decddwaterfall)"
   ]
  },
  {
   "cell_type": "markdown",
   "metadata": {},
   "source": [
    "### Time Series"
   ]
  },
  {
   "cell_type": "code",
   "execution_count": null,
   "metadata": {
    "collapsed": true
   },
   "outputs": [],
   "source": [
    "timeSeries = np.sum(decwaterfall, axis=1)\n",
    "ddTimeSeries = np.sum(decddwaterfall, axis=1)"
   ]
  },
  {
   "cell_type": "markdown",
   "metadata": {},
   "source": [
    "### Plots"
   ]
  },
  {
   "cell_type": "code",
   "execution_count": null,
   "metadata": {},
   "outputs": [],
   "source": [
    "cmap = 'magma'\n",
    "sns.set_style('white', rc={'axes.linewidth': 0.5})\n",
    "\n",
    "#plt.style.use('dark_background')\n",
    "\n",
    "#fig = plt.figure(figsize=(12,6)) # (width, height)\n",
    "fig = plt.figure(figsize=(5,4.5)) # (width, height)\n",
    "\n",
    "ax1 = plt.subplot2grid((3, 3), (0, 0), colspan=3, rowspan=2)\n",
    "#imRaw = plt.imshow(np.flipud(decddwaterfall.T), extent=(0, tInt*decddwaterfall.shape[0], fil.freqs[0], fil.freqs[-1]), aspect='auto', cmap=plt.get_cmap(cmap), interpolation='nearest')\n",
    "# crop out RFI flagged high freqs\n",
    "print decddwaterfall.shape\n",
    "imRaw = plt.imshow(np.flipud(decddwaterfall[:,:850].T), extent=(0, tInt*decddwaterfall.shape[0], fil.freqs[0], fil.freqs[850]), aspect='auto', cmap=plt.get_cmap(cmap), interpolation='nearest')\n",
    "\n",
    "plt.title('FRB130729')\n",
    "plt.ylabel('Freq. (MHz)')\n",
    "ax1.get_xaxis().set_visible(False)\n",
    "\n",
    "ax2 = plt.subplot2grid((3, 3), (2, 0), colspan=3)\n",
    "lineColor = 'k'\n",
    "#lineColor = 'w'\n",
    "plt.plot(1000.*tInt*np.arange(decwaterfall.shape[0]), ddTimeSeries, lineColor, alpha=0.8)\n",
    "plt.xlim(0, 1000.*tInt*timeSeries.shape[0])\n",
    "plt.title('Time Series (DM=%0.f)'%dm)\n",
    "plt.xlabel('Time (ms)')\n",
    "ax2.get_yaxis().set_visible(False)\n",
    "\n",
    "plt.tight_layout()\n",
    "\n",
    "#plt.savefig('FRB130729.png')\n",
    "plt.savefig('FRB130729.pdf')"
   ]
  }
 ],
 "metadata": {
  "kernelspec": {
   "display_name": "Python 2",
   "language": "python",
   "name": "python2"
  },
  "language_info": {
   "codemirror_mode": {
    "name": "ipython",
    "version": 2
   },
   "file_extension": ".py",
   "mimetype": "text/x-python",
   "name": "python",
   "nbconvert_exporter": "python",
   "pygments_lexer": "ipython2",
   "version": "2.7.13"
  }
 },
 "nbformat": 4,
 "nbformat_minor": 2
}
