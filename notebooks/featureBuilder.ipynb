{
 "cells": [
  {
   "cell_type": "markdown",
   "metadata": {},
   "source": [
    "## ALFABURST Event Buffer Feature Builder\n",
    "\n",
    "The ALFABURST commensal FRB search survey searches for dedisperesed pulses above a signal to noise of 10 across of 56 MHz band. Data is processed in time windows of 2^15 * 256 microseconds (~8.4 seconds), 512 frequency channels. If a pulse is detected the entire time window is recorded to disk.\n",
    "\n",
    "The vast majority of detected pulses are false-positive events due to human-made RFI. Only a small minority of events (less than 1%) is due to astrophysical sources, primarily bright pulses from pulsars. The RFI takes on a wide range of characteristics. In the processing pipeline the brightest RFI is clipped and replaced, but low-level RFI and spectra statistics still lead to an excess of false-positives.\n",
    "\n",
    "In order to automate the processing the 150000+ recorded buffers a classifier model would be useful to ***probabilistically*** classify each event. Approximately 15000 events have been labelled into 10 different categories. We can use this *labelled* data set for training a model."
   ]
  },
  {
   "cell_type": "code",
   "execution_count": 1,
   "metadata": {
    "collapsed": true
   },
   "outputs": [],
   "source": [
    "import glob\n",
    "import numpy as np\n",
    "import pandas as pd\n",
    "import matplotlib.pyplot as plt\n",
    "import cPickle as pickle\n",
    "import os\n",
    "\n",
    "%matplotlib inline"
   ]
  },
  {
   "cell_type": "code",
   "execution_count": 2,
   "metadata": {
    "collapsed": true
   },
   "outputs": [],
   "source": [
    "BASE_DATA_PATH = '/data2/griffin/ALFABURST/'"
   ]
  },
  {
   "cell_type": "markdown",
   "metadata": {},
   "source": [
    "#### Build buffer database"
   ]
  },
  {
   "cell_type": "code",
   "execution_count": 3,
   "metadata": {
    "collapsed": true
   },
   "outputs": [],
   "source": [
    "baseBufferPklFile = BASE_DATA_PATH + 'ALFAbuffers.pkl'\n",
    "\n",
    "# load baseBufferPkl\n",
    "df = pd.read_pickle(baseBufferPklFile)\n",
    "\n",
    "# create a predicted label column with 'unlabelled' label\n",
    "df = df.assign(predictLabel=-1)"
   ]
  },
  {
   "cell_type": "markdown",
   "metadata": {},
   "source": [
    "The intial buffer dataframe contains a list of all buffers with meta-data such as time, beam ID, and buffer ID. There is also global statistics for each buffer usch as number of events in the buffer and the maximum SNR event. The label column is initially empty, we need to fill it with the labels."
   ]
  },
  {
   "cell_type": "code",
   "execution_count": 4,
   "metadata": {},
   "outputs": [
    {
     "name": "stdout",
     "output_type": "stream",
     "text": [
      "               Beam        Buffer      MJDstart        bestDM       bestSNR  \\\n",
      "count  92453.000000  92453.000000  92453.000000  92453.000000  92453.000000   \n",
      "mean       3.773150    218.654960  57495.859286   1826.484657     13.224055   \n",
      "std        2.379155    298.492012    261.931401   2913.489521     99.728634   \n",
      "min        0.000000      1.000000  57197.378446      0.000000      6.001704   \n",
      "25%        1.000000     23.000000  57281.042274      9.000000     10.587121   \n",
      "50%        5.000000    107.000000  57350.285694     18.000000     11.497226   \n",
      "75%        6.000000    294.000000  57845.909094   2730.000000     13.102362   \n",
      "max        6.000000   2025.000000  57995.132488  10039.000000  20954.304688   \n",
      "\n",
      "          BinFactor        Events         DMmax         DMmin        DMmean  \\\n",
      "count  92453.000000  9.245300e+04  92453.000000  92453.000000  92453.000000   \n",
      "mean      14.522752  6.196611e+03   3221.769508    602.744697   1940.321632   \n",
      "std       18.036017  3.171940e+04   4171.687561   1497.618585   2638.089237   \n",
      "min        1.000000  1.000000e+00      3.000000      0.000000      3.000000   \n",
      "25%        2.000000  7.000000e+00     13.000000      5.000000      9.327869   \n",
      "50%        8.000000  6.900000e+01    347.000000      9.000000    138.544656   \n",
      "75%       16.000000  1.496000e+03   8406.000000    426.000000   4433.132580   \n",
      "max       64.000000  2.135578e+06  57287.182376  10039.000000  10039.000000   \n",
      "\n",
      "           ...            SNRmean     SNRmedian        SNRstd        MJDmax  \\\n",
      "count      ...       92453.000000  92453.000000  83811.000000  92453.000000   \n",
      "mean       ...          10.956465     10.770150      0.811790  57495.859346   \n",
      "std        ...          58.051005     49.254914     33.365527    261.931403   \n",
      "min        ...           6.001704      6.001704      0.000054  57197.378488   \n",
      "25%        ...          10.268029     10.221017      0.239563  57281.042277   \n",
      "50%        ...          10.479036     10.394923      0.417147  57350.285785   \n",
      "75%        ...          10.785488     10.617970      0.710014  57845.909171   \n",
      "max        ...       12332.098730  10400.867188   6749.039746  57995.132489   \n",
      "\n",
      "             MJDmin        MJDstd       MJDmean     MJDmedian    Label  \\\n",
      "count  92453.000000  8.381100e+04  92453.000000  92453.000000  92453.0   \n",
      "mean   57495.859313  1.090707e-05  57495.859330  57495.859330     -1.0   \n",
      "std      261.931393  1.106266e-05    261.931398    261.931398      0.0   \n",
      "min    57197.378486  0.000000e+00  57197.378488  57197.378488     -1.0   \n",
      "25%    57281.042277  4.578957e-07  57281.042277  57281.042277     -1.0   \n",
      "50%    57350.285784  7.354187e-06  57350.285785  57350.285784     -1.0   \n",
      "75%    57845.909099  2.074684e-05  57845.909117  57845.909108     -1.0   \n",
      "max    57995.132488  6.888869e-05  57995.132489  57995.132489     -1.0   \n",
      "\n",
      "       predictLabel  \n",
      "count       92453.0  \n",
      "mean           -1.0  \n",
      "std             0.0  \n",
      "min            -1.0  \n",
      "25%            -1.0  \n",
      "50%            -1.0  \n",
      "75%            -1.0  \n",
      "max            -1.0  \n",
      "\n",
      "[8 rows x 22 columns]\n",
      "['datfile' 'Beam' 'TSID' 'Buffer' 'MJDstart' 'bestDM' 'bestSNR' 'BinFactor'\n",
      " 'Events' 'DMmax' 'DMmin' 'DMmean' 'DMmedian' 'DMstd' 'SNRmean' 'SNRmedian'\n",
      " 'SNRstd' 'MJDmax' 'MJDmin' 'MJDstd' 'MJDmean' 'MJDmedian' 'Label'\n",
      " 'predictLabel']\n"
     ]
    }
   ],
   "source": [
    "print df.describe()\n",
    "print df.columns.values #each column"
   ]
  },
  {
   "cell_type": "markdown",
   "metadata": {},
   "source": [
    "#### Add additional buffer features"
   ]
  },
  {
   "cell_type": "code",
   "execution_count": 5,
   "metadata": {},
   "outputs": [
    {
     "ename": "OSError",
     "evalue": "[Errno 2] No such file or directory: '/data2/griffin/ALFABURST/snr14_dm50/'",
     "output_type": "error",
     "traceback": [
      "\u001b[0;31m---------------------------------------------------------------------------\u001b[0m",
      "\u001b[0;31mOSError\u001b[0m                                   Traceback (most recent call last)",
      "\u001b[0;32m<ipython-input-5-38259f2fc934>\u001b[0m in \u001b[0;36m<module>\u001b[0;34m()\u001b[0m\n\u001b[1;32m      6\u001b[0m \u001b[0;34m\u001b[0m\u001b[0m\n\u001b[1;32m      7\u001b[0m \u001b[0;32mfor\u001b[0m \u001b[0mdDir\u001b[0m \u001b[0;32min\u001b[0m \u001b[0mbaseDedispDirs\u001b[0m\u001b[0;34m:\u001b[0m\u001b[0;34m\u001b[0m\u001b[0m\n\u001b[0;32m----> 8\u001b[0;31m     \u001b[0;32mfor\u001b[0m \u001b[0msubDir\u001b[0m \u001b[0;32min\u001b[0m \u001b[0mos\u001b[0m\u001b[0;34m.\u001b[0m\u001b[0mlistdir\u001b[0m\u001b[0;34m(\u001b[0m\u001b[0mdDir\u001b[0m\u001b[0;34m)\u001b[0m\u001b[0;34m:\u001b[0m \u001b[0;31m#os.listdir(dDir)= list of files in directory dDir\u001b[0m\u001b[0;34m\u001b[0m\u001b[0m\n\u001b[0m\u001b[1;32m      9\u001b[0m         \u001b[0;32mif\u001b[0m \u001b[0mos\u001b[0m\u001b[0;34m.\u001b[0m\u001b[0mpath\u001b[0m\u001b[0;34m.\u001b[0m\u001b[0misdir\u001b[0m\u001b[0;34m(\u001b[0m\u001b[0mdDir\u001b[0m \u001b[0;34m+\u001b[0m \u001b[0;34m'/'\u001b[0m \u001b[0;34m+\u001b[0m \u001b[0msubDir\u001b[0m\u001b[0;34m)\u001b[0m\u001b[0;34m:\u001b[0m \u001b[0;31m#returns true if there is a directory called \"dDir + '/' + subDir\"\u001b[0m\u001b[0;34m\u001b[0m\u001b[0m\n\u001b[1;32m     10\u001b[0m             \u001b[0mmetaPklFns\u001b[0m \u001b[0;34m=\u001b[0m \u001b[0mglob\u001b[0m\u001b[0;34m.\u001b[0m\u001b[0mglob\u001b[0m\u001b[0;34m(\u001b[0m\u001b[0mdDir\u001b[0m \u001b[0;34m+\u001b[0m \u001b[0msubDir\u001b[0m \u001b[0;34m+\u001b[0m \u001b[0;34m'/*.meta.pkl'\u001b[0m\u001b[0;34m)\u001b[0m \u001b[0;31m# glob.glob() returns a list of path names matching\u001b[0m\u001b[0;34m\u001b[0m\u001b[0m\n",
      "\u001b[0;31mOSError\u001b[0m: [Errno 2] No such file or directory: '/data2/griffin/ALFABURST/snr14_dm50/'"
     ]
    }
   ],
   "source": [
    "# metadata and features pickles\n",
    "baseDedispDirs = [BASE_DATA_PATH + 'snr14_dm50/',\n",
    "                  BASE_DATA_PATH + 'snr11-14_dm50/',\n",
    "                  BASE_DATA_PATH + 'snr10-11_dm50/']\n",
    "#baseDedispDirs = [BASE_DATA_PATH + 'test/']\n",
    "\n",
    "for dDir in baseDedispDirs:\n",
    "    for subDir in os.listdir(dDir): #os.listdir(dDir)= list of files in directory dDir\n",
    "        if os.path.isdir(dDir + '/' + subDir): #returns true if there is a directory called \"dDir + '/' + subDir\"\n",
    "            metaPklFns = glob.glob(dDir + subDir + '/*.meta.pkl') # glob.glob() returns a list of path names matching \n",
    "            if len(metaPklFns) > 0: #if atleast one of these directories exists                             \n",
    "                print 'Found features in ', dDir + subDir #print to confirm existence\n",
    "                \n",
    "                for mIdx, metaPkl in enumerate(metaPklFns): #enumerate just pairs an index starting from 0 to each metaPklFns value\n",
    "                    \n",
    "                    # Event meta-data\n",
    "                    baseMetaFn = os.path.basename(metaPkl) #returns last directory in metaPkl pathname (if path ends with '/' returns nothing)\n",
    "                    bufID = int(baseMetaFn.split('.')[1].split('buffer')[-1]) #not quite sure about this line? split splits a path into (head, tail)\n",
    "                    metaDict = pickle.load(open(metaPkl, 'rb')) #rb = read binary (read pickle file)\n",
    "                    idx = df.loc[(df['datfile']==metaDict['dat']) & (df['Buffer']==bufID)].index #.loc is some sort of indexer, not sure what & does or this line though...\n",
    "                    \n",
    "                    df.ix[idx, 'filterbank'] = metaDict['filterbank']\n",
    "                        \n",
    "                    # Percent of a time series which is 0\n",
    "                    df.ix[idx, 'pctZero'] = metaDict.get('pctZero', 0.) #returns number of times 'pctZero occurs in metaDict? why the zero in the arg\n",
    "                    # take the 0-dm time series derivative, calculate the percent of time series with derivative=0\n",
    "                    df.ix[idx, 'pctZeroDeriv'] = metaDict.get('pctZeroDeriv', 0.)\n",
    "                      \n",
    "                  # Overflow counter\n",
    "                    # number of values which are above 1e20 threshold\n",
    "                    ofDict = metaDict.get('overflows', {'ncount': 0, 'pct': 0.})\n",
    "                    df.ix[idx, 'ofCount'] = ofDict['ncount']\n",
    "                    df.ix[idx, 'ofPct'] = ofDict['pct']\n",
    "                    \n",
    "                    # Longest continuous run of a constant in the dedispersed time series\n",
    "                    # tuple: (maxRun, maxVal, maxRun / float(arr.size))\n",
    "                    longestRun = metaDict.get('longestRun', (0, 0., 0.)) #again not sure what the 2nd arg of .get does\n",
    "                    df.ix[idx, 'longestRun0'] = longestRun[0]\n",
    "                    df.ix[idx, 'longestRun1'] = longestRun[1]\n",
    "                    df.ix[idx, 'longestRun2'] = longestRun[2]\n",
    "                    \n",
    "                    # Global statistics of the DM-0 time series\n",
    "                    globalTimeStats = metaDict.get('globalTimeStats', {'std': 0., 'max': 0., 'posCount': 0, \\\n",
    "                                                                       'min': 0., 'negPct': 0., 'median': 0.,\\\n",
    "                                                                       'meanMedianRatio': 0., 'posPct': 0.,\\\n",
    "                                                                       'negCount': 0, 'maxMinRatio': 0.,\\\n",
    "                                                                       'mean': 0. }) #returns null values for all metrics if globalTimeStats doesnt exist\n",
    "                    \n",
    "                    df.ix[idx, 'globtsStatsStd'] = globalTimeStats['std']\n",
    "                    df.ix[idx, 'globtsStatsMax'] = globalTimeStats['max']\n",
    "                    df.ix[idx, 'globtsStatsPosCnt'] = globalTimeStats['posCount']\n",
    "                    df.ix[idx, 'globtsStatsMin'] = globalTimeStats['min']\n",
    "                    df.ix[idx, 'globtsStatsNegPct'] = globalTimeStats['negPct']\n",
    "                    df.ix[idx, 'globtsStatsMedian'] = globalTimeStats['median']\n",
    "                    df.ix[idx, 'globtsStatsRatio0'] = globalTimeStats['meanMedianRatio']\n",
    "                    df.ix[idx, 'globtsStatsPosPct'] = globalTimeStats['posPct']\n",
    "                    df.ix[idx, 'globtsStatsNegCnt'] = globalTimeStats['negCount']\n",
    "                    df.ix[idx, 'globtsStatsRatio1'] = globalTimeStats['maxMinRatio']\n",
    "                    df.ix[idx, 'globtsStatsMean'] = globalTimeStats['mean']\n",
    "                    \n",
    "                    # Global statistics of the best DM time series\n",
    "                    globalDedispTimeStats = metaDict.get('globalDedispTimeStats', {'std': 0., 'max': 0., \\\n",
    "                                                                       'posCount': 0,\n",
    "                                                                       'min': 0., 'negPct': 0., 'median': 0.,\\\n",
    "                                                                       'meanMedianRatio': 0., 'posPct': 0.,\\\n",
    "                                                                       'negCount': 0, 'maxMinRatio': 0.,\\\n",
    "                                                                       'mean': 0. }) \n",
    "                    \n",
    "                    #save all of the global stats of the dm timeseries separately\n",
    "                    df.ix[idx, 'globDedisptsStatsStd'] = globalDedispTimeStats['std']\n",
    "                    df.ix[idx, 'globDedisptsStatsMax'] = globalDedispTimeStats['max']\n",
    "                    df.ix[idx, 'globDedisptsStatsPosCnt'] = globalDedispTimeStats['posCount']\n",
    "                    df.ix[idx, 'globDedisptsStatsMin'] = globalDedispTimeStats['min']\n",
    "                    df.ix[idx, 'globDedisptsStatsNegPct'] = globalDedispTimeStats['negPct']\n",
    "                    df.ix[idx, 'globDedisptsStatsMedian'] = globalDedispTimeStats['median']\n",
    "                    df.ix[idx, 'globDedisptsStatsRatio0'] = globalDedispTimeStats['meanMedianRatio']\n",
    "                    df.ix[idx, 'globDedisptsStatsPosPct'] = globalDedispTimeStats['posPct']\n",
    "                    df.ix[idx, 'globDedisptsStatsNegCnt'] = globalDedispTimeStats['negCount']\n",
    "                    df.ix[idx, 'globDedisptsStatsRatio1'] = globalDedispTimeStats['maxMinRatio']\n",
    "                    df.ix[idx, 'globDedisptsStatsMean'] = globalDedispTimeStats['mean']\n",
    "                    \n",
    "                    # Statistics of 16 segments of the DM-0 time series\n",
    "                    windZeros = np.zeros(16) #empty matrix\n",
    "                    windTime = metaDict.get('windTimeStats',{'std':windZeros, 'max':windZeros, \\\n",
    "                                                             'min':windZeros, 'snr':windZeros, \\\n",
    "                                                             'mean':windZeros})\n",
    "                    for i in range(16):\n",
    "                        df.ix[idx, 'windTimeStatsStd'+str(i)] = windTime['std'][i]\n",
    "                        df.ix[idx, 'windTimeStatsMax'+str(i)] = windTime['max'][i]\n",
    "                        df.ix[idx, 'windTimeStatsMin'+str(i)] = windTime['min'][i]\n",
    "                        df.ix[idx, 'windTimeStatsSnr'+str(i)] = windTime['snr'][i]\n",
    "                        df.ix[idx, 'windTimeStatsMean'+str(i)] = windTime['mean'][i]\n",
    "                        \n",
    "                    # Statistics of 16 segments of the best DM time series\n",
    "                    windDedispTime = metaDict.get('windDedispTimeStats',{'std':windZeros, 'max':windZeros,\\\n",
    "                                                                         'min':windZeros, 'snr':windZeros,\\\n",
    "                                                                         'mean':windZeros})\n",
    "                    for i in range(16):\n",
    "                        df.ix[idx, 'windDedispTimeStatsStd'+str(i)] = windDedispTime['std'][i] #concatenates each label with its corresponding number\n",
    "                        df.ix[idx, 'windDedispTimeStatsMax'+str(i)] = windDedispTime['max'][i]\n",
    "                        df.ix[idx, 'windDedispTimeStatsMin'+str(i)] = windDedispTime['min'][i]\n",
    "                        df.ix[idx, 'windDedispTimeStatsSnr'+str(i)] = windDedispTime['snr'][i]\n",
    "                        df.ix[idx, 'windDedispTimeStatsMean'+str(i)] = windDedispTime['mean'][i]\n",
    "                    \n",
    "                    # Statistics of the coarsely pixelized spectrogram\n",
    "                    pixelZeros = np.zeros((16, 4))\n",
    "                    pixels = metaDict.get('pixels',{'max':pixelZeros, 'min':pixelZeros, 'mean':pixelZeros})\n",
    "                    for i in range(16):\n",
    "                        for j in range(4):\n",
    "                            df.ix[idx, 'pixelMax_%i_%i'%(i,j)] = pixels['max'][i][j] #what argument specifier is %i??\n",
    "                            df.ix[idx, 'pixelMin_%i_%i'%(i,j)] = pixels['max'][i][j]\n",
    "                            df.ix[idx, 'pixelMean_%i_%i'%(i,j)] = pixels['max'][i][j]"
   ]
  },
  {
   "cell_type": "code",
   "execution_count": null,
   "metadata": {
    "collapsed": true
   },
   "outputs": [],
   "source": [
    "print df['pixelMin_1_0'].dropna()\n",
    "#print df"
   ]
  },
  {
   "cell_type": "markdown",
   "metadata": {},
   "source": [
    "#### Add labels"
   ]
  },
  {
   "cell_type": "code",
   "execution_count": null,
   "metadata": {
    "collapsed": true
   },
   "outputs": [],
   "source": [
    "# output of labelImg2.py\n",
    "labelPKlFiles = glob.glob(BASE_DATA_PATH + 'allLabels/*.pkl')\n",
    "\n",
    "# add assigned labels to main dataframe\n",
    "for lPkl in labelPKlFiles:\n",
    "    print 'Reading labels from', lPkl\n",
    "    labelDict = pickle.load(open(lPkl, 'rb'))\n",
    "    for key,val in labelDict.iteritems():\n",
    "        fbFN = key.split('buffer')[0] + 'fil'\n",
    "        bufID = int(key.split('.')[1].split('buffer')[-1])\n",
    "        df.loc[(df['filterbank']==fbFN) & (df['Buffer']==bufID), 'Label'] = val"
   ]
  },
  {
   "cell_type": "code",
   "execution_count": null,
   "metadata": {
    "collapsed": true
   },
   "outputs": [],
   "source": [
    "print df['Label'].describe()"
   ]
  },
  {
   "cell_type": "markdown",
   "metadata": {},
   "source": [
    "#### Save combined dataframe to file\n",
    "\n",
    "This would be a good point to split into a new notebook as the previous setups have been run to combine the various labels and features into a single dataframe. We will likely not need to re-run this code often, and as it takes a few minutes to run we can just save the final dataframe to file. Then use that dataframe as the starting point for the model."
   ]
  },
  {
   "cell_type": "code",
   "execution_count": null,
   "metadata": {
    "collapsed": true
   },
   "outputs": [],
   "source": [
    "df.to_pickle('featureDataframeInigo.pkl')"
   ]
  }
 ],
 "metadata": {
  "kernelspec": {
   "display_name": "Python 2",
   "language": "python",
   "name": "python2"
  },
  "language_info": {
   "codemirror_mode": {
    "name": "ipython",
    "version": 2
   },
   "file_extension": ".py",
   "mimetype": "text/x-python",
   "name": "python",
   "nbconvert_exporter": "python",
   "pygments_lexer": "ipython2",
   "version": "2.7.13"
  }
 },
 "nbformat": 4,
 "nbformat_minor": 2
}
