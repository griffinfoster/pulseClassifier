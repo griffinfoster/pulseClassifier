{
 "cells": [
  {
   "cell_type": "markdown",
   "metadata": {
    "deletable": true,
    "editable": true
   },
   "source": [
    "## Generate Filenames\n",
    "\n",
    "Generate a list of filenames for all labelled events"
   ]
  },
  {
   "cell_type": "code",
   "execution_count": 1,
   "metadata": {
    "collapsed": true,
    "deletable": true,
    "editable": true
   },
   "outputs": [],
   "source": [
    "import numpy as np\n",
    "import pandas as pd\n",
    "import matplotlib.pyplot as plt\n",
    "import cPickle as pickle\n",
    "import os\n",
    "\n",
    "%matplotlib inline"
   ]
  },
  {
   "cell_type": "code",
   "execution_count": 2,
   "metadata": {
    "collapsed": true,
    "deletable": true,
    "editable": true
   },
   "outputs": [],
   "source": [
    "BASE_DATA_PATH = '/home/griffin/projects/pulseClassifier/data/'"
   ]
  },
  {
   "cell_type": "code",
   "execution_count": 3,
   "metadata": {
    "collapsed": false,
    "deletable": true,
    "editable": true
   },
   "outputs": [],
   "source": [
    "baseBufferPklFile = BASE_DATA_PATH + 'featureDateframe.pkl'\n",
    "\n",
    "# load baseBufferPkl\n",
    "df = pd.read_pickle(baseBufferPklFile)"
   ]
  },
  {
   "cell_type": "code",
   "execution_count": 4,
   "metadata": {
    "collapsed": false,
    "deletable": true,
    "editable": true
   },
   "outputs": [
    {
     "data": {
      "text/plain": [
       "Index([u'datfile', u'Beam', u'TSID', u'Buffer', u'MJDstart', u'bestDM',\n",
       "       u'bestSNR', u'BinFactor', u'Events', u'DMmax',\n",
       "       ...\n",
       "       u'pixelsMean133', u'pixelsMean140', u'pixelsMean141', u'pixelsMean142',\n",
       "       u'pixelsMean143', u'pixelsMean150', u'pixelsMean151', u'pixelsMean152',\n",
       "       u'pixelsMean153', u'DMin'],\n",
       "      dtype='object', length=407)"
      ]
     },
     "execution_count": 4,
     "metadata": {},
     "output_type": "execute_result"
    }
   ],
   "source": [
    "df.columns"
   ]
  },
  {
   "cell_type": "code",
   "execution_count": 5,
   "metadata": {
    "collapsed": false,
    "deletable": true,
    "editable": true
   },
   "outputs": [],
   "source": [
    "dfLabelled = df[df['Label']>-1]"
   ]
  },
  {
   "cell_type": "code",
   "execution_count": 6,
   "metadata": {
    "collapsed": false
   },
   "outputs": [
    {
     "data": {
      "text/plain": [
       "(15070, 407)"
      ]
     },
     "execution_count": 6,
     "metadata": {},
     "output_type": "execute_result"
    }
   ],
   "source": [
    "dfLabelled.shape"
   ]
  },
  {
   "cell_type": "code",
   "execution_count": 7,
   "metadata": {
    "collapsed": false,
    "deletable": true,
    "editable": true
   },
   "outputs": [],
   "source": [
    "dfLabelled.to_csv('filterbanksLabelled.csv', columns=['filterbank','Buffer'], header=False, index=False)"
   ]
  },
  {
   "cell_type": "markdown",
   "metadata": {
    "deletable": true,
    "editable": true
   },
   "source": [
    "### Generate Copy scripts"
   ]
  },
  {
   "cell_type": "code",
   "execution_count": 8,
   "metadata": {
    "collapsed": true,
    "deletable": true,
    "editable": true
   },
   "outputs": [],
   "source": [
    "headerStr = '#!/bin/bash\\n\\n'\n",
    "abc0Str = headerStr\n",
    "abc1Str = headerStr\n",
    "abc2Str = headerStr\n",
    "abc3Str = headerStr"
   ]
  },
  {
   "cell_type": "code",
   "execution_count": 9,
   "metadata": {
    "collapsed": true,
    "deletable": true,
    "editable": true
   },
   "outputs": [],
   "source": [
    "for idx,row in dfLabelled.iterrows():\n",
    "    fbPrefix = row.filterbank.split('.fil')[0]\n",
    "    cpImgStr = 'cp /databk/pipeline/output/%s.buffer%i.d%i.png .\\n'%(fbPrefix, row.Buffer, row.BinFactor)\n",
    "    cpFeatStr = 'cp /databk/pipeline/output/%s.buffer%i.meta.pkl .\\n'%(fbPrefix, row.Buffer)\n",
    "    \n",
    "    if row.Beam == 0 or row.Beam==1: abc0Str += cpImgStr + cpFeatStr\n",
    "    elif row.Beam == 2 or row.Beam==3: abc1Str += cpImgStr + cpFeatStr\n",
    "    elif row.Beam == 4 or row.Beam==5: abc2Str += cpImgStr + cpFeatStr\n",
    "    elif row.Beam == 6: abc3Str += cpImgStr + cpFeatStr"
   ]
  },
  {
   "cell_type": "code",
   "execution_count": 11,
   "metadata": {
    "collapsed": false,
    "deletable": true,
    "editable": true
   },
   "outputs": [],
   "source": [
    "open('copyLabelledabc0.sh','w').write(abc0Str)\n",
    "open('copyLabelledabc1.sh','w').write(abc1Str)\n",
    "open('copyLabelledabc2.sh','w').write(abc2Str)\n",
    "open('copyLabelledabc3.sh','w').write(abc3Str)"
   ]
  }
 ],
 "metadata": {
  "kernelspec": {
   "display_name": "Python 2",
   "language": "python",
   "name": "python2"
  },
  "language_info": {
   "codemirror_mode": {
    "name": "ipython",
    "version": 2
   },
   "file_extension": ".py",
   "mimetype": "text/x-python",
   "name": "python",
   "nbconvert_exporter": "python",
   "pygments_lexer": "ipython2",
   "version": "2.7.12"
  }
 },
 "nbformat": 4,
 "nbformat_minor": 2
}
