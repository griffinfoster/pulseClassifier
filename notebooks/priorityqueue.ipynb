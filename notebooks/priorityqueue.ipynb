{
 "cells": [
  {
   "cell_type": "markdown",
   "metadata": {},
   "source": [
    "## Priority Queue\n",
    "\n",
    "Creates a priority queue of time series to be analysed based on their probability of being an astrophysical source."
   ]
  },
  {
   "cell_type": "markdown",
   "metadata": {},
   "source": [
    "#### Import packages and read in pre-processed dataframes/arrays"
   ]
  },
  {
   "cell_type": "code",
   "execution_count": 1,
   "metadata": {
    "collapsed": true
   },
   "outputs": [],
   "source": [
    "import sklearn.ensemble\n",
    "import sklearn.multiclass\n",
    "import sklearn.model_selection\n",
    "import numpy as np\n",
    "import pandas as pd\n",
    "import os\n",
    "\n",
    "unlabelledDf = pd.read_pickle('./processed.files/raw/unlabelledDf')\n",
    "preProcFeats = np.load('./processed.files/labelled/features.npy')\n",
    "preProcLabels = np.load('./processed.files/labelled/labels.npy')\n",
    "rawfeats = np.load('./processed.files/raw/features.npy')"
   ]
  },
  {
   "cell_type": "markdown",
   "metadata": {},
   "source": [
    "#### Use the RandomForest method to fit the OneVsRest classifier on all of the data"
   ]
  },
  {
   "cell_type": "code",
   "execution_count": 5,
   "metadata": {
    "collapsed": true
   },
   "outputs": [],
   "source": [
    "randForest = sklearn.multiclass.OneVsRestClassifier(sklearn.ensemble.RandomForestClassifier()) #classifier for multiple labels\n",
    "\n",
    "clf = sklearn.multiclass.OneVsRestClassifier(estimator=sklearn.ensemble.RandomForestClassifier(bootstrap=True, \n",
    "            class_weight=None, criterion='gini',\n",
    "            max_depth=None, max_features='auto', max_leaf_nodes=None,\n",
    "            min_impurity_decrease=0.0, min_impurity_split=None,\n",
    "            min_samples_leaf=1, min_samples_split=2,\n",
    "            min_weight_fraction_leaf=0.0, n_estimators=80, n_jobs=-1,\n",
    "            oob_score=False, random_state=420, verbose=0,\n",
    "            warm_start=False),\n",
    "            n_jobs=1)\n",
    "\n",
    "fitmodel = clf.fit(preProcFeats, preProcLabels)"
   ]
  },
  {
   "cell_type": "code",
   "execution_count": 3,
   "metadata": {},
   "outputs": [
    {
     "name": "stdout",
     "output_type": "stream",
     "text": [
      "['datfile' 'Beam' 'TSID' 'Buffer' 'MJDstart' 'bestDM' 'bestSNR' 'BinFactor'\n",
      " 'Events' 'DMmax' 'DMmin' 'DMmean' 'DMmedian' 'DMstd' 'SNRmean' 'SNRmedian'\n",
      " 'SNRstd' 'MJDmax' 'MJDmin' 'MJDstd' 'MJDmean' 'MJDmedian' 'Label'\n",
      " 'predictLabel' 'filterbank' 'pctZero' 'pctZeroDeriv' 'ofCount' 'ofPct'\n",
      " 'longestRun0' 'longestRun1' 'longestRun2' 'globtsStatsStd'\n",
      " 'globtsStatsMax' 'globtsStatsPosCnt' 'globtsStatsMin' 'globtsStatsNegPct'\n",
      " 'globtsStatsMedian' 'globtsStatsRatio0' 'globtsStatsPosPct'\n",
      " 'globtsStatsNegCnt' 'globtsStatsRatio1' 'globtsStatsMean'\n",
      " 'globDedisptsStatsStd' 'globDedisptsStatsMax' 'globDedisptsStatsPosCnt'\n",
      " 'globDedisptsStatsMin' 'globDedisptsStatsNegPct' 'globDedisptsStatsMedian'\n",
      " 'globDedisptsStatsRatio0' 'globDedisptsStatsPosPct'\n",
      " 'globDedisptsStatsNegCnt' 'globDedisptsStatsRatio1'\n",
      " 'globDedisptsStatsMean' 'windTimeStatsStd0' 'windTimeStatsStd1'\n",
      " 'windTimeStatsStd2' 'windTimeStatsStd3' 'windTimeStatsStd4'\n",
      " 'windTimeStatsStd5' 'windTimeStatsStd6' 'windTimeStatsStd7'\n",
      " 'windTimeStatsStd8' 'windTimeStatsStd9' 'windTimeStatsStd10'\n",
      " 'windTimeStatsStd11' 'windTimeStatsStd12' 'windTimeStatsStd13'\n",
      " 'windTimeStatsStd14' 'windTimeStatsStd15' 'windTimeStatsMax0'\n",
      " 'windTimeStatsMax1' 'windTimeStatsMax2' 'windTimeStatsMax3'\n",
      " 'windTimeStatsMax4' 'windTimeStatsMax5' 'windTimeStatsMax6'\n",
      " 'windTimeStatsMax7' 'windTimeStatsMax8' 'windTimeStatsMax9'\n",
      " 'windTimeStatsMax10' 'windTimeStatsMax11' 'windTimeStatsMax12'\n",
      " 'windTimeStatsMax13' 'windTimeStatsMax14' 'windTimeStatsMax15'\n",
      " 'windTimeStatsMin0' 'windTimeStatsMin1' 'windTimeStatsMin2'\n",
      " 'windTimeStatsMin3' 'windTimeStatsMin4' 'windTimeStatsMin5'\n",
      " 'windTimeStatsMin6' 'windTimeStatsMin7' 'windTimeStatsMin8'\n",
      " 'windTimeStatsMin9' 'windTimeStatsMin10' 'windTimeStatsMin11'\n",
      " 'windTimeStatsMin12' 'windTimeStatsMin13' 'windTimeStatsMin14'\n",
      " 'windTimeStatsMin15' 'windTimeStatsSnr0' 'windTimeStatsSnr1'\n",
      " 'windTimeStatsSnr2' 'windTimeStatsSnr3' 'windTimeStatsSnr4'\n",
      " 'windTimeStatsSnr5' 'windTimeStatsSnr6' 'windTimeStatsSnr7'\n",
      " 'windTimeStatsSnr8' 'windTimeStatsSnr9' 'windTimeStatsSnr10'\n",
      " 'windTimeStatsSnr11' 'windTimeStatsSnr12' 'windTimeStatsSnr13'\n",
      " 'windTimeStatsSnr14' 'windTimeStatsSnr15' 'windTimeStatsMean0'\n",
      " 'windTimeStatsMean1' 'windTimeStatsMean2' 'windTimeStatsMean3'\n",
      " 'windTimeStatsMean4' 'windTimeStatsMean5' 'windTimeStatsMean6'\n",
      " 'windTimeStatsMean7' 'windTimeStatsMean8' 'windTimeStatsMean9'\n",
      " 'windTimeStatsMean10' 'windTimeStatsMean11' 'windTimeStatsMean12'\n",
      " 'windTimeStatsMean13' 'windTimeStatsMean14' 'windTimeStatsMean15'\n",
      " 'windDedispTimeStatsStd0' 'windDedispTimeStatsStd1'\n",
      " 'windDedispTimeStatsStd2' 'windDedispTimeStatsStd3'\n",
      " 'windDedispTimeStatsStd4' 'windDedispTimeStatsStd5'\n",
      " 'windDedispTimeStatsStd6' 'windDedispTimeStatsStd7'\n",
      " 'windDedispTimeStatsStd8' 'windDedispTimeStatsStd9'\n",
      " 'windDedispTimeStatsStd10' 'windDedispTimeStatsStd11'\n",
      " 'windDedispTimeStatsStd12' 'windDedispTimeStatsStd13'\n",
      " 'windDedispTimeStatsStd14' 'windDedispTimeStatsStd15'\n",
      " 'windDedispTimeStatsMax0' 'windDedispTimeStatsMax1'\n",
      " 'windDedispTimeStatsMax2' 'windDedispTimeStatsMax3'\n",
      " 'windDedispTimeStatsMax4' 'windDedispTimeStatsMax5'\n",
      " 'windDedispTimeStatsMax6' 'windDedispTimeStatsMax7'\n",
      " 'windDedispTimeStatsMax8' 'windDedispTimeStatsMax9'\n",
      " 'windDedispTimeStatsMax10' 'windDedispTimeStatsMax11'\n",
      " 'windDedispTimeStatsMax12' 'windDedispTimeStatsMax13'\n",
      " 'windDedispTimeStatsMax14' 'windDedispTimeStatsMax15'\n",
      " 'windDedispTimeStatsMin0' 'windDedispTimeStatsMin1'\n",
      " 'windDedispTimeStatsMin2' 'windDedispTimeStatsMin3'\n",
      " 'windDedispTimeStatsMin4' 'windDedispTimeStatsMin5'\n",
      " 'windDedispTimeStatsMin6' 'windDedispTimeStatsMin7'\n",
      " 'windDedispTimeStatsMin8' 'windDedispTimeStatsMin9'\n",
      " 'windDedispTimeStatsMin10' 'windDedispTimeStatsMin11'\n",
      " 'windDedispTimeStatsMin12' 'windDedispTimeStatsMin13'\n",
      " 'windDedispTimeStatsMin14' 'windDedispTimeStatsMin15'\n",
      " 'windDedispTimeStatsSnr0' 'windDedispTimeStatsSnr1'\n",
      " 'windDedispTimeStatsSnr2' 'windDedispTimeStatsSnr3'\n",
      " 'windDedispTimeStatsSnr4' 'windDedispTimeStatsSnr5'\n",
      " 'windDedispTimeStatsSnr6' 'windDedispTimeStatsSnr7'\n",
      " 'windDedispTimeStatsSnr8' 'windDedispTimeStatsSnr9'\n",
      " 'windDedispTimeStatsSnr10' 'windDedispTimeStatsSnr11'\n",
      " 'windDedispTimeStatsSnr12' 'windDedispTimeStatsSnr13'\n",
      " 'windDedispTimeStatsSnr14' 'windDedispTimeStatsSnr15'\n",
      " 'windDedispTimeStatsMean0' 'windDedispTimeStatsMean1'\n",
      " 'windDedispTimeStatsMean2' 'windDedispTimeStatsMean3'\n",
      " 'windDedispTimeStatsMean4' 'windDedispTimeStatsMean5'\n",
      " 'windDedispTimeStatsMean6' 'windDedispTimeStatsMean7'\n",
      " 'windDedispTimeStatsMean8' 'windDedispTimeStatsMean9'\n",
      " 'windDedispTimeStatsMean10' 'windDedispTimeStatsMean11'\n",
      " 'windDedispTimeStatsMean12' 'windDedispTimeStatsMean13'\n",
      " 'windDedispTimeStatsMean14' 'windDedispTimeStatsMean15' 'pixelsMax00'\n",
      " 'pixelsMax01' 'pixelsMax02' 'pixelsMax03' 'pixelsMax10' 'pixelsMax11'\n",
      " 'pixelsMax12' 'pixelsMax13' 'pixelsMax20' 'pixelsMax21' 'pixelsMax22'\n",
      " 'pixelsMax23' 'pixelsMax30' 'pixelsMax31' 'pixelsMax32' 'pixelsMax33'\n",
      " 'pixelsMax40' 'pixelsMax41' 'pixelsMax42' 'pixelsMax43' 'pixelsMax50'\n",
      " 'pixelsMax51' 'pixelsMax52' 'pixelsMax53' 'pixelsMax60' 'pixelsMax61'\n",
      " 'pixelsMax62' 'pixelsMax63' 'pixelsMax70' 'pixelsMax71' 'pixelsMax72'\n",
      " 'pixelsMax73' 'pixelsMax80' 'pixelsMax81' 'pixelsMax82' 'pixelsMax83'\n",
      " 'pixelsMax90' 'pixelsMax91' 'pixelsMax92' 'pixelsMax93' 'pixelsMax100'\n",
      " 'pixelsMax101' 'pixelsMax102' 'pixelsMax103' 'pixelsMax110' 'pixelsMax111'\n",
      " 'pixelsMax112' 'pixelsMax113' 'pixelsMax120' 'pixelsMax121' 'pixelsMax122'\n",
      " 'pixelsMax123' 'pixelsMax130' 'pixelsMax131' 'pixelsMax132' 'pixelsMax133'\n",
      " 'pixelsMax140' 'pixelsMax141' 'pixelsMax142' 'pixelsMax143' 'pixelsMax150'\n",
      " 'pixelsMax151' 'pixelsMax152' 'pixelsMax153' 'pixelsMin00' 'pixelsMin01'\n",
      " 'pixelsMin02' 'pixelsMin03' 'pixelsMin10' 'pixelsMin11' 'pixelsMin12'\n",
      " 'pixelsMin13' 'pixelsMin20' 'pixelsMin21' 'pixelsMin22' 'pixelsMin23'\n",
      " 'pixelsMin30' 'pixelsMin31' 'pixelsMin32' 'pixelsMin33' 'pixelsMin40'\n",
      " 'pixelsMin41' 'pixelsMin42' 'pixelsMin43' 'pixelsMin50' 'pixelsMin51'\n",
      " 'pixelsMin52' 'pixelsMin53' 'pixelsMin60' 'pixelsMin61' 'pixelsMin62'\n",
      " 'pixelsMin63' 'pixelsMin70' 'pixelsMin71' 'pixelsMin72' 'pixelsMin73'\n",
      " 'pixelsMin80' 'pixelsMin81' 'pixelsMin82' 'pixelsMin83' 'pixelsMin90'\n",
      " 'pixelsMin91' 'pixelsMin92' 'pixelsMin93' 'pixelsMin100' 'pixelsMin101'\n",
      " 'pixelsMin102' 'pixelsMin103' 'pixelsMin110' 'pixelsMin111' 'pixelsMin112'\n",
      " 'pixelsMin113' 'pixelsMin120' 'pixelsMin121' 'pixelsMin122' 'pixelsMin123'\n",
      " 'pixelsMin130' 'pixelsMin131' 'pixelsMin132' 'pixelsMin133' 'pixelsMin140'\n",
      " 'pixelsMin141' 'pixelsMin142' 'pixelsMin143' 'pixelsMin150' 'pixelsMin151'\n",
      " 'pixelsMin152' 'pixelsMin153' 'pixelsMean00' 'pixelsMean01' 'pixelsMean02'\n",
      " 'pixelsMean03' 'pixelsMean10' 'pixelsMean11' 'pixelsMean12' 'pixelsMean13'\n",
      " 'pixelsMean20' 'pixelsMean21' 'pixelsMean22' 'pixelsMean23' 'pixelsMean30'\n",
      " 'pixelsMean31' 'pixelsMean32' 'pixelsMean33' 'pixelsMean40' 'pixelsMean41'\n",
      " 'pixelsMean42' 'pixelsMean43' 'pixelsMean50' 'pixelsMean51' 'pixelsMean52'\n",
      " 'pixelsMean53' 'pixelsMean60' 'pixelsMean61' 'pixelsMean62' 'pixelsMean63'\n",
      " 'pixelsMean70' 'pixelsMean71' 'pixelsMean72' 'pixelsMean73' 'pixelsMean80'\n",
      " 'pixelsMean81' 'pixelsMean82' 'pixelsMean83' 'pixelsMean90' 'pixelsMean91'\n",
      " 'pixelsMean92' 'pixelsMean93' 'pixelsMean100' 'pixelsMean101'\n",
      " 'pixelsMean102' 'pixelsMean103' 'pixelsMean110' 'pixelsMean111'\n",
      " 'pixelsMean112' 'pixelsMean113' 'pixelsMean120' 'pixelsMean121'\n",
      " 'pixelsMean122' 'pixelsMean123' 'pixelsMean130' 'pixelsMean131'\n",
      " 'pixelsMean132' 'pixelsMean133' 'pixelsMean140' 'pixelsMean141'\n",
      " 'pixelsMean142' 'pixelsMean143' 'pixelsMean150' 'pixelsMean151'\n",
      " 'pixelsMean152' 'pixelsMean153' 'DMin' 'relMJDmax' 'relMJDmean'\n",
      " 'relMJDmedian']\n"
     ]
    }
   ],
   "source": [
    "print unlabelledDf.columns.values"
   ]
  },
  {
   "cell_type": "markdown",
   "metadata": {},
   "source": [
    "#### Predict probabilities to be in class 9, add them to the dataframe, sort by descending probability, export dataframe and write to text file"
   ]
  },
  {
   "cell_type": "code",
   "execution_count": 4,
   "metadata": {
    "collapsed": true,
    "scrolled": true
   },
   "outputs": [],
   "source": [
    "pred = fitmodel.predict_proba(rawfeats)\n",
    "pred9 = pred[:,7]\n",
    "\n",
    "unlabelledDf['P(class9)'] = pred9\n",
    "\n",
    "sortedDf = unlabelledDf.sort_values('P(class9)', axis = 0,  ascending = False)\n",
    "\n",
    "filterbanks = sortedDf[['filterbank', 'datfile', 'BinFactor', 'bestDM', 'P(class9)']]\n",
    "\n",
    "filterbanks.to_pickle('./processed.files/raw/priorityqueue')\n",
    "\n",
    "base_filename = 'priorityqueue.txt'\n",
    "with open(os.path.join('./processed.files/raw/', base_filename),'w') as outfile:\n",
    "    filterbanks.to_string(outfile)"
   ]
  }
 ],
 "metadata": {
  "kernelspec": {
   "display_name": "Python 2",
   "language": "python",
   "name": "python2"
  },
  "language_info": {
   "codemirror_mode": {
    "name": "ipython",
    "version": 2
   },
   "file_extension": ".py",
   "mimetype": "text/x-python",
   "name": "python",
   "nbconvert_exporter": "python",
   "pygments_lexer": "ipython2",
   "version": "2.7.13"
  }
 },
 "nbformat": 4,
 "nbformat_minor": 2
}
