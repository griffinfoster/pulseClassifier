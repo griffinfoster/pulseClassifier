{
 "cells": [
  {
   "cell_type": "code",
   "execution_count": 89,
   "metadata": {
    "collapsed": true
   },
   "outputs": [],
   "source": [
    "import numpy as np\n",
    "import time"
   ]
  },
  {
   "cell_type": "markdown",
   "metadata": {},
   "source": [
    "### Randomly generate two arrays"
   ]
  },
  {
   "cell_type": "code",
   "execution_count": 90,
   "metadata": {},
   "outputs": [],
   "source": [
    "arr1 = np.random.randint(1, 10000, size=4000)\n",
    "arr2 = np.random.randint(1, 10000, size=4000)"
   ]
  },
  {
   "cell_type": "markdown",
   "metadata": {},
   "source": [
    "### Measure time taken to do sorted array subtraction"
   ]
  },
  {
   "cell_type": "code",
   "execution_count": 91,
   "metadata": {},
   "outputs": [
    {
     "name": "stdout",
     "output_type": "stream",
     "text": [
      "0.000614881515503\n"
     ]
    }
   ],
   "source": [
    "start1 = time.time()\n",
    "\n",
    "sortarr2 = np.sort(arr2)\n",
    "diffarr = abs(arr1 - sortarr2)\n",
    "dmax = np.amax(diffarr)\n",
    "dsum = np.sum(diffarr)\n",
    "\n",
    "end1 = time.time()\n",
    "\n",
    "subtime = end1 - start1\n",
    "print subtime"
   ]
  },
  {
   "cell_type": "markdown",
   "metadata": {},
   "source": [
    "### Measure time taken for cross correlation"
   ]
  },
  {
   "cell_type": "code",
   "execution_count": 92,
   "metadata": {},
   "outputs": [
    {
     "name": "stdout",
     "output_type": "stream",
     "text": [
      "0.000242948532104\n"
     ]
    }
   ],
   "source": [
    "start = time.time()\n",
    "\n",
    "corrarr = np.correlate(arr1, arr2)\n",
    "\n",
    "end = time.time()\n",
    "\n",
    "corrtime = end - start\n",
    "print corrtime"
   ]
  },
  {
   "cell_type": "markdown",
   "metadata": {},
   "source": [
    "### Compute ratio and difference in computation time"
   ]
  },
  {
   "cell_type": "code",
   "execution_count": 93,
   "metadata": {},
   "outputs": [
    {
     "name": "stdout",
     "output_type": "stream",
     "text": [
      "2.53091265947\n",
      "0.000371932983398\n"
     ]
    }
   ],
   "source": [
    "ratio = subtime/corrtime\n",
    "diff = subtime - corrtime\n",
    "\n",
    "print ratio\n",
    "print diff"
   ]
  },
  {
   "cell_type": "markdown",
   "metadata": {},
   "source": [
    "### DO THE SAME FOR LARGER ARRAYS"
   ]
  },
  {
   "cell_type": "code",
   "execution_count": 94,
   "metadata": {
    "collapsed": true
   },
   "outputs": [],
   "source": [
    "arr1 = np.random.randint(1, 10000, size=32768)\n",
    "arr2 = np.random.randint(1, 10000, size=32768)"
   ]
  },
  {
   "cell_type": "markdown",
   "metadata": {},
   "source": [
    "### Measure time taken to do sorted array subtraction"
   ]
  },
  {
   "cell_type": "code",
   "execution_count": 95,
   "metadata": {},
   "outputs": [
    {
     "name": "stdout",
     "output_type": "stream",
     "text": [
      "0.00261902809143\n"
     ]
    }
   ],
   "source": [
    "start = time.time()\n",
    "\n",
    "sortarr2 = np.sort(arr2)\n",
    "diffarr = abs(arr1 - sortarr2)\n",
    "dmax = np.amax(diffarr)\n",
    "dsum = np.sum(diffarr)\n",
    "\n",
    "end = time.time()\n",
    "\n",
    "bigsubtime = end - start\n",
    "print bigsubtime"
   ]
  },
  {
   "cell_type": "markdown",
   "metadata": {},
   "source": [
    "### Measure time taken for cross correlation"
   ]
  },
  {
   "cell_type": "code",
   "execution_count": 96,
   "metadata": {
    "scrolled": true
   },
   "outputs": [
    {
     "name": "stdout",
     "output_type": "stream",
     "text": [
      "0.000202178955078\n"
     ]
    }
   ],
   "source": [
    "start = time.time()\n",
    "\n",
    "corrarr = np.correlate(arr1, arr2)\n",
    "end = time.time()\n",
    "\n",
    "bigcorrtime = end - start\n",
    "print bigcorrtime"
   ]
  },
  {
   "cell_type": "markdown",
   "metadata": {},
   "source": [
    "### Compute ratio and difference in computation time"
   ]
  },
  {
   "cell_type": "code",
   "execution_count": 98,
   "metadata": {},
   "outputs": [
    {
     "name": "stdout",
     "output_type": "stream",
     "text": [
      "2.53091265947\n",
      "0.000371932983398\n",
      "ratio of time taken to subtract large arrays to time taken of small arrays: 4.25940286933\n"
     ]
    }
   ],
   "source": [
    "ratio = subtime/corrtime\n",
    "diff = subtime - corrtime\n",
    "\n",
    "print ratio\n",
    "print diff\n",
    "\n",
    "print 'ratio of time taken to subtract large arrays to time taken of small arrays: ' + str(bigsubtime/subtime)"
   ]
  },
  {
   "cell_type": "code",
   "execution_count": null,
   "metadata": {
    "collapsed": true
   },
   "outputs": [],
   "source": []
  }
 ],
 "metadata": {
  "kernelspec": {
   "display_name": "Python 2",
   "language": "python",
   "name": "python2"
  },
  "language_info": {
   "codemirror_mode": {
    "name": "ipython",
    "version": 2
   },
   "file_extension": ".py",
   "mimetype": "text/x-python",
   "name": "python",
   "nbconvert_exporter": "python",
   "pygments_lexer": "ipython2",
   "version": "2.7.13"
  }
 },
 "nbformat": 4,
 "nbformat_minor": 2
}
