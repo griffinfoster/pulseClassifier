{
 "cells": [
  {
   "cell_type": "markdown",
   "metadata": {},
   "source": [
    "## Prioritizer Model\n",
    "\n",
    "Trained model for classification and prioritization for ALFABURST events based on the labelled feature set from  featureBuilder.ipynb.\n",
    "\n",
    "### Classifier model\n",
    "\n",
    "Probabalistic classifier using random forests.\n",
    "\n",
    "### Labels\n",
    "\n",
    "#### RFI\n",
    "\n",
    "* 1 : Unclipped RFI/Noise\n",
    "* 2 : Wide-band, long-duration in time clipped RFI (2016+)\n",
    "* 3 : Wide-band, short-duration in time clipped RFI (2016+)\n",
    "* 4 : Wide-band, short duration clipped RFI (2015)\n",
    "* 5 : Sharp bandpass transition\n",
    "* 6 : Wide-band, bursty clipped RFI (2015)\n",
    "* 7 : Error in spectra captue or replacement\n",
    "* 8 : Systematic int/float overflow\n",
    "\n",
    "#### Astronomical\n",
    "\n",
    "* 0 : Interesting, follow up\n",
    "* 9 : Known Pulsar"
   ]
  },
  {
   "cell_type": "code",
   "execution_count": 9,
   "metadata": {
    "collapsed": true
   },
   "outputs": [],
   "source": [
    "import numpy as np\n",
    "import pandas as pd\n",
    "import matplotlib.pyplot as plt\n",
    "import seaborn as sns\n",
    "\n",
    "%matplotlib inline"
   ]
  },
  {
   "cell_type": "markdown",
   "metadata": {},
   "source": [
    "### Preamble\n",
    "\n",
    "Read in the dataframe and prepare the features for use in scikit-learn."
   ]
  },
  {
   "cell_type": "code",
   "execution_count": 10,
   "metadata": {},
   "outputs": [
    {
     "data": {
      "text/plain": [
       "u'0.20.3'"
      ]
     },
     "execution_count": 10,
     "metadata": {},
     "output_type": "execute_result"
    }
   ],
   "source": [
    "pd.__version__"
   ]
  },
  {
   "cell_type": "code",
   "execution_count": 11,
   "metadata": {
    "collapsed": true
   },
   "outputs": [],
   "source": [
    "df = pd.read_pickle('featureDataframeInigo.pkl')"
   ]
  },
  {
   "cell_type": "code",
   "execution_count": 12,
   "metadata": {},
   "outputs": [
    {
     "data": {
      "text/html": [
       "<div>\n",
       "<style>\n",
       "    .dataframe thead tr:only-child th {\n",
       "        text-align: right;\n",
       "    }\n",
       "\n",
       "    .dataframe thead th {\n",
       "        text-align: left;\n",
       "    }\n",
       "\n",
       "    .dataframe tbody tr th {\n",
       "        vertical-align: top;\n",
       "    }\n",
       "</style>\n",
       "<table border=\"1\" class=\"dataframe\">\n",
       "  <thead>\n",
       "    <tr style=\"text-align: right;\">\n",
       "      <th></th>\n",
       "      <th>Beam</th>\n",
       "      <th>Buffer</th>\n",
       "      <th>MJDstart</th>\n",
       "      <th>bestDM</th>\n",
       "      <th>bestSNR</th>\n",
       "      <th>BinFactor</th>\n",
       "      <th>Events</th>\n",
       "      <th>DMmax</th>\n",
       "      <th>DMmin</th>\n",
       "      <th>DMmean</th>\n",
       "      <th>...</th>\n",
       "      <th>GaussianTestslsp</th>\n",
       "      <th>GaussianTestsdpearsonomni</th>\n",
       "      <th>GaussianTestskurtosis</th>\n",
       "      <th>segGaussianTestsdpearson</th>\n",
       "      <th>segGaussianTestslillieforsmaxp</th>\n",
       "      <th>segGaussianTestsdpearsonpsum</th>\n",
       "      <th>segGaussianTestslfDmin</th>\n",
       "      <th>segGaussianTestslillieforssum</th>\n",
       "      <th>segGaussianTestsdpearsonomnisum</th>\n",
       "      <th>segGaussianTestslillieforsmaxD</th>\n",
       "    </tr>\n",
       "  </thead>\n",
       "  <tbody>\n",
       "    <tr>\n",
       "      <th>count</th>\n",
       "      <td>92453.000000</td>\n",
       "      <td>92453.000000</td>\n",
       "      <td>92453.000000</td>\n",
       "      <td>92453.000000</td>\n",
       "      <td>92453.000000</td>\n",
       "      <td>92453.000000</td>\n",
       "      <td>9.245300e+04</td>\n",
       "      <td>92453.000000</td>\n",
       "      <td>92453.000000</td>\n",
       "      <td>92453.000000</td>\n",
       "      <td>...</td>\n",
       "      <td>15385.0</td>\n",
       "      <td>15385.0</td>\n",
       "      <td>15385.0</td>\n",
       "      <td>15385.0</td>\n",
       "      <td>15385.0</td>\n",
       "      <td>15385.0</td>\n",
       "      <td>15385.0</td>\n",
       "      <td>15385.0</td>\n",
       "      <td>15385.0</td>\n",
       "      <td>15385.0</td>\n",
       "    </tr>\n",
       "    <tr>\n",
       "      <th>mean</th>\n",
       "      <td>3.773150</td>\n",
       "      <td>218.654960</td>\n",
       "      <td>57495.859286</td>\n",
       "      <td>1826.484657</td>\n",
       "      <td>13.224055</td>\n",
       "      <td>14.522752</td>\n",
       "      <td>6.196611e+03</td>\n",
       "      <td>3221.769508</td>\n",
       "      <td>602.744697</td>\n",
       "      <td>1940.321632</td>\n",
       "      <td>...</td>\n",
       "      <td>0.0</td>\n",
       "      <td>0.0</td>\n",
       "      <td>0.0</td>\n",
       "      <td>0.0</td>\n",
       "      <td>0.0</td>\n",
       "      <td>0.0</td>\n",
       "      <td>0.0</td>\n",
       "      <td>0.0</td>\n",
       "      <td>0.0</td>\n",
       "      <td>0.0</td>\n",
       "    </tr>\n",
       "    <tr>\n",
       "      <th>std</th>\n",
       "      <td>2.379155</td>\n",
       "      <td>298.492012</td>\n",
       "      <td>261.931401</td>\n",
       "      <td>2913.489521</td>\n",
       "      <td>99.728634</td>\n",
       "      <td>18.036017</td>\n",
       "      <td>3.171940e+04</td>\n",
       "      <td>4171.687561</td>\n",
       "      <td>1497.618585</td>\n",
       "      <td>2638.089237</td>\n",
       "      <td>...</td>\n",
       "      <td>0.0</td>\n",
       "      <td>0.0</td>\n",
       "      <td>0.0</td>\n",
       "      <td>0.0</td>\n",
       "      <td>0.0</td>\n",
       "      <td>0.0</td>\n",
       "      <td>0.0</td>\n",
       "      <td>0.0</td>\n",
       "      <td>0.0</td>\n",
       "      <td>0.0</td>\n",
       "    </tr>\n",
       "    <tr>\n",
       "      <th>min</th>\n",
       "      <td>0.000000</td>\n",
       "      <td>1.000000</td>\n",
       "      <td>57197.378446</td>\n",
       "      <td>0.000000</td>\n",
       "      <td>6.001704</td>\n",
       "      <td>1.000000</td>\n",
       "      <td>1.000000e+00</td>\n",
       "      <td>3.000000</td>\n",
       "      <td>0.000000</td>\n",
       "      <td>3.000000</td>\n",
       "      <td>...</td>\n",
       "      <td>0.0</td>\n",
       "      <td>0.0</td>\n",
       "      <td>0.0</td>\n",
       "      <td>0.0</td>\n",
       "      <td>0.0</td>\n",
       "      <td>0.0</td>\n",
       "      <td>0.0</td>\n",
       "      <td>0.0</td>\n",
       "      <td>0.0</td>\n",
       "      <td>0.0</td>\n",
       "    </tr>\n",
       "    <tr>\n",
       "      <th>25%</th>\n",
       "      <td>1.000000</td>\n",
       "      <td>23.000000</td>\n",
       "      <td>57281.042274</td>\n",
       "      <td>9.000000</td>\n",
       "      <td>10.587121</td>\n",
       "      <td>2.000000</td>\n",
       "      <td>7.000000e+00</td>\n",
       "      <td>13.000000</td>\n",
       "      <td>5.000000</td>\n",
       "      <td>9.327869</td>\n",
       "      <td>...</td>\n",
       "      <td>0.0</td>\n",
       "      <td>0.0</td>\n",
       "      <td>0.0</td>\n",
       "      <td>0.0</td>\n",
       "      <td>0.0</td>\n",
       "      <td>0.0</td>\n",
       "      <td>0.0</td>\n",
       "      <td>0.0</td>\n",
       "      <td>0.0</td>\n",
       "      <td>0.0</td>\n",
       "    </tr>\n",
       "    <tr>\n",
       "      <th>50%</th>\n",
       "      <td>5.000000</td>\n",
       "      <td>107.000000</td>\n",
       "      <td>57350.285694</td>\n",
       "      <td>18.000000</td>\n",
       "      <td>11.497226</td>\n",
       "      <td>8.000000</td>\n",
       "      <td>6.900000e+01</td>\n",
       "      <td>347.000000</td>\n",
       "      <td>9.000000</td>\n",
       "      <td>138.544656</td>\n",
       "      <td>...</td>\n",
       "      <td>0.0</td>\n",
       "      <td>0.0</td>\n",
       "      <td>0.0</td>\n",
       "      <td>0.0</td>\n",
       "      <td>0.0</td>\n",
       "      <td>0.0</td>\n",
       "      <td>0.0</td>\n",
       "      <td>0.0</td>\n",
       "      <td>0.0</td>\n",
       "      <td>0.0</td>\n",
       "    </tr>\n",
       "    <tr>\n",
       "      <th>75%</th>\n",
       "      <td>6.000000</td>\n",
       "      <td>294.000000</td>\n",
       "      <td>57845.909094</td>\n",
       "      <td>2730.000000</td>\n",
       "      <td>13.102362</td>\n",
       "      <td>16.000000</td>\n",
       "      <td>1.496000e+03</td>\n",
       "      <td>8406.000000</td>\n",
       "      <td>426.000000</td>\n",
       "      <td>4433.132580</td>\n",
       "      <td>...</td>\n",
       "      <td>0.0</td>\n",
       "      <td>0.0</td>\n",
       "      <td>0.0</td>\n",
       "      <td>0.0</td>\n",
       "      <td>0.0</td>\n",
       "      <td>0.0</td>\n",
       "      <td>0.0</td>\n",
       "      <td>0.0</td>\n",
       "      <td>0.0</td>\n",
       "      <td>0.0</td>\n",
       "    </tr>\n",
       "    <tr>\n",
       "      <th>max</th>\n",
       "      <td>6.000000</td>\n",
       "      <td>2025.000000</td>\n",
       "      <td>57995.132488</td>\n",
       "      <td>10039.000000</td>\n",
       "      <td>20954.304688</td>\n",
       "      <td>64.000000</td>\n",
       "      <td>2.135578e+06</td>\n",
       "      <td>57287.182376</td>\n",
       "      <td>10039.000000</td>\n",
       "      <td>10039.000000</td>\n",
       "      <td>...</td>\n",
       "      <td>0.0</td>\n",
       "      <td>0.0</td>\n",
       "      <td>0.0</td>\n",
       "      <td>0.0</td>\n",
       "      <td>0.0</td>\n",
       "      <td>0.0</td>\n",
       "      <td>0.0</td>\n",
       "      <td>0.0</td>\n",
       "      <td>0.0</td>\n",
       "      <td>0.0</td>\n",
       "    </tr>\n",
       "  </tbody>\n",
       "</table>\n",
       "<p>8 rows × 417 columns</p>\n",
       "</div>"
      ],
      "text/plain": [
       "               Beam        Buffer      MJDstart        bestDM       bestSNR  \\\n",
       "count  92453.000000  92453.000000  92453.000000  92453.000000  92453.000000   \n",
       "mean       3.773150    218.654960  57495.859286   1826.484657     13.224055   \n",
       "std        2.379155    298.492012    261.931401   2913.489521     99.728634   \n",
       "min        0.000000      1.000000  57197.378446      0.000000      6.001704   \n",
       "25%        1.000000     23.000000  57281.042274      9.000000     10.587121   \n",
       "50%        5.000000    107.000000  57350.285694     18.000000     11.497226   \n",
       "75%        6.000000    294.000000  57845.909094   2730.000000     13.102362   \n",
       "max        6.000000   2025.000000  57995.132488  10039.000000  20954.304688   \n",
       "\n",
       "          BinFactor        Events         DMmax         DMmin        DMmean  \\\n",
       "count  92453.000000  9.245300e+04  92453.000000  92453.000000  92453.000000   \n",
       "mean      14.522752  6.196611e+03   3221.769508    602.744697   1940.321632   \n",
       "std       18.036017  3.171940e+04   4171.687561   1497.618585   2638.089237   \n",
       "min        1.000000  1.000000e+00      3.000000      0.000000      3.000000   \n",
       "25%        2.000000  7.000000e+00     13.000000      5.000000      9.327869   \n",
       "50%        8.000000  6.900000e+01    347.000000      9.000000    138.544656   \n",
       "75%       16.000000  1.496000e+03   8406.000000    426.000000   4433.132580   \n",
       "max       64.000000  2.135578e+06  57287.182376  10039.000000  10039.000000   \n",
       "\n",
       "                    ...                GaussianTestslsp  \\\n",
       "count               ...                         15385.0   \n",
       "mean                ...                             0.0   \n",
       "std                 ...                             0.0   \n",
       "min                 ...                             0.0   \n",
       "25%                 ...                             0.0   \n",
       "50%                 ...                             0.0   \n",
       "75%                 ...                             0.0   \n",
       "max                 ...                             0.0   \n",
       "\n",
       "       GaussianTestsdpearsonomni  GaussianTestskurtosis  \\\n",
       "count                    15385.0                15385.0   \n",
       "mean                         0.0                    0.0   \n",
       "std                          0.0                    0.0   \n",
       "min                          0.0                    0.0   \n",
       "25%                          0.0                    0.0   \n",
       "50%                          0.0                    0.0   \n",
       "75%                          0.0                    0.0   \n",
       "max                          0.0                    0.0   \n",
       "\n",
       "       segGaussianTestsdpearson  segGaussianTestslillieforsmaxp  \\\n",
       "count                   15385.0                         15385.0   \n",
       "mean                        0.0                             0.0   \n",
       "std                         0.0                             0.0   \n",
       "min                         0.0                             0.0   \n",
       "25%                         0.0                             0.0   \n",
       "50%                         0.0                             0.0   \n",
       "75%                         0.0                             0.0   \n",
       "max                         0.0                             0.0   \n",
       "\n",
       "       segGaussianTestsdpearsonpsum  segGaussianTestslfDmin  \\\n",
       "count                       15385.0                 15385.0   \n",
       "mean                            0.0                     0.0   \n",
       "std                             0.0                     0.0   \n",
       "min                             0.0                     0.0   \n",
       "25%                             0.0                     0.0   \n",
       "50%                             0.0                     0.0   \n",
       "75%                             0.0                     0.0   \n",
       "max                             0.0                     0.0   \n",
       "\n",
       "       segGaussianTestslillieforssum  segGaussianTestsdpearsonomnisum  \\\n",
       "count                        15385.0                          15385.0   \n",
       "mean                             0.0                              0.0   \n",
       "std                              0.0                              0.0   \n",
       "min                              0.0                              0.0   \n",
       "25%                              0.0                              0.0   \n",
       "50%                              0.0                              0.0   \n",
       "75%                              0.0                              0.0   \n",
       "max                              0.0                              0.0   \n",
       "\n",
       "       segGaussianTestslillieforsmaxD  \n",
       "count                         15385.0  \n",
       "mean                              0.0  \n",
       "std                               0.0  \n",
       "min                               0.0  \n",
       "25%                               0.0  \n",
       "50%                               0.0  \n",
       "75%                               0.0  \n",
       "max                               0.0  \n",
       "\n",
       "[8 rows x 417 columns]"
      ]
     },
     "execution_count": 12,
     "metadata": {},
     "output_type": "execute_result"
    }
   ],
   "source": [
    "df.describe()"
   ]
  },
  {
   "cell_type": "code",
   "execution_count": 13,
   "metadata": {},
   "outputs": [
    {
     "data": {
      "text/plain": [
       "(92453, 420)"
      ]
     },
     "execution_count": 13,
     "metadata": {},
     "output_type": "execute_result"
    }
   ],
   "source": [
    "df.shape"
   ]
  },
  {
   "cell_type": "markdown",
   "metadata": {},
   "source": [
    "#### Re-label Mis-labelled Type 8 Events"
   ]
  },
  {
   "cell_type": "code",
   "execution_count": 14,
   "metadata": {
    "collapsed": true
   },
   "outputs": [],
   "source": [
    "reLabel = [('Beam4_fb_D20150821T195709.fil', 202),\n",
    "           ('Beam0_fb_D20150906T194609.fil', 275),\n",
    "           ('Beam4_fb_D20150909T235709.fil', 467),\n",
    "           ('Beam6_fb_D20150925T221909.fil', 3),\n",
    "           ('Beam1_fb_D20151215T221703.fil', 377),\n",
    "           ('Beam1_fb_D20151215T221703.fil', 595),\n",
    "           ('Beam1_fb_D20151216T231103.fil', 50),\n",
    "           ('Beam1_fb_D20151217T050412.fil', 196),\n",
    "           ('Beam1_fb_D20151217T050412.fil', 197),\n",
    "           ('Beam1_fb_D20151217T050412.fil', 202),\n",
    "           ('Beam0_fb_D20160824T104004.fil', 1392),\n",
    "           ('Beam0_fb_D20160825T003010.fil', 3),\n",
    "           ('Beam0_fb_D20160824T104004.fil', 1392),\n",
    "           ('Beam0_fb_D20160825T003010.fil', 3),\n",
    "           ('Beam0_fb_D20170310T020409.fil', 6),\n",
    "           ('Beam0_fb_D20170310T020409.fil', 8),\n",
    "           ('Beam0_fb_D20170310T020409.fil', 9),\n",
    "           ('Beam0_fb_D20170310T020409.fil', 11),\n",
    "           ('Beam0_fb_D20170310T020409.fil', 14),\n",
    "           ('Beam0_fb_D20170310T020409.fil', 15),\n",
    "           ('Beam0_fb_D20170310T020409.fil', 16),\n",
    "           ('Beam0_fb_D20170310T020409.fil', 17),\n",
    "           ('Beam0_fb_D20170310T020409.fil', 19),\n",
    "           ('Beam0_fb_D20170310T020409.fil', 21),\n",
    "           ('Beam0_fb_D20170310T020409.fil', 25),\n",
    "           ('Beam1_fb_D20170310T020409.fil', 4),\n",
    "           ('Beam4_fb_D20170310T020409.fil', 7),\n",
    "           ('Beam5_fb_D20170310T020409.fil', 1),\n",
    "           ('Beam5_fb_D20170310T020409.fil', 2),\n",
    "           ('Beam6_fb_D20170311T184903.fil', 2),\n",
    "           ('Beam1_fb_D20170312T182504.fil', 2),\n",
    "           ('Beam2_fb_D20170325T011509.fil', 1),\n",
    "           ('Beam1_fb_D20170310T020409.fil', 3),\n",
    "           ('Beam0_fb_D20170311T184903.fil', 2),\n",
    "           ('Beam1_fb_D20170311T184903.fil', 1),\n",
    "           ('Beam5_fb_D20170312T182504.fil', 1),\n",
    "           ('Beam1_fb_D20170310T020409.fil', 2),\n",
    "           ('Beam6_fb_D20170311T184903.fil', 3),\n",
    "           ('Beam4_fb_D20170312T182504.fil', 10),\n",
    "           ('Beam0_fb_D20170310T020409.fil', 2),\n",
    "           ('Beam4_fb_D20170310T020409.fil', 4),\n",
    "           ('Beam0_fb_D20170310T020409.fil', 1),\n",
    "           ('Beam0_fb_D20170310T020409.fil', 3),\n",
    "           ('Beam0_fb_D20170310T020409.fil', 4),\n",
    "           ('Beam0_fb_D20170310T020409.fil', 5),\n",
    "           ('Beam0_fb_D20170310T020409.fil', 7),\n",
    "           ('Beam0_fb_D20170310T020409.fil', 10),\n",
    "           ('Beam0_fb_D20170310T020409.fil', 12),\n",
    "           ('Beam0_fb_D20170310T020409.fil', 13),\n",
    "           ('Beam0_fb_D20170310T020409.fil', 18),\n",
    "           ('Beam0_fb_D20170310T020409.fil', 20),\n",
    "           ('Beam0_fb_D20170310T020409.fil', 22),\n",
    "           ('Beam0_fb_D20170310T020409.fil', 23),\n",
    "           ('Beam0_fb_D20170310T020409.fil', 24),\n",
    "           ('Beam1_fb_D20170310T020409.fil', 1),\n",
    "           ('Beam4_fb_D20170310T020409.fil', 3),\n",
    "           ('Beam4_fb_D20170310T020409.fil', 5),\n",
    "           ('Beam4_fb_D20170310T020409.fil', 6),\n",
    "           ('Beam0_fb_D20170311T184903.fil', 1)]"
   ]
  },
  {
   "cell_type": "code",
   "execution_count": 15,
   "metadata": {
    "collapsed": true
   },
   "outputs": [],
   "source": [
    "# Relabel mis-labelled events to overflow (label 8)\n",
    "for fil,buf in reLabel:\n",
    "    #print fil, buf\n",
    "    df.loc[(df['filterbank']==fil) & (df['Buffer']==buf), 'Label'] = 8"
   ]
  },
  {
   "cell_type": "markdown",
   "metadata": {},
   "source": [
    "#### Compute MJD Features\n",
    "\n",
    "We don't care about the absolute MJDs, but the relative offset within the dataset."
   ]
  },
  {
   "cell_type": "code",
   "execution_count": 16,
   "metadata": {
    "collapsed": true
   },
   "outputs": [],
   "source": [
    "df['relMJDmax'] = df['MJDmax'] - df['MJDmin']\n",
    "df['relMJDmean'] = df['MJDmean'] - df['MJDmin']\n",
    "df['relMJDmedian'] = df['MJDmedian'] - df['MJDmin']"
   ]
  },
  {
   "cell_type": "markdown",
   "metadata": {},
   "source": [
    "**Filter for only labelled data (i.e. Label > -1) and Drop Type 8 Events**"
   ]
  },
  {
   "cell_type": "code",
   "execution_count": 17,
   "metadata": {
    "collapsed": true
   },
   "outputs": [],
   "source": [
    "labelledDf = df[df['Label'] > -1] \n",
    "labelledDf = labelledDf[labelledDf['Label'] != 8] #delete column labelled by 8"
   ]
  },
  {
   "cell_type": "markdown",
   "metadata": {},
   "source": [
    "**Relabel 0 to 9**\n",
    "\n",
    "We are interested in both 9 and 0 labels and both appear similar."
   ]
  },
  {
   "cell_type": "code",
   "execution_count": 18,
   "metadata": {
    "collapsed": true
   },
   "outputs": [],
   "source": [
    "labelledDf.loc[labelledDf['Label'] == 0, 'Label'] = 9 #finds indices where label is 0 or 9"
   ]
  },
  {
   "cell_type": "code",
   "execution_count": 19,
   "metadata": {},
   "outputs": [
    {
     "name": "stdout",
     "output_type": "stream",
     "text": [
      "datfile Beam0_dm_D20150624T020452.dat Beam6_dm_D20170324T215304.dat\n",
      "Beam 0 6 2.63307824\n",
      "TSID D20150624T020452 D20170325T092403\n",
      "Buffer 1 1997 232.206873718\n",
      "MJDstart 57197.3848466 57837.3807827 166.966714035\n",
      "bestDM 51.0 10039.0 2928.15412359\n",
      "bestSNR 10.0002756119 181.342330933 7.72764069779\n",
      "BinFactor 1 64 23.2995256949\n",
      "Events 1 1800508 62885.0657251\n",
      "DMmax 54.0 10039.0 3759.5120998\n",
      "DMmin 0.0 10035.0 1858.93189336\n",
      "DMmean 25.1612903226 10035.5 2707.93578295\n",
      "DMmedian 9.0 10035.5 2822.41063421\n",
      "DMstd 0.707106781187 4672.49363237 889.428100205\n",
      "SNRmean 7.07141349051 19.9987541906 1.30645636885\n",
      "SNRmedian 6.77030944824 15.0827293396 0.96140585013\n",
      "SNRstd 0.000775502012695 14.4079302489 1.30454345476\n",
      "MJDmax 57197.3848944 57837.3808056 166.966709795\n",
      "MJDmin 57197.3848934 57837.3808055 166.966712808\n",
      "MJDstd 0.0 4.11672955923e-05 8.33224546691e-06\n",
      "MJDmean 57197.384894 57837.3808055 166.966711378\n",
      "MJDmedian 57197.384894 57837.3808055 166.966711389\n",
      "Label 1 9 2.14816064172\n",
      "predictLabel -1 -1 0.0\n",
      "filterbank Beam0_fb_D20150624T020452.fil Beam6_fb_D20170324T215304.fil\n",
      "pctZero 0.0 0.0 0.0\n",
      "pctZeroDeriv 0.0 0.0 0.0\n",
      "ofCount 0.0 0.0 0.0\n",
      "ofPct 0.0 0.0 0.0\n",
      "longestRun0 0.0 0.0 0.0\n",
      "longestRun1 0.0 0.0 0.0\n",
      "longestRun2 0.0 0.0 0.0\n",
      "globtsStatsmax 0.0 0.0 0.0\n",
      "globtsStatsposPct 0.0 0.0 0.0\n",
      "globtsStatsstd 0.0 0.0 0.0\n",
      "globtsStatsposCount 0.0 0.0 0.0\n",
      "globtsStatsmin 0.0 0.0 0.0\n",
      "globtsStatsmedian 0.0 0.0 0.0\n",
      "globtsStatsmeanMedianRatio 0.0 0.0 0.0\n",
      "globtsStatsnegCount 0.0 0.0 0.0\n",
      "globtsStatsmaxMinRatio 0.0 0.0 0.0\n",
      "globtsStatsnegPct 0.0 0.0 0.0\n",
      "globtsStatsmean 0.0 0.0 0.0\n",
      "globalDedisptsStatsmax 0.0 0.0 0.0\n",
      "globalDedisptsStatsposPct 0.0 0.0 0.0\n",
      "globalDedisptsStatsstd 0.0 0.0 0.0\n",
      "globalDedisptsStatsposCount 0.0 0.0 0.0\n",
      "globalDedisptsStatsmin 0.0 0.0 0.0\n",
      "globalDedisptsStatsmedian 0.0 0.0 0.0\n",
      "globalDedisptsStatsmeanMedianRatio 0.0 0.0 0.0\n",
      "globalDedisptsStatsnegCount 0.0 0.0 0.0\n",
      "globalDedisptsStatsmaxMinRatio 0.0 0.0 0.0\n",
      "globalDedisptsStatsnegPct 0.0 0.0 0.0\n",
      "globalDedisptsStatsmean 0.0 0.0 0.0\n",
      "windTimeStatsstd0 0.0 0.0 0.0\n",
      "windTimeStatsmax0 0.0 0.0 0.0\n",
      "windTimeStatsmean0 0.0 0.0 0.0\n",
      "windTimeStatssnr0 0.0 0.0 0.0\n",
      "windTimeStatsmin0 0.0 0.0 0.0\n",
      "windTimeStatsstd1 0.0 0.0 0.0\n",
      "windTimeStatsmax1 0.0 0.0 0.0\n",
      "windTimeStatsmean1 0.0 0.0 0.0\n",
      "windTimeStatssnr1 0.0 0.0 0.0\n",
      "windTimeStatsmin1 0.0 0.0 0.0\n",
      "windTimeStatsstd2 0.0 0.0 0.0\n",
      "windTimeStatsmax2 0.0 0.0 0.0\n",
      "windTimeStatsmean2 0.0 0.0 0.0\n",
      "windTimeStatssnr2 0.0 0.0 0.0\n",
      "windTimeStatsmin2 0.0 0.0 0.0\n",
      "windTimeStatsstd3 0.0 0.0 0.0\n",
      "windTimeStatsmax3 0.0 0.0 0.0\n",
      "windTimeStatsmean3 0.0 0.0 0.0\n",
      "windTimeStatssnr3 0.0 0.0 0.0\n",
      "windTimeStatsmin3 0.0 0.0 0.0\n",
      "windTimeStatsstd4 0.0 0.0 0.0\n",
      "windTimeStatsmax4 0.0 0.0 0.0\n",
      "windTimeStatsmean4 0.0 0.0 0.0\n",
      "windTimeStatssnr4 0.0 0.0 0.0\n",
      "windTimeStatsmin4 0.0 0.0 0.0\n",
      "windTimeStatsstd5 0.0 0.0 0.0\n",
      "windTimeStatsmax5 0.0 0.0 0.0\n",
      "windTimeStatsmean5 0.0 0.0 0.0\n",
      "windTimeStatssnr5 0.0 0.0 0.0\n",
      "windTimeStatsmin5 0.0 0.0 0.0\n",
      "windTimeStatsstd6 0.0 0.0 0.0\n",
      "windTimeStatsmax6 0.0 0.0 0.0\n",
      "windTimeStatsmean6 0.0 0.0 0.0\n",
      "windTimeStatssnr6 0.0 0.0 0.0\n",
      "windTimeStatsmin6 0.0 0.0 0.0\n",
      "windTimeStatsstd7 0.0 0.0 0.0\n",
      "windTimeStatsmax7 0.0 0.0 0.0\n",
      "windTimeStatsmean7 0.0 0.0 0.0\n",
      "windTimeStatssnr7 0.0 0.0 0.0\n",
      "windTimeStatsmin7 0.0 0.0 0.0\n",
      "windTimeStatsstd8 0.0 0.0 0.0\n",
      "windTimeStatsmax8 0.0 0.0 0.0\n",
      "windTimeStatsmean8 0.0 0.0 0.0\n",
      "windTimeStatssnr8 0.0 0.0 0.0\n",
      "windTimeStatsmin8 0.0 0.0 0.0\n",
      "windTimeStatsstd9 0.0 0.0 0.0\n",
      "windTimeStatsmax9 0.0 0.0 0.0\n",
      "windTimeStatsmean9 0.0 0.0 0.0\n",
      "windTimeStatssnr9 0.0 0.0 0.0\n",
      "windTimeStatsmin9 0.0 0.0 0.0\n",
      "windTimeStatsstd10 0.0 0.0 0.0\n",
      "windTimeStatsmax10 0.0 0.0 0.0\n",
      "windTimeStatsmean10 0.0 0.0 0.0\n",
      "windTimeStatssnr10 0.0 0.0 0.0\n",
      "windTimeStatsmin10 0.0 0.0 0.0\n",
      "windTimeStatsstd11 0.0 0.0 0.0\n",
      "windTimeStatsmax11 0.0 0.0 0.0\n",
      "windTimeStatsmean11 0.0 0.0 0.0\n",
      "windTimeStatssnr11 0.0 0.0 0.0\n",
      "windTimeStatsmin11 0.0 0.0 0.0\n",
      "windTimeStatsstd12 0.0 0.0 0.0\n",
      "windTimeStatsmax12 0.0 0.0 0.0\n",
      "windTimeStatsmean12 0.0 0.0 0.0\n",
      "windTimeStatssnr12 0.0 0.0 0.0\n",
      "windTimeStatsmin12 0.0 0.0 0.0\n",
      "windTimeStatsstd13 0.0 0.0 0.0\n",
      "windTimeStatsmax13 0.0 0.0 0.0\n",
      "windTimeStatsmean13 0.0 0.0 0.0\n",
      "windTimeStatssnr13 0.0 0.0 0.0\n",
      "windTimeStatsmin13 0.0 0.0 0.0\n",
      "windTimeStatsstd14 0.0 0.0 0.0\n",
      "windTimeStatsmax14 0.0 0.0 0.0\n",
      "windTimeStatsmean14 0.0 0.0 0.0\n",
      "windTimeStatssnr14 0.0 0.0 0.0\n",
      "windTimeStatsmin14 0.0 0.0 0.0\n",
      "windTimeStatsstd15 0.0 0.0 0.0\n",
      "windTimeStatsmax15 0.0 0.0 0.0\n",
      "windTimeStatsmean15 0.0 0.0 0.0\n",
      "windTimeStatssnr15 0.0 0.0 0.0\n",
      "windTimeStatsmin15 0.0 0.0 0.0\n",
      "windDedispTimeStatsstd0 0.0 0.0 0.0\n",
      "windDedispTimeStatsmax0 0.0 0.0 0.0\n",
      "windDedispTimeStatsmean0 0.0 0.0 0.0\n",
      "windDedispTimeStatssnr0 0.0 0.0 0.0\n",
      "windDedispTimeStatsmin0 0.0 0.0 0.0\n",
      "windDedispTimeStatsstd1 0.0 0.0 0.0\n",
      "windDedispTimeStatsmax1 0.0 0.0 0.0\n",
      "windDedispTimeStatsmean1 0.0 0.0 0.0\n",
      "windDedispTimeStatssnr1 0.0 0.0 0.0\n",
      "windDedispTimeStatsmin1 0.0 0.0 0.0\n",
      "windDedispTimeStatsstd2 0.0 0.0 0.0\n",
      "windDedispTimeStatsmax2 0.0 0.0 0.0\n",
      "windDedispTimeStatsmean2 0.0 0.0 0.0\n",
      "windDedispTimeStatssnr2 0.0 0.0 0.0\n",
      "windDedispTimeStatsmin2 0.0 0.0 0.0\n",
      "windDedispTimeStatsstd3 0.0 0.0 0.0\n",
      "windDedispTimeStatsmax3 0.0 0.0 0.0\n",
      "windDedispTimeStatsmean3 0.0 0.0 0.0\n",
      "windDedispTimeStatssnr3 0.0 0.0 0.0\n",
      "windDedispTimeStatsmin3 0.0 0.0 0.0\n",
      "windDedispTimeStatsstd4 0.0 0.0 0.0\n",
      "windDedispTimeStatsmax4 0.0 0.0 0.0\n",
      "windDedispTimeStatsmean4 0.0 0.0 0.0\n",
      "windDedispTimeStatssnr4 0.0 0.0 0.0\n",
      "windDedispTimeStatsmin4 0.0 0.0 0.0\n",
      "windDedispTimeStatsstd5 0.0 0.0 0.0\n",
      "windDedispTimeStatsmax5 0.0 0.0 0.0\n",
      "windDedispTimeStatsmean5 0.0 0.0 0.0\n",
      "windDedispTimeStatssnr5 0.0 0.0 0.0\n",
      "windDedispTimeStatsmin5 0.0 0.0 0.0\n",
      "windDedispTimeStatsstd6 0.0 0.0 0.0\n",
      "windDedispTimeStatsmax6 0.0 0.0 0.0\n",
      "windDedispTimeStatsmean6 0.0 0.0 0.0\n",
      "windDedispTimeStatssnr6 0.0 0.0 0.0\n",
      "windDedispTimeStatsmin6 0.0 0.0 0.0\n",
      "windDedispTimeStatsstd7 0.0 0.0 0.0\n",
      "windDedispTimeStatsmax7 0.0 0.0 0.0\n",
      "windDedispTimeStatsmean7 0.0 0.0 0.0\n",
      "windDedispTimeStatssnr7 0.0 0.0 0.0\n",
      "windDedispTimeStatsmin7 0.0 0.0 0.0\n",
      "windDedispTimeStatsstd8 0.0 0.0 0.0\n",
      "windDedispTimeStatsmax8 0.0 0.0 0.0\n",
      "windDedispTimeStatsmean8 0.0 0.0 0.0\n",
      "windDedispTimeStatssnr8 0.0 0.0 0.0\n",
      "windDedispTimeStatsmin8 0.0 0.0 0.0\n",
      "windDedispTimeStatsstd9 0.0 0.0 0.0\n",
      "windDedispTimeStatsmax9 0.0 0.0 0.0\n",
      "windDedispTimeStatsmean9 0.0 0.0 0.0\n",
      "windDedispTimeStatssnr9 0.0 0.0 0.0\n",
      "windDedispTimeStatsmin9 0.0 0.0 0.0\n",
      "windDedispTimeStatsstd10 0.0 0.0 0.0\n",
      "windDedispTimeStatsmax10 0.0 0.0 0.0\n",
      "windDedispTimeStatsmean10 0.0 0.0 0.0\n",
      "windDedispTimeStatssnr10 0.0 0.0 0.0\n",
      "windDedispTimeStatsmin10 0.0 0.0 0.0\n",
      "windDedispTimeStatsstd11 0.0 0.0 0.0\n",
      "windDedispTimeStatsmax11 0.0 0.0 0.0\n",
      "windDedispTimeStatsmean11 0.0 0.0 0.0\n",
      "windDedispTimeStatssnr11 0.0 0.0 0.0\n",
      "windDedispTimeStatsmin11 0.0 0.0 0.0\n",
      "windDedispTimeStatsstd12 0.0 0.0 0.0\n",
      "windDedispTimeStatsmax12 0.0 0.0 0.0\n",
      "windDedispTimeStatsmean12 0.0 0.0 0.0\n",
      "windDedispTimeStatssnr12 0.0 0.0 0.0\n",
      "windDedispTimeStatsmin12 0.0 0.0 0.0\n",
      "windDedispTimeStatsstd13 0.0 0.0 0.0\n",
      "windDedispTimeStatsmax13 0.0 0.0 0.0\n",
      "windDedispTimeStatsmean13 0.0 0.0 0.0\n",
      "windDedispTimeStatssnr13 0.0 0.0 0.0\n",
      "windDedispTimeStatsmin13 0.0 0.0 0.0\n",
      "windDedispTimeStatsstd14 0.0 0.0 0.0\n",
      "windDedispTimeStatsmax14 0.0 0.0 0.0\n",
      "windDedispTimeStatsmean14 0.0 0.0 0.0\n",
      "windDedispTimeStatssnr14 0.0 0.0 0.0\n",
      "windDedispTimeStatsmin14 0.0 0.0 0.0\n",
      "windDedispTimeStatsstd15 0.0 0.0 0.0\n",
      "windDedispTimeStatsmax15 0.0 0.0 0.0\n",
      "windDedispTimeStatsmean15 0.0 0.0 0.0\n",
      "windDedispTimeStatssnr15 0.0 0.0 0.0\n",
      "windDedispTimeStatsmin15 0.0 0.0 0.0\n",
      "pixelMax_0_0 0.0 0.0 0.0\n",
      "pixelMin_0_0 0.0 0.0 0.0\n",
      "pixelMean_0_0 0.0 0.0 0.0\n",
      "pixelMax_0_1 0.0 0.0 0.0\n",
      "pixelMin_0_1 0.0 0.0 0.0\n",
      "pixelMean_0_1 0.0 0.0 0.0\n",
      "pixelMax_0_2 0.0 0.0 0.0\n",
      "pixelMin_0_2 0.0 0.0 0.0\n",
      "pixelMean_0_2 0.0 0.0 0.0\n",
      "pixelMax_0_3 0.0 0.0 0.0\n",
      "pixelMin_0_3 0.0 0.0 0.0\n",
      "pixelMean_0_3 0.0 0.0 0.0\n",
      "pixelMax_1_0 0.0 0.0 0.0\n",
      "pixelMin_1_0 0.0 0.0 0.0\n",
      "pixelMean_1_0 0.0 0.0 0.0\n",
      "pixelMax_1_1 0.0 0.0 0.0\n",
      "pixelMin_1_1 0.0 0.0 0.0\n",
      "pixelMean_1_1 0.0 0.0 0.0\n",
      "pixelMax_1_2 0.0 0.0 0.0\n",
      "pixelMin_1_2 0.0 0.0 0.0\n",
      "pixelMean_1_2 0.0 0.0 0.0\n",
      "pixelMax_1_3 0.0 0.0 0.0\n",
      "pixelMin_1_3 0.0 0.0 0.0\n",
      "pixelMean_1_3 0.0 0.0 0.0\n",
      "pixelMax_2_0 0.0 0.0 0.0\n",
      "pixelMin_2_0 0.0 0.0 0.0\n",
      "pixelMean_2_0 0.0 0.0 0.0\n",
      "pixelMax_2_1 0.0 0.0 0.0\n",
      "pixelMin_2_1 0.0 0.0 0.0\n",
      "pixelMean_2_1 0.0 0.0 0.0\n",
      "pixelMax_2_2 0.0 0.0 0.0\n",
      "pixelMin_2_2 0.0 0.0 0.0\n",
      "pixelMean_2_2 0.0 0.0 0.0\n",
      "pixelMax_2_3 0.0 0.0 0.0\n",
      "pixelMin_2_3 0.0 0.0 0.0\n",
      "pixelMean_2_3 0.0 0.0 0.0\n",
      "pixelMax_3_0 0.0 0.0 0.0\n",
      "pixelMin_3_0 0.0 0.0 0.0\n",
      "pixelMean_3_0 0.0 0.0 0.0\n",
      "pixelMax_3_1 0.0 0.0 0.0\n",
      "pixelMin_3_1 0.0 0.0 0.0\n",
      "pixelMean_3_1 0.0 0.0 0.0\n",
      "pixelMax_3_2 0.0 0.0 0.0\n",
      "pixelMin_3_2 0.0 0.0 0.0\n",
      "pixelMean_3_2 0.0 0.0 0.0\n",
      "pixelMax_3_3 0.0 0.0 0.0\n",
      "pixelMin_3_3 0.0 0.0 0.0\n",
      "pixelMean_3_3 0.0 0.0 0.0\n",
      "pixelMax_4_0 0.0 0.0 0.0\n",
      "pixelMin_4_0 0.0 0.0 0.0\n",
      "pixelMean_4_0 0.0 0.0 0.0\n",
      "pixelMax_4_1 0.0 0.0 0.0\n",
      "pixelMin_4_1 0.0 0.0 0.0\n",
      "pixelMean_4_1 0.0 0.0 0.0\n",
      "pixelMax_4_2 0.0 0.0 0.0\n",
      "pixelMin_4_2 0.0 0.0 0.0\n",
      "pixelMean_4_2 0.0 0.0 0.0\n",
      "pixelMax_4_3 0.0 0.0 0.0\n",
      "pixelMin_4_3 0.0 0.0 0.0\n",
      "pixelMean_4_3 0.0 0.0 0.0\n",
      "pixelMax_5_0 0.0 0.0 0.0\n",
      "pixelMin_5_0 0.0 0.0 0.0\n",
      "pixelMean_5_0 0.0 0.0 0.0\n",
      "pixelMax_5_1 0.0 0.0 0.0\n",
      "pixelMin_5_1 0.0 0.0 0.0\n",
      "pixelMean_5_1 0.0 0.0 0.0\n",
      "pixelMax_5_2 0.0 0.0 0.0\n",
      "pixelMin_5_2 0.0 0.0 0.0\n",
      "pixelMean_5_2 0.0 0.0 0.0\n",
      "pixelMax_5_3 0.0 0.0 0.0\n",
      "pixelMin_5_3 0.0 0.0 0.0\n",
      "pixelMean_5_3 0.0 0.0 0.0\n",
      "pixelMax_6_0 0.0 0.0 0.0\n",
      "pixelMin_6_0 0.0 0.0 0.0\n",
      "pixelMean_6_0 0.0 0.0 0.0\n",
      "pixelMax_6_1 0.0 0.0 0.0\n",
      "pixelMin_6_1 0.0 0.0 0.0\n",
      "pixelMean_6_1 0.0 0.0 0.0\n",
      "pixelMax_6_2 0.0 0.0 0.0\n",
      "pixelMin_6_2 0.0 0.0 0.0\n",
      "pixelMean_6_2 0.0 0.0 0.0\n",
      "pixelMax_6_3 0.0 0.0 0.0\n",
      "pixelMin_6_3 0.0 0.0 0.0\n",
      "pixelMean_6_3 0.0 0.0 0.0\n",
      "pixelMax_7_0 0.0 0.0 0.0\n",
      "pixelMin_7_0 0.0 0.0 0.0\n",
      "pixelMean_7_0 0.0 0.0 0.0\n",
      "pixelMax_7_1 0.0 0.0 0.0\n",
      "pixelMin_7_1 0.0 0.0 0.0\n",
      "pixelMean_7_1 0.0 0.0 0.0\n",
      "pixelMax_7_2 0.0 0.0 0.0\n",
      "pixelMin_7_2 0.0 0.0 0.0\n",
      "pixelMean_7_2 0.0 0.0 0.0\n",
      "pixelMax_7_3 0.0 0.0 0.0\n",
      "pixelMin_7_3 0.0 0.0 0.0\n",
      "pixelMean_7_3 0.0 0.0 0.0\n",
      "pixelMax_8_0 0.0 0.0 0.0\n",
      "pixelMin_8_0 0.0 0.0 0.0\n",
      "pixelMean_8_0 0.0 0.0 0.0\n",
      "pixelMax_8_1 0.0 0.0 0.0\n"
     ]
    },
    {
     "name": "stdout",
     "output_type": "stream",
     "text": [
      "pixelMin_8_1 0.0 0.0 0.0\n",
      "pixelMean_8_1 0.0 0.0 0.0\n",
      "pixelMax_8_2 0.0 0.0 0.0\n",
      "pixelMin_8_2 0.0 0.0 0.0\n",
      "pixelMean_8_2 0.0 0.0 0.0\n",
      "pixelMax_8_3 0.0 0.0 0.0\n",
      "pixelMin_8_3 0.0 0.0 0.0\n",
      "pixelMean_8_3 0.0 0.0 0.0\n",
      "pixelMax_9_0 0.0 0.0 0.0\n",
      "pixelMin_9_0 0.0 0.0 0.0\n",
      "pixelMean_9_0 0.0 0.0 0.0\n",
      "pixelMax_9_1 0.0 0.0 0.0\n",
      "pixelMin_9_1 0.0 0.0 0.0\n",
      "pixelMean_9_1 0.0 0.0 0.0\n",
      "pixelMax_9_2 0.0 0.0 0.0\n",
      "pixelMin_9_2 0.0 0.0 0.0\n",
      "pixelMean_9_2 0.0 0.0 0.0\n",
      "pixelMax_9_3 0.0 0.0 0.0\n",
      "pixelMin_9_3 0.0 0.0 0.0\n",
      "pixelMean_9_3 0.0 0.0 0.0\n",
      "pixelMax_10_0 0.0 0.0 0.0\n",
      "pixelMin_10_0 0.0 0.0 0.0\n",
      "pixelMean_10_0 0.0 0.0 0.0\n",
      "pixelMax_10_1 0.0 0.0 0.0\n",
      "pixelMin_10_1 0.0 0.0 0.0\n",
      "pixelMean_10_1 0.0 0.0 0.0\n",
      "pixelMax_10_2 0.0 0.0 0.0\n",
      "pixelMin_10_2 0.0 0.0 0.0\n",
      "pixelMean_10_2 0.0 0.0 0.0\n",
      "pixelMax_10_3 0.0 0.0 0.0\n",
      "pixelMin_10_3 0.0 0.0 0.0\n",
      "pixelMean_10_3 0.0 0.0 0.0\n",
      "pixelMax_11_0 0.0 0.0 0.0\n",
      "pixelMin_11_0 0.0 0.0 0.0\n",
      "pixelMean_11_0 0.0 0.0 0.0\n",
      "pixelMax_11_1 0.0 0.0 0.0\n",
      "pixelMin_11_1 0.0 0.0 0.0\n",
      "pixelMean_11_1 0.0 0.0 0.0\n",
      "pixelMax_11_2 0.0 0.0 0.0\n",
      "pixelMin_11_2 0.0 0.0 0.0\n",
      "pixelMean_11_2 0.0 0.0 0.0\n",
      "pixelMax_11_3 0.0 0.0 0.0\n",
      "pixelMin_11_3 0.0 0.0 0.0\n",
      "pixelMean_11_3 0.0 0.0 0.0\n",
      "pixelMax_12_0 0.0 0.0 0.0\n",
      "pixelMin_12_0 0.0 0.0 0.0\n",
      "pixelMean_12_0 0.0 0.0 0.0\n",
      "pixelMax_12_1 0.0 0.0 0.0\n",
      "pixelMin_12_1 0.0 0.0 0.0\n",
      "pixelMean_12_1 0.0 0.0 0.0\n",
      "pixelMax_12_2 0.0 0.0 0.0\n",
      "pixelMin_12_2 0.0 0.0 0.0\n",
      "pixelMean_12_2 0.0 0.0 0.0\n",
      "pixelMax_12_3 0.0 0.0 0.0\n",
      "pixelMin_12_3 0.0 0.0 0.0\n",
      "pixelMean_12_3 0.0 0.0 0.0\n",
      "pixelMax_13_0 0.0 0.0 0.0\n",
      "pixelMin_13_0 0.0 0.0 0.0\n",
      "pixelMean_13_0 0.0 0.0 0.0\n",
      "pixelMax_13_1 0.0 0.0 0.0\n",
      "pixelMin_13_1 0.0 0.0 0.0\n",
      "pixelMean_13_1 0.0 0.0 0.0\n",
      "pixelMax_13_2 0.0 0.0 0.0\n",
      "pixelMin_13_2 0.0 0.0 0.0\n",
      "pixelMean_13_2 0.0 0.0 0.0\n",
      "pixelMax_13_3 0.0 0.0 0.0\n",
      "pixelMin_13_3 0.0 0.0 0.0\n",
      "pixelMean_13_3 0.0 0.0 0.0\n",
      "pixelMax_14_0 0.0 0.0 0.0\n",
      "pixelMin_14_0 0.0 0.0 0.0\n",
      "pixelMean_14_0 0.0 0.0 0.0\n",
      "pixelMax_14_1 0.0 0.0 0.0\n",
      "pixelMin_14_1 0.0 0.0 0.0\n",
      "pixelMean_14_1 0.0 0.0 0.0\n",
      "pixelMax_14_2 0.0 0.0 0.0\n",
      "pixelMin_14_2 0.0 0.0 0.0\n",
      "pixelMean_14_2 0.0 0.0 0.0\n",
      "pixelMax_14_3 0.0 0.0 0.0\n",
      "pixelMin_14_3 0.0 0.0 0.0\n",
      "pixelMean_14_3 0.0 0.0 0.0\n",
      "pixelMax_15_0 0.0 0.0 0.0\n",
      "pixelMin_15_0 0.0 0.0 0.0\n",
      "pixelMean_15_0 0.0 0.0 0.0\n",
      "pixelMax_15_1 0.0 0.0 0.0\n",
      "pixelMin_15_1 0.0 0.0 0.0\n",
      "pixelMean_15_1 0.0 0.0 0.0\n",
      "pixelMax_15_2 0.0 0.0 0.0\n",
      "pixelMin_15_2 0.0 0.0 0.0\n",
      "pixelMean_15_2 0.0 0.0 0.0\n",
      "pixelMax_15_3 0.0 0.0 0.0\n",
      "pixelMin_15_3 0.0 0.0 0.0\n",
      "pixelMean_15_3 0.0 0.0 0.0\n",
      "GaussianTestslsD 0.0 0.0 0.0\n",
      "GaussianTestsskew 0.0 0.0 0.0\n",
      "GaussianTestsks 0.0 0.0 0.0\n",
      "GaussianTestsdpearsonp 0.0 0.0 0.0\n",
      "GaussianTestslsp 0.0 0.0 0.0\n",
      "GaussianTestsdpearsonomni 0.0 0.0 0.0\n",
      "GaussianTestskurtosis 0.0 0.0 0.0\n",
      "segGaussianTestsdpearson 0.0 0.0 0.0\n",
      "segGaussianTestslillieforsmaxp 0.0 0.0 0.0\n",
      "segGaussianTestsdpearsonpsum 0.0 0.0 0.0\n",
      "segGaussianTestslfDmin 0.0 0.0 0.0\n",
      "segGaussianTestslillieforssum 0.0 0.0 0.0\n",
      "segGaussianTestsdpearsonomnisum 0.0 0.0 0.0\n",
      "segGaussianTestslillieforsmaxD 0.0 0.0 0.0\n",
      "relMJDmax 0.0 9.5554998552e-05 3.09336565612e-05\n",
      "relMJDmean -3.63797880709e-11 9.07058129087e-05 1.86589183353e-05\n",
      "relMJDmedian 0.0 9.1916990641e-05 2.00577149307e-05\n"
     ]
    }
   ],
   "source": [
    "for col in labelledDf:\n",
    "    if labelledDf[col].dtype == object: #if labelledDf is an 'object' datatype - an array is not an object\n",
    "        print col, labelledDf[col].min(), labelledDf[col].max() \n",
    "    else: \n",
    "        print col, labelledDf[col].min(), labelledDf[col].max(), labelledDf[col].std() #why does it do different stuff depending on whether it's an object or not"
   ]
  },
  {
   "cell_type": "markdown",
   "metadata": {},
   "source": [
    "**Apply Direct Data Cleaning Filters**"
   ]
  },
  {
   "cell_type": "code",
   "execution_count": 20,
   "metadata": {
    "collapsed": true
   },
   "outputs": [],
   "source": [
    "# Check that data during March 2017 has been removed\n",
    "for row in labelledDf.iterrows():\n",
    "    idx, data = row\n",
    "    if (data['globtsStatsmean'] < -3e3) or (data['globtsStatsmin'] < -3e3): \n",
    "        print idx\n",
    "        \n",
    "# Check that all events which overflow have been dropped\n",
    "for row in labelledDf.iterrows():\n",
    "    idx, data = row\n",
    "    if data['ofCount'] > 0.: \n",
    "        print idx"
   ]
  },
  {
   "cell_type": "code",
   "execution_count": 21,
   "metadata": {},
   "outputs": [
    {
     "name": "stdout",
     "output_type": "stream",
     "text": [
      "(13685, 423)\n"
     ]
    }
   ],
   "source": [
    "print labelledDf.shape #13419 timeseries, 409 features"
   ]
  },
  {
   "cell_type": "markdown",
   "metadata": {},
   "source": [
    "**Select out the labels**"
   ]
  },
  {
   "cell_type": "code",
   "execution_count": 22,
   "metadata": {
    "collapsed": true
   },
   "outputs": [],
   "source": [
    "labels = labelledDf['Label'].values"
   ]
  },
  {
   "cell_type": "markdown",
   "metadata": {},
   "source": [
    "**Drop the meta-information columns**"
   ]
  },
  {
   "cell_type": "code",
   "execution_count": 23,
   "metadata": {},
   "outputs": [
    {
     "data": {
      "text/plain": [
       "Index([u'datfile', u'Beam', u'TSID', u'Buffer', u'MJDstart', u'bestDM',\n",
       "       u'bestSNR', u'BinFactor', u'Events', u'DMmax',\n",
       "       ...\n",
       "       u'segGaussianTestsdpearson', u'segGaussianTestslillieforsmaxp',\n",
       "       u'segGaussianTestsdpearsonpsum', u'segGaussianTestslfDmin',\n",
       "       u'segGaussianTestslillieforssum', u'segGaussianTestsdpearsonomnisum',\n",
       "       u'segGaussianTestslillieforsmaxD', u'relMJDmax', u'relMJDmean',\n",
       "       u'relMJDmedian'],\n",
       "      dtype='object', length=423)"
      ]
     },
     "execution_count": 23,
     "metadata": {},
     "output_type": "execute_result"
    }
   ],
   "source": [
    "labelledDf.columns #list column labels"
   ]
  },
  {
   "cell_type": "code",
   "execution_count": 24,
   "metadata": {
    "collapsed": true
   },
   "outputs": [],
   "source": [
    "featureDf = labelledDf.drop(['Beam', 'Buffer', 'datfile', 'TSID', 'Label', 'predictLabel', 'filterbank'], axis=1) #delete the columns labelled by these strings"
   ]
  },
  {
   "cell_type": "markdown",
   "metadata": {},
   "source": [
    "#### Drop Features that are not useful"
   ]
  },
  {
   "cell_type": "code",
   "execution_count": 25,
   "metadata": {
    "collapsed": true
   },
   "outputs": [],
   "source": [
    "featureDf = featureDf.drop(['MJDmax', 'MJDmean', 'MJDmedian', 'MJDmin'], axis=1) "
   ]
  },
  {
   "cell_type": "code",
   "execution_count": 26,
   "metadata": {},
   "outputs": [
    {
     "data": {
      "text/plain": [
       "Index([u'MJDstart', u'bestDM', u'bestSNR', u'BinFactor', u'Events', u'DMmax',\n",
       "       u'DMmin', u'DMmean', u'DMmedian', u'DMstd',\n",
       "       ...\n",
       "       u'segGaussianTestsdpearson', u'segGaussianTestslillieforsmaxp',\n",
       "       u'segGaussianTestsdpearsonpsum', u'segGaussianTestslfDmin',\n",
       "       u'segGaussianTestslillieforssum', u'segGaussianTestsdpearsonomnisum',\n",
       "       u'segGaussianTestslillieforsmaxD', u'relMJDmax', u'relMJDmean',\n",
       "       u'relMJDmedian'],\n",
       "      dtype='object', length=412)"
      ]
     },
     "execution_count": 26,
     "metadata": {},
     "output_type": "execute_result"
    }
   ],
   "source": [
    "featureDf.columns"
   ]
  },
  {
   "cell_type": "markdown",
   "metadata": {},
   "source": [
    "### Pre-Processing\n",
    "\n",
    "Prepare the features for model building: outliers (inf, NaN) need to be replaces, the features need to be scaled to zero mean, and unity variance."
   ]
  },
  {
   "cell_type": "code",
   "execution_count": 27,
   "metadata": {
    "collapsed": true
   },
   "outputs": [],
   "source": [
    "import sklearn.preprocessing"
   ]
  },
  {
   "cell_type": "markdown",
   "metadata": {},
   "source": [
    "**Convert feature dataframe to 2-D array of floats**"
   ]
  },
  {
   "cell_type": "code",
   "execution_count": 28,
   "metadata": {
    "collapsed": true
   },
   "outputs": [],
   "source": [
    "featuresArr = featureDf.values.astype('float32')\n",
    "preProcLabels = labels.copy()"
   ]
  },
  {
   "cell_type": "markdown",
   "metadata": {},
   "source": [
    "**Replace NaN and inf values**"
   ]
  },
  {
   "cell_type": "code",
   "execution_count": 29,
   "metadata": {},
   "outputs": [
    {
     "name": "stdout",
     "output_type": "stream",
     "text": [
      "[]\n",
      "(13685, 412) (13685,)\n"
     ]
    }
   ],
   "source": [
    "featuresArr[featuresArr == -1. * np.inf] = np.nan\n",
    "featuresArr[featuresArr == np.inf] = np.nan #set infinite values to nan (could u use .isinf more easily here?)\n",
    "print featuresArr[featuresArr == np.nan]\n",
    "\n",
    "#replace missing values with the mean along axis 0, np.nan values replaced with 'NaN' string\n",
    "imp = sklearn.preprocessing.Imputer(missing_values='NaN', strategy='mean', axis=0).fit(featuresArr) #calibrate Imputer\n",
    "\n",
    "preProcFeats = imp.transform(featuresArr) #use imputer on the featuresArr\n",
    "print preProcFeats.shape, preProcLabels.shape"
   ]
  },
  {
   "cell_type": "markdown",
   "metadata": {},
   "source": [
    "**Scale Features**\n",
    "\n",
    "Robust scaling uses a median filter, this is better for non-Gaussian distributions"
   ]
  },
  {
   "cell_type": "code",
   "execution_count": 30,
   "metadata": {},
   "outputs": [
    {
     "name": "stdout",
     "output_type": "stream",
     "text": [
      "[  2.90007812e+02   3.30300000e+03   6.96442986e+00   4.80000000e+01\n",
      "   9.10500000e+03   7.60900000e+03   9.01000000e+02   4.36368506e+03\n",
      "   4.21750000e+03   9.78368942e+02   1.42635441e+00   1.09986973e+00\n",
      "   1.33599183e+00   8.56877631e-06   1.00000000e+00   1.00000000e+00\n",
      "   1.00000000e+00   1.00000000e+00   1.00000000e+00   1.00000000e+00\n",
      "   1.00000000e+00   1.00000000e+00   1.00000000e+00   1.00000000e+00\n",
      "   1.00000000e+00   1.00000000e+00   1.00000000e+00   1.00000000e+00\n",
      "   1.00000000e+00   1.00000000e+00   1.00000000e+00   1.00000000e+00\n",
      "   1.00000000e+00   1.00000000e+00   1.00000000e+00   1.00000000e+00\n",
      "   1.00000000e+00   1.00000000e+00   1.00000000e+00   1.00000000e+00\n",
      "   1.00000000e+00   1.00000000e+00   1.00000000e+00   1.00000000e+00\n",
      "   1.00000000e+00   1.00000000e+00   1.00000000e+00   1.00000000e+00\n",
      "   1.00000000e+00   1.00000000e+00   1.00000000e+00   1.00000000e+00\n",
      "   1.00000000e+00   1.00000000e+00   1.00000000e+00   1.00000000e+00\n",
      "   1.00000000e+00   1.00000000e+00   1.00000000e+00   1.00000000e+00\n",
      "   1.00000000e+00   1.00000000e+00   1.00000000e+00   1.00000000e+00\n",
      "   1.00000000e+00   1.00000000e+00   1.00000000e+00   1.00000000e+00\n",
      "   1.00000000e+00   1.00000000e+00   1.00000000e+00   1.00000000e+00\n",
      "   1.00000000e+00   1.00000000e+00   1.00000000e+00   1.00000000e+00\n",
      "   1.00000000e+00   1.00000000e+00   1.00000000e+00   1.00000000e+00\n",
      "   1.00000000e+00   1.00000000e+00   1.00000000e+00   1.00000000e+00\n",
      "   1.00000000e+00   1.00000000e+00   1.00000000e+00   1.00000000e+00\n",
      "   1.00000000e+00   1.00000000e+00   1.00000000e+00   1.00000000e+00\n",
      "   1.00000000e+00   1.00000000e+00   1.00000000e+00   1.00000000e+00\n",
      "   1.00000000e+00   1.00000000e+00   1.00000000e+00   1.00000000e+00\n",
      "   1.00000000e+00   1.00000000e+00   1.00000000e+00   1.00000000e+00\n",
      "   1.00000000e+00   1.00000000e+00   1.00000000e+00   1.00000000e+00\n",
      "   1.00000000e+00   1.00000000e+00   1.00000000e+00   1.00000000e+00\n",
      "   1.00000000e+00   1.00000000e+00   1.00000000e+00   1.00000000e+00\n",
      "   1.00000000e+00   1.00000000e+00   1.00000000e+00   1.00000000e+00\n",
      "   1.00000000e+00   1.00000000e+00   1.00000000e+00   1.00000000e+00\n",
      "   1.00000000e+00   1.00000000e+00   1.00000000e+00   1.00000000e+00\n",
      "   1.00000000e+00   1.00000000e+00   1.00000000e+00   1.00000000e+00\n",
      "   1.00000000e+00   1.00000000e+00   1.00000000e+00   1.00000000e+00\n",
      "   1.00000000e+00   1.00000000e+00   1.00000000e+00   1.00000000e+00\n",
      "   1.00000000e+00   1.00000000e+00   1.00000000e+00   1.00000000e+00\n",
      "   1.00000000e+00   1.00000000e+00   1.00000000e+00   1.00000000e+00\n",
      "   1.00000000e+00   1.00000000e+00   1.00000000e+00   1.00000000e+00\n",
      "   1.00000000e+00   1.00000000e+00   1.00000000e+00   1.00000000e+00\n",
      "   1.00000000e+00   1.00000000e+00   1.00000000e+00   1.00000000e+00\n",
      "   1.00000000e+00   1.00000000e+00   1.00000000e+00   1.00000000e+00\n",
      "   1.00000000e+00   1.00000000e+00   1.00000000e+00   1.00000000e+00\n",
      "   1.00000000e+00   1.00000000e+00   1.00000000e+00   1.00000000e+00\n",
      "   1.00000000e+00   1.00000000e+00   1.00000000e+00   1.00000000e+00\n",
      "   1.00000000e+00   1.00000000e+00   1.00000000e+00   1.00000000e+00\n",
      "   1.00000000e+00   1.00000000e+00   1.00000000e+00   1.00000000e+00\n",
      "   1.00000000e+00   1.00000000e+00   1.00000000e+00   1.00000000e+00\n",
      "   1.00000000e+00   1.00000000e+00   1.00000000e+00   1.00000000e+00\n",
      "   1.00000000e+00   1.00000000e+00   1.00000000e+00   1.00000000e+00\n",
      "   1.00000000e+00   1.00000000e+00   1.00000000e+00   1.00000000e+00\n",
      "   1.00000000e+00   1.00000000e+00   1.00000000e+00   1.00000000e+00\n",
      "   1.00000000e+00   1.00000000e+00   1.00000000e+00   1.00000000e+00\n",
      "   1.00000000e+00   1.00000000e+00   1.00000000e+00   1.00000000e+00\n",
      "   1.00000000e+00   1.00000000e+00   1.00000000e+00   1.00000000e+00\n",
      "   1.00000000e+00   1.00000000e+00   1.00000000e+00   1.00000000e+00\n",
      "   1.00000000e+00   1.00000000e+00   1.00000000e+00   1.00000000e+00\n",
      "   1.00000000e+00   1.00000000e+00   1.00000000e+00   1.00000000e+00\n",
      "   1.00000000e+00   1.00000000e+00   1.00000000e+00   1.00000000e+00\n",
      "   1.00000000e+00   1.00000000e+00   1.00000000e+00   1.00000000e+00\n",
      "   1.00000000e+00   1.00000000e+00   1.00000000e+00   1.00000000e+00\n",
      "   1.00000000e+00   1.00000000e+00   1.00000000e+00   1.00000000e+00\n",
      "   1.00000000e+00   1.00000000e+00   1.00000000e+00   1.00000000e+00\n",
      "   1.00000000e+00   1.00000000e+00   1.00000000e+00   1.00000000e+00\n",
      "   1.00000000e+00   1.00000000e+00   1.00000000e+00   1.00000000e+00\n",
      "   1.00000000e+00   1.00000000e+00   1.00000000e+00   1.00000000e+00\n",
      "   1.00000000e+00   1.00000000e+00   1.00000000e+00   1.00000000e+00\n",
      "   1.00000000e+00   1.00000000e+00   1.00000000e+00   1.00000000e+00\n",
      "   1.00000000e+00   1.00000000e+00   1.00000000e+00   1.00000000e+00\n",
      "   1.00000000e+00   1.00000000e+00   1.00000000e+00   1.00000000e+00\n",
      "   1.00000000e+00   1.00000000e+00   1.00000000e+00   1.00000000e+00\n",
      "   1.00000000e+00   1.00000000e+00   1.00000000e+00   1.00000000e+00\n",
      "   1.00000000e+00   1.00000000e+00   1.00000000e+00   1.00000000e+00\n",
      "   1.00000000e+00   1.00000000e+00   1.00000000e+00   1.00000000e+00\n",
      "   1.00000000e+00   1.00000000e+00   1.00000000e+00   1.00000000e+00\n",
      "   1.00000000e+00   1.00000000e+00   1.00000000e+00   1.00000000e+00\n",
      "   1.00000000e+00   1.00000000e+00   1.00000000e+00   1.00000000e+00\n",
      "   1.00000000e+00   1.00000000e+00   1.00000000e+00   1.00000000e+00\n",
      "   1.00000000e+00   1.00000000e+00   1.00000000e+00   1.00000000e+00\n",
      "   1.00000000e+00   1.00000000e+00   1.00000000e+00   1.00000000e+00\n",
      "   1.00000000e+00   1.00000000e+00   1.00000000e+00   1.00000000e+00\n",
      "   1.00000000e+00   1.00000000e+00   1.00000000e+00   1.00000000e+00\n",
      "   1.00000000e+00   1.00000000e+00   1.00000000e+00   1.00000000e+00\n",
      "   1.00000000e+00   1.00000000e+00   1.00000000e+00   1.00000000e+00\n",
      "   1.00000000e+00   1.00000000e+00   1.00000000e+00   1.00000000e+00\n",
      "   1.00000000e+00   1.00000000e+00   1.00000000e+00   1.00000000e+00\n",
      "   1.00000000e+00   1.00000000e+00   1.00000000e+00   1.00000000e+00\n",
      "   1.00000000e+00   1.00000000e+00   1.00000000e+00   1.00000000e+00\n",
      "   1.00000000e+00   1.00000000e+00   1.00000000e+00   1.00000000e+00\n",
      "   1.00000000e+00   1.00000000e+00   1.00000000e+00   1.00000000e+00\n",
      "   1.00000000e+00   1.00000000e+00   1.00000000e+00   1.00000000e+00\n",
      "   1.00000000e+00   1.00000000e+00   1.00000000e+00   1.00000000e+00\n",
      "   1.00000000e+00   1.00000000e+00   1.00000000e+00   1.00000000e+00\n",
      "   1.00000000e+00   1.00000000e+00   1.00000000e+00   1.00000000e+00\n",
      "   1.00000000e+00   1.00000000e+00   1.00000000e+00   1.00000000e+00\n",
      "   1.00000000e+00   1.00000000e+00   1.00000000e+00   1.00000000e+00\n",
      "   1.00000000e+00   1.00000000e+00   1.00000000e+00   1.00000000e+00\n",
      "   1.00000000e+00   1.00000000e+00   1.00000000e+00   1.00000000e+00\n",
      "   1.00000000e+00   1.00000000e+00   1.00000000e+00   1.00000000e+00\n",
      "   1.00000000e+00   1.00000000e+00   1.00000000e+00   1.00000000e+00\n",
      "   1.00000000e+00   1.00000000e+00   1.00000000e+00   1.00000000e+00\n",
      "   1.00000000e+00   1.00000000e+00   1.00000000e+00   1.00000000e+00\n",
      "   1.00000000e+00   1.00000000e+00   1.00000000e+00   1.00000000e+00\n",
      "   1.00000000e+00   5.17869921e-05   2.09964783e-05   1.82039948e-05]\n",
      "[  5.73750625e+04   1.07100000e+03   1.28970299e+01   1.60000000e+01\n",
      "   1.29100000e+03   2.55900000e+03   1.04000000e+02   1.41861572e+03\n",
      "   1.38100000e+03   3.87481110e+02   1.08088903e+01   1.06477566e+01\n",
      "   7.05873251e-01   1.39550116e-06   0.00000000e+00   0.00000000e+00\n",
      "   0.00000000e+00   0.00000000e+00   0.00000000e+00   0.00000000e+00\n",
      "   0.00000000e+00   0.00000000e+00   0.00000000e+00   0.00000000e+00\n",
      "   0.00000000e+00   0.00000000e+00   0.00000000e+00   0.00000000e+00\n",
      "   0.00000000e+00   0.00000000e+00   0.00000000e+00   0.00000000e+00\n",
      "   0.00000000e+00   0.00000000e+00   0.00000000e+00   0.00000000e+00\n",
      "   0.00000000e+00   0.00000000e+00   0.00000000e+00   0.00000000e+00\n",
      "   0.00000000e+00   0.00000000e+00   0.00000000e+00   0.00000000e+00\n",
      "   0.00000000e+00   0.00000000e+00   0.00000000e+00   0.00000000e+00\n",
      "   0.00000000e+00   0.00000000e+00   0.00000000e+00   0.00000000e+00\n",
      "   0.00000000e+00   0.00000000e+00   0.00000000e+00   0.00000000e+00\n",
      "   0.00000000e+00   0.00000000e+00   0.00000000e+00   0.00000000e+00\n",
      "   0.00000000e+00   0.00000000e+00   0.00000000e+00   0.00000000e+00\n",
      "   0.00000000e+00   0.00000000e+00   0.00000000e+00   0.00000000e+00\n",
      "   0.00000000e+00   0.00000000e+00   0.00000000e+00   0.00000000e+00\n",
      "   0.00000000e+00   0.00000000e+00   0.00000000e+00   0.00000000e+00\n",
      "   0.00000000e+00   0.00000000e+00   0.00000000e+00   0.00000000e+00\n",
      "   0.00000000e+00   0.00000000e+00   0.00000000e+00   0.00000000e+00\n",
      "   0.00000000e+00   0.00000000e+00   0.00000000e+00   0.00000000e+00\n",
      "   0.00000000e+00   0.00000000e+00   0.00000000e+00   0.00000000e+00\n",
      "   0.00000000e+00   0.00000000e+00   0.00000000e+00   0.00000000e+00\n",
      "   0.00000000e+00   0.00000000e+00   0.00000000e+00   0.00000000e+00\n",
      "   0.00000000e+00   0.00000000e+00   0.00000000e+00   0.00000000e+00\n",
      "   0.00000000e+00   0.00000000e+00   0.00000000e+00   0.00000000e+00\n",
      "   0.00000000e+00   0.00000000e+00   0.00000000e+00   0.00000000e+00\n",
      "   0.00000000e+00   0.00000000e+00   0.00000000e+00   0.00000000e+00\n",
      "   0.00000000e+00   0.00000000e+00   0.00000000e+00   0.00000000e+00\n",
      "   0.00000000e+00   0.00000000e+00   0.00000000e+00   0.00000000e+00\n",
      "   0.00000000e+00   0.00000000e+00   0.00000000e+00   0.00000000e+00\n",
      "   0.00000000e+00   0.00000000e+00   0.00000000e+00   0.00000000e+00\n",
      "   0.00000000e+00   0.00000000e+00   0.00000000e+00   0.00000000e+00\n",
      "   0.00000000e+00   0.00000000e+00   0.00000000e+00   0.00000000e+00\n",
      "   0.00000000e+00   0.00000000e+00   0.00000000e+00   0.00000000e+00\n",
      "   0.00000000e+00   0.00000000e+00   0.00000000e+00   0.00000000e+00\n",
      "   0.00000000e+00   0.00000000e+00   0.00000000e+00   0.00000000e+00\n",
      "   0.00000000e+00   0.00000000e+00   0.00000000e+00   0.00000000e+00\n",
      "   0.00000000e+00   0.00000000e+00   0.00000000e+00   0.00000000e+00\n",
      "   0.00000000e+00   0.00000000e+00   0.00000000e+00   0.00000000e+00\n",
      "   0.00000000e+00   0.00000000e+00   0.00000000e+00   0.00000000e+00\n",
      "   0.00000000e+00   0.00000000e+00   0.00000000e+00   0.00000000e+00\n",
      "   0.00000000e+00   0.00000000e+00   0.00000000e+00   0.00000000e+00\n",
      "   0.00000000e+00   0.00000000e+00   0.00000000e+00   0.00000000e+00\n",
      "   0.00000000e+00   0.00000000e+00   0.00000000e+00   0.00000000e+00\n",
      "   0.00000000e+00   0.00000000e+00   0.00000000e+00   0.00000000e+00\n",
      "   0.00000000e+00   0.00000000e+00   0.00000000e+00   0.00000000e+00\n",
      "   0.00000000e+00   0.00000000e+00   0.00000000e+00   0.00000000e+00\n",
      "   0.00000000e+00   0.00000000e+00   0.00000000e+00   0.00000000e+00\n",
      "   0.00000000e+00   0.00000000e+00   0.00000000e+00   0.00000000e+00\n",
      "   0.00000000e+00   0.00000000e+00   0.00000000e+00   0.00000000e+00\n",
      "   0.00000000e+00   0.00000000e+00   0.00000000e+00   0.00000000e+00\n",
      "   0.00000000e+00   0.00000000e+00   0.00000000e+00   0.00000000e+00\n",
      "   0.00000000e+00   0.00000000e+00   0.00000000e+00   0.00000000e+00\n",
      "   0.00000000e+00   0.00000000e+00   0.00000000e+00   0.00000000e+00\n",
      "   0.00000000e+00   0.00000000e+00   0.00000000e+00   0.00000000e+00\n",
      "   0.00000000e+00   0.00000000e+00   0.00000000e+00   0.00000000e+00\n",
      "   0.00000000e+00   0.00000000e+00   0.00000000e+00   0.00000000e+00\n",
      "   0.00000000e+00   0.00000000e+00   0.00000000e+00   0.00000000e+00\n",
      "   0.00000000e+00   0.00000000e+00   0.00000000e+00   0.00000000e+00\n",
      "   0.00000000e+00   0.00000000e+00   0.00000000e+00   0.00000000e+00\n",
      "   0.00000000e+00   0.00000000e+00   0.00000000e+00   0.00000000e+00\n",
      "   0.00000000e+00   0.00000000e+00   0.00000000e+00   0.00000000e+00\n",
      "   0.00000000e+00   0.00000000e+00   0.00000000e+00   0.00000000e+00\n",
      "   0.00000000e+00   0.00000000e+00   0.00000000e+00   0.00000000e+00\n",
      "   0.00000000e+00   0.00000000e+00   0.00000000e+00   0.00000000e+00\n",
      "   0.00000000e+00   0.00000000e+00   0.00000000e+00   0.00000000e+00\n",
      "   0.00000000e+00   0.00000000e+00   0.00000000e+00   0.00000000e+00\n",
      "   0.00000000e+00   0.00000000e+00   0.00000000e+00   0.00000000e+00\n",
      "   0.00000000e+00   0.00000000e+00   0.00000000e+00   0.00000000e+00\n",
      "   0.00000000e+00   0.00000000e+00   0.00000000e+00   0.00000000e+00\n",
      "   0.00000000e+00   0.00000000e+00   0.00000000e+00   0.00000000e+00\n",
      "   0.00000000e+00   0.00000000e+00   0.00000000e+00   0.00000000e+00\n",
      "   0.00000000e+00   0.00000000e+00   0.00000000e+00   0.00000000e+00\n",
      "   0.00000000e+00   0.00000000e+00   0.00000000e+00   0.00000000e+00\n",
      "   0.00000000e+00   0.00000000e+00   0.00000000e+00   0.00000000e+00\n",
      "   0.00000000e+00   0.00000000e+00   0.00000000e+00   0.00000000e+00\n",
      "   0.00000000e+00   0.00000000e+00   0.00000000e+00   0.00000000e+00\n",
      "   0.00000000e+00   0.00000000e+00   0.00000000e+00   0.00000000e+00\n",
      "   0.00000000e+00   0.00000000e+00   0.00000000e+00   0.00000000e+00\n",
      "   0.00000000e+00   0.00000000e+00   0.00000000e+00   0.00000000e+00\n",
      "   0.00000000e+00   0.00000000e+00   0.00000000e+00   0.00000000e+00\n",
      "   0.00000000e+00   0.00000000e+00   0.00000000e+00   0.00000000e+00\n",
      "   0.00000000e+00   0.00000000e+00   0.00000000e+00   0.00000000e+00\n",
      "   0.00000000e+00   0.00000000e+00   0.00000000e+00   0.00000000e+00\n",
      "   0.00000000e+00   0.00000000e+00   0.00000000e+00   0.00000000e+00\n",
      "   0.00000000e+00   0.00000000e+00   0.00000000e+00   0.00000000e+00\n",
      "   0.00000000e+00   0.00000000e+00   0.00000000e+00   0.00000000e+00\n",
      "   0.00000000e+00   0.00000000e+00   0.00000000e+00   0.00000000e+00\n",
      "   0.00000000e+00   0.00000000e+00   0.00000000e+00   0.00000000e+00\n",
      "   0.00000000e+00   0.00000000e+00   0.00000000e+00   0.00000000e+00\n",
      "   0.00000000e+00   0.00000000e+00   0.00000000e+00   0.00000000e+00\n",
      "   0.00000000e+00   0.00000000e+00   0.00000000e+00   0.00000000e+00\n",
      "   0.00000000e+00   0.00000000e+00   0.00000000e+00   0.00000000e+00\n",
      "   0.00000000e+00   0.00000000e+00   0.00000000e+00   0.00000000e+00\n",
      "   0.00000000e+00   0.00000000e+00   0.00000000e+00   0.00000000e+00\n",
      "   0.00000000e+00   0.00000000e+00   0.00000000e+00   0.00000000e+00\n",
      "   0.00000000e+00   0.00000000e+00   0.00000000e+00   0.00000000e+00\n",
      "   0.00000000e+00   0.00000000e+00   0.00000000e+00   0.00000000e+00\n",
      "   0.00000000e+00   0.00000000e+00   0.00000000e+00   0.00000000e+00\n",
      "   0.00000000e+00   0.00000000e+00   0.00000000e+00   0.00000000e+00\n",
      "   0.00000000e+00   6.87399006e-06   2.49799632e-06   2.06299592e-06]\n",
      "(13685, 412)\n"
     ]
    }
   ],
   "source": [
    "rScale = sklearn.preprocessing.RobustScaler().fit(preProcFeats)\n",
    "print rScale.scale_\n",
    "print rScale.center_\n",
    "\n",
    "preProcFeats = rScale.transform(preProcFeats)\n",
    "\n",
    "print preProcFeats.shape"
   ]
  },
  {
   "cell_type": "markdown",
   "metadata": {},
   "source": [
    "### Classifier"
   ]
  },
  {
   "cell_type": "code",
   "execution_count": 31,
   "metadata": {
    "collapsed": true
   },
   "outputs": [],
   "source": [
    "import sklearn.ensemble\n",
    "import sklearn.multiclass\n",
    "import sklearn.model_selection\n",
    "from sklearn.model_selection import GridSearchCV"
   ]
  },
  {
   "cell_type": "code",
   "execution_count": 32,
   "metadata": {
    "collapsed": true
   },
   "outputs": [],
   "source": [
    "# Multi-class one vs rest random forest classifier\n",
    "#clf = sklearn.multiclass.OneVsRestClassifier(sklearn.ensemble.RandomForestClassifier(n_estimators=10,\\\n",
    "#                                              max_depth=None, min_samples_split=2, random_state=0))"
   ]
  },
  {
   "cell_type": "markdown",
   "metadata": {},
   "source": [
    "**Cross-validation**"
   ]
  },
  {
   "cell_type": "code",
   "execution_count": 33,
   "metadata": {
    "collapsed": true
   },
   "outputs": [],
   "source": [
    "k_fold = sklearn.model_selection.StratifiedKFold(n_splits=3, shuffle=True)"
   ]
  },
  {
   "cell_type": "markdown",
   "metadata": {},
   "source": [
    "**Classifier**"
   ]
  },
  {
   "cell_type": "code",
   "execution_count": 34,
   "metadata": {
    "collapsed": true
   },
   "outputs": [],
   "source": [
    "randForest = sklearn.multiclass.OneVsRestClassifier(sklearn.ensemble.RandomForestClassifier()) #classifier for multiple labels\n",
    "#randForest = sklearn.multiclass.OneVsOneClassifier(sklearn.ensemble.RandomForestClassifier())\n",
    "\n",
    "#print randForest.get_params().keys()\n",
    "\n",
    "clf = sklearn.multiclass.OneVsRestClassifier(estimator=sklearn.ensemble.RandomForestClassifier(bootstrap=True, class_weight=None, criterion='gini',\n",
    "            max_depth=None, max_features='auto', max_leaf_nodes=None,\n",
    "            min_impurity_decrease=0.0, min_impurity_split=None,\n",
    "            min_samples_leaf=1, min_samples_split=2,\n",
    "            min_weight_fraction_leaf=0.0, n_estimators=80, n_jobs=-1,\n",
    "            oob_score=False, random_state=None, verbose=0,\n",
    "            warm_start=False),\n",
    "          n_jobs=1)\n",
    "\n",
    "#param_grid = {'estimator__n_estimators': [10, 20, 40, 80], 'estimator__max_features': [100, 400, 1600, 6400]}\n",
    "\n",
    "# clf = sklearn.model_selection.GridSearchCV(randForest, param_grid=param_grid, scoring='neg_log_loss',\\\n",
    "#                                            cv=k_fold, n_jobs=-1)\n",
    "\n",
    "# clf.fit(preProcFeats, preProcLabels) #fits data to already labelled set and finds best parameters for fitting\n",
    "# #print clf.cv_results_\n",
    "# print clf.best_score_                     \n",
    "# print clf.best_estimator_\n",
    "#clf.best_estimator is my randforest classifier that has had it's hyperparamaters tuned by gridsearched\n"
   ]
  },
  {
   "cell_type": "markdown",
   "metadata": {},
   "source": [
    "**Model Scoring**"
   ]
  },
  {
   "cell_type": "markdown",
   "metadata": {},
   "source": [
    "#### Confusion Matrix\n",
    "\n",
    "By definition a confusion matrix C is such that C<sub>ij</sub> is equal to the number of observations known to be in group i but predicted to be in group j.\n",
    "\n",
    "So in this case diagonal elements are correct predictions, off diagonal are incorrect predictions.\n",
    "\n",
    "False-positives are not such a big issue but false negatives $$C_{9j}(1-\\delta^{j}_{9})$$ \n",
    "are as these are (possible) pulsar candidates that haven't been identified."
   ]
  },
  {
   "cell_type": "code",
   "execution_count": 35,
   "metadata": {},
   "outputs": [
    {
     "name": "stdout",
     "output_type": "stream",
     "text": [
      "[-0.74045084 -0.722199   -0.65044008]\n",
      "[[   2   12    0    1    0    7    0    1]\n",
      " [   0 1082   22    0    3   12    4    4]\n",
      " [   0   73  385    0    5   14    0    1]\n",
      " [   0    0    3   77    2   34    2    0]\n",
      " [   0   30   17    0   65   41    0    0]\n",
      " [   0   14   10    5    2 1112    0    1]\n",
      " [   1   37    2    0    3    2  151   17]\n",
      " [   0   13    1    0    1   12    6  133]]\n"
     ]
    }
   ],
   "source": [
    "print sklearn.model_selection.cross_val_score(clf, preProcFeats, preProcLabels,\\\n",
    "                                              cv=k_fold, n_jobs=-1, scoring='neg_log_loss')\n",
    "\n",
    "\n",
    "# Train/Test Validation\n",
    "X_train, X_test, y_train, y_test = sklearn.model_selection.train_test_split(preProcFeats,\\\n",
    "                                                            preProcLabels, test_size=0.25, random_state=420) #one quarter of data used for testing\n",
    "predictTestX = clf.fit(X_train, y_train).predict_proba(X_test) #return an array of predicted values\n",
    "confuseMatrix = sklearn.metrics.confusion_matrix(y_test, clf.fit(X_train, y_train).predict(X_test))\n",
    "print confuseMatrix"
   ]
  },
  {
   "cell_type": "code",
   "execution_count": 36,
   "metadata": {},
   "outputs": [
    {
     "name": "stdout",
     "output_type": "stream",
     "text": [
      "(8, 8)\n"
     ]
    },
    {
     "data": {
      "image/png": "[encoded data removed]",
      "text/plain": [
       "<matplotlib.figure.Figure at 0x7f5c2806e6d0>"
      ]
     },
     "metadata": {},
     "output_type": "display_data"
    }
   ],
   "source": [
    "\n",
    "classLabels = ['1', '2', '3', '4', '5', '6', '7', '9']\n",
    "\n",
    "print confuseMatrix.shape\n",
    "normConfuseMatrix = np.zeros(confuseMatrix.shape)\n",
    "for col in np.arange(confuseMatrix.shape[1]):\n",
    "    normConfuseMatrix[:,col] = confuseMatrix[:,col] / float(confuseMatrix[:,col].max())\n",
    "\n",
    "#turn the matrix into a dataframe    \n",
    "#dfCM = pd.DataFrame(normConfuseMatrix, index = [i for i in classLabels], columns = [i for i in classLabels])\n",
    "dfCM = pd.DataFrame(confuseMatrix, index = [i for i in classLabels], columns = [i for i in classLabels])\n",
    "\n",
    "#plot the confusion matrix visually using a heatmap\n",
    "colormap = plt.cm.cubehelix_r\n",
    "fig = plt.figure(figsize=(5,5)) # (width, height)\n",
    "sns.heatmap(dfCM, annot=True, vmin = 0, vmax = 100, fmt='d', cbar=False, cmap = colormap)\n",
    "#sns.heatmap(dfCM, annot=True, cbar=False)\n",
    "plt.xlabel('True Label ID')\n",
    "plt.ylabel('Predicted Label ID')\n",
    "\n",
    "plt.tight_layout()\n",
    "plt.savefig('confusion_matrix.pdf')"
   ]
  },
  {
   "cell_type": "markdown",
   "metadata": {},
   "source": [
    "**Feature Importance**"
   ]
  },
  {
   "cell_type": "markdown",
   "metadata": {},
   "source": [
    "Plots a graph of the "
   ]
  },
  {
   "cell_type": "code",
   "execution_count": 37,
   "metadata": {
    "collapsed": true
   },
   "outputs": [],
   "source": [
    "fitModel = clf.fit(preProcFeats, preProcLabels)"
   ]
  },
  {
   "cell_type": "code",
   "execution_count": 38,
   "metadata": {},
   "outputs": [
    {
     "name": "stdout",
     "output_type": "stream",
     "text": [
      "1 MJDstart 0.105206062786\n",
      "2 MJDstart 0.154069585921\n",
      "3 MJDstart 0.114317360135\n",
      "4 MJDstart 0.217774463795\n",
      "5 MJDstart 0.100961331248\n",
      "6 MJDstart 0.177033658856\n",
      "7 MJDstart 0.180319831158\n",
      "8 MJDstart 0.145016877055\n"
     ]
    },
    {
     "data": {
      "text/plain": [
       "<matplotlib.text.Text at 0x7f5c28045f90>"
      ]
     },
     "execution_count": 38,
     "metadata": {},
     "output_type": "execute_result"
    },
    {
     "data": {
      "image/png": "[encoded data removed]",
      "text/plain": [
       "<matplotlib.figure.Figure at 0x7f5c28090690>"
      ]
     },
     "metadata": {},
     "output_type": "display_data"
    }
   ],
   "source": [
    "featureStrs = featureDf.columns.values\n",
    "\n",
    "fimps = []\n",
    "\n",
    "fig = plt.figure(figsize=(15,5)) # (width, height)\n",
    "for idx in np.arange(len(fitModel.estimators_)):\n",
    "    maxFeatVal = fitModel.estimators_[idx].feature_importances_.max() #find the feature with most importance\n",
    "    \n",
    "    #plot the importance of each feature (for each estimator, labelled by line colour)\n",
    "    plt.plot(fitModel.estimators_[idx].feature_importances_, label=idx+1)\n",
    "    \n",
    "    #save feature importance array\n",
    "    fimps.append(fitModel.estimators_[idx].feature_importances_)\n",
    "    \n",
    "    #plt.plot(fitModel.estimators_[idx].feature_importances_.clip(1e-2, maxFeatVal), label=idx+1)\n",
    "    #plt.semilogy(fitModel.estimators_[idx].feature_importances_.clip(1e-3, maxFeatVal), label=idx+1)\n",
    "    \n",
    "    #for each estimator 1-8 prints the number, the feature with the highest importance, the features max importance\n",
    "    print idx+1, featureStrs[np.argmax(fitModel.estimators_[idx].feature_importances_)], maxFeatVal\n",
    "\n",
    "plt.legend()\n",
    "plt.xlabel('Feature ID')"
   ]
  },
  {
   "cell_type": "code",
   "execution_count": 39,
   "metadata": {},
   "outputs": [
    {
     "name": "stdout",
     "output_type": "stream",
     "text": [
      "[[ 0.02564103  0.01282051  0.          0.01282051  0.03846154  0.\n",
      "   0.91025641  0.        ]\n",
      " [ 0.          0.01176471  0.03529412  0.04705882  0.02352941  0.03529412\n",
      "   0.83529412  0.01176471]\n",
      " [ 0.05479452  0.01369863  0.          0.02739726  0.1369863   0.\n",
      "   0.76712329  0.        ]\n",
      " [ 0.06976744  0.01162791  0.03488372  0.02325581  0.6744186   0.03488372\n",
      "   0.15116279  0.        ]\n",
      " [ 0.          0.          0.0125      0.075       0.0625      0.0125\n",
      "   0.825       0.0125    ]\n",
      " [ 0.04597701  0.01149425  0.03448276  0.08045977  0.06896552  0.09195402\n",
      "   0.6091954   0.05747126]\n",
      " [ 0.0375      0.025       0.0125      0.075       0.025       0.          0.825\n",
      "   0.        ]\n",
      " [ 0.04878049  0.          0.01219512  0.02439024  0.03658537  0.01219512\n",
      "   0.86585366  0.        ]\n",
      " [ 0.66666667  0.          0.          0.01282051  0.12820513  0.\n",
      "   0.19230769  0.        ]\n",
      " [ 0.07407407  0.          0.0617284   0.03703704  0.02469136  0.01234568\n",
      "   0.7654321   0.02469136]]\n"
     ]
    }
   ],
   "source": [
    "print fitModel.predict_proba(preProcFeats)[:10]"
   ]
  },
  {
   "cell_type": "code",
   "execution_count": 40,
   "metadata": {
    "collapsed": true
   },
   "outputs": [],
   "source": [
    "predictProb = fitModel.predict_proba(preProcFeats)"
   ]
  },
  {
   "cell_type": "code",
   "execution_count": 41,
   "metadata": {},
   "outputs": [
    {
     "name": "stdout",
     "output_type": "stream",
     "text": [
      "(13685,)\n",
      "(13685, 8)\n",
      "(691, 1)\n",
      "0.0140845070423\n"
     ]
    },
    {
     "data": {
      "image/png": "[encoded data removed]",
      "text/plain": [
       "<matplotlib.figure.Figure at 0x7f5c2807d690>"
      ]
     },
     "metadata": {},
     "output_type": "display_data"
    },
    {
     "data": {
      "image/png": "[encoded data removed]",
      "text/plain": [
       "<matplotlib.figure.Figure at 0x7f5c17e6e0d0>"
      ]
     },
     "metadata": {},
     "output_type": "display_data"
    },
    {
     "data": {
      "image/png": "[encoded data removed]",
      "text/plain": [
       "<matplotlib.figure.Figure at 0x7f5c17c9bfd0>"
      ]
     },
     "metadata": {},
     "output_type": "display_data"
    },
    {
     "data": {
      "image/png": "[encoded data removed]",
      "text/plain": [
       "<matplotlib.figure.Figure at 0x7f5c5cae1750>"
      ]
     },
     "metadata": {},
     "output_type": "display_data"
    },
    {
     "data": {
      "image/png": "[encoded data removed]",
      "text/plain": [
       "<matplotlib.figure.Figure at 0x7f5c19af5410>"
      ]
     },
     "metadata": {},
     "output_type": "display_data"
    },
    {
     "data": {
      "image/png": "[encoded data removed]",
      "text/plain": [
       "<matplotlib.figure.Figure at 0x7f5c17808c50>"
      ]
     },
     "metadata": {},
     "output_type": "display_data"
    },
    {
     "data": {
      "image/png": "[encoded data removed]",
      "text/plain": [
       "<matplotlib.figure.Figure at 0x7f5c17a28150>"
      ]
     },
     "metadata": {},
     "output_type": "display_data"
    },
    {
     "data": {
      "image/png": "[encoded data removed]",
      "text/plain": [
       "<matplotlib.figure.Figure at 0x7f5c142e4f10>"
      ]
     },
     "metadata": {},
     "output_type": "display_data"
    }
   ],
   "source": [
    "print preProcLabels.shape\n",
    "print predictProb.shape\n",
    "print np.argwhere(preProcLabels == 9).shape\n",
    "\n",
    "#c9c9Prob = predictProb[np.argwhere(preProcLabels == 9).flatten()][:,7]\n",
    "#cAllc9Prob = predictProb[np.argwhere(preProcLabels != 9).flatten()][:,7]\n",
    "\n",
    "#fetch probabilities for timeseries that are class 9, and tiemseries that are not class 9 - shouldnt this be 0 and 9?\n",
    "c9c9Prob = predictTestX[np.argwhere(y_test == 9).flatten()][:,7] #.flatten() collapses the array into one dimension\n",
    "cAllc9Prob = predictTestX[np.argwhere(y_test != 9).flatten()][:,7]\n",
    "print c9c9Prob.min()\n",
    "\n",
    "#fig = plt.figure(figsize=(5,4)) # (width, height)\n",
    "fig, ax = plt.subplots(figsize=(5,3.5)) # (width, height)\n",
    "for ss in [c9c9Prob, cAllc9Prob]:\n",
    "    sns.distplot(ss, kde=False, bins=30)\n",
    "plt.xlabel('Probability')\n",
    "plt.ylabel('Counts')\n",
    "plt.xlim(0.25, 1.)\n",
    "plt.ylim(0, 25)\n",
    "\n",
    "plt.tight_layout()\n",
    "plt.savefig('class9_hist.pdf')\n",
    "\n",
    "for idx in range(7):\n",
    "    label = idx+1\n",
    "    cnc9prob = predictTestX[np.argwhere(y_test == label).flatten()][:,7]\n",
    "    fig, ax = plt.subplots(figsize=(5,3.5)) # (width, height)\n",
    "    for ss in [c9c9Prob, cnc9prob]:\n",
    "        sns.distplot(ss, kde=False, bins=30)\n",
    "    plt.xlabel('Probability')\n",
    "    plt.ylabel('Counts')\n",
    "    plt.xlim(0.25, 1.)\n",
    "    plt.ylim(0, 25)\n",
    "    plt.title('False negatives - class 9 labelled as class %s'%label)\n",
    "    plt.tight_layout()"
   ]
  },
  {
   "cell_type": "markdown",
   "metadata": {},
   "source": [
    "### The onevsrestclassifier uses a separate estimator for each class, so each of these will have a separate estimator that has different feature importances."
   ]
  },
  {
   "cell_type": "code",
   "execution_count": 42,
   "metadata": {},
   "outputs": [
    {
     "ename": "KeyboardInterrupt",
     "evalue": "",
     "output_type": "error",
     "traceback": [
      "\u001b[0;31m---------------------------------------------------------------------------\u001b[0m",
      "\u001b[0;31mKeyboardInterrupt\u001b[0m                         Traceback (most recent call last)",
      "\u001b[0;32m<ipython-input-42-4d71c34ca76d>\u001b[0m in \u001b[0;36m<module>\u001b[0;34m()\u001b[0m\n\u001b[1;32m      5\u001b[0m \u001b[0;32mfor\u001b[0m \u001b[0mestimator\u001b[0m \u001b[0;32min\u001b[0m \u001b[0mfitModel\u001b[0m\u001b[0;34m.\u001b[0m\u001b[0mestimators_\u001b[0m\u001b[0;34m:\u001b[0m\u001b[0;34m\u001b[0m\u001b[0m\n\u001b[1;32m      6\u001b[0m     \u001b[0mmodel\u001b[0m \u001b[0;34m=\u001b[0m \u001b[0mSelectFromModel\u001b[0m\u001b[0;34m(\u001b[0m\u001b[0mestimator\u001b[0m\u001b[0;34m,\u001b[0m \u001b[0mprefit\u001b[0m\u001b[0;34m=\u001b[0m\u001b[0mTrue\u001b[0m\u001b[0;34m)\u001b[0m\u001b[0;34m\u001b[0m\u001b[0m\n\u001b[0;32m----> 7\u001b[0;31m     \u001b[0mhighfeats\u001b[0m \u001b[0;34m=\u001b[0m \u001b[0mnp\u001b[0m\u001b[0;34m.\u001b[0m\u001b[0mappend\u001b[0m\u001b[0;34m(\u001b[0m\u001b[0mhighfeats\u001b[0m\u001b[0;34m,\u001b[0m \u001b[0mmodel\u001b[0m\u001b[0;34m.\u001b[0m\u001b[0mget_support\u001b[0m\u001b[0;34m(\u001b[0m\u001b[0mindices\u001b[0m \u001b[0;34m=\u001b[0m \u001b[0mTrue\u001b[0m\u001b[0;34m)\u001b[0m\u001b[0;34m)\u001b[0m\u001b[0;34m\u001b[0m\u001b[0m\n\u001b[0m\u001b[1;32m      8\u001b[0m \u001b[0;34m\u001b[0m\u001b[0m\n\u001b[1;32m      9\u001b[0m \u001b[0mdelidx\u001b[0m \u001b[0;34m=\u001b[0m \u001b[0mnp\u001b[0m\u001b[0;34m.\u001b[0m\u001b[0munique\u001b[0m\u001b[0;34m(\u001b[0m\u001b[0mhighfeats\u001b[0m\u001b[0;34m)\u001b[0m\u001b[0;34m\u001b[0m\u001b[0m\n",
      "\u001b[0;32m/home/inigo/anaconda2/lib/python2.7/site-packages/sklearn/feature_selection/base.pyc\u001b[0m in \u001b[0;36mget_support\u001b[0;34m(self, indices)\u001b[0m\n\u001b[1;32m     45\u001b[0m             \u001b[0mvalues\u001b[0m \u001b[0mare\u001b[0m \u001b[0mindices\u001b[0m \u001b[0minto\u001b[0m \u001b[0mthe\u001b[0m \u001b[0minput\u001b[0m \u001b[0mfeature\u001b[0m \u001b[0mvector\u001b[0m\u001b[0;34m.\u001b[0m\u001b[0;34m\u001b[0m\u001b[0m\n\u001b[1;32m     46\u001b[0m         \"\"\"\n\u001b[0;32m---> 47\u001b[0;31m         \u001b[0mmask\u001b[0m \u001b[0;34m=\u001b[0m \u001b[0mself\u001b[0m\u001b[0;34m.\u001b[0m\u001b[0m_get_support_mask\u001b[0m\u001b[0;34m(\u001b[0m\u001b[0;34m)\u001b[0m\u001b[0;34m\u001b[0m\u001b[0m\n\u001b[0m\u001b[1;32m     48\u001b[0m         \u001b[0;32mreturn\u001b[0m \u001b[0mmask\u001b[0m \u001b[0;32mif\u001b[0m \u001b[0;32mnot\u001b[0m \u001b[0mindices\u001b[0m \u001b[0;32melse\u001b[0m \u001b[0mnp\u001b[0m\u001b[0;34m.\u001b[0m\u001b[0mwhere\u001b[0m\u001b[0;34m(\u001b[0m\u001b[0mmask\u001b[0m\u001b[0;34m)\u001b[0m\u001b[0;34m[\u001b[0m\u001b[0;36m0\u001b[0m\u001b[0;34m]\u001b[0m\u001b[0;34m\u001b[0m\u001b[0m\n\u001b[1;32m     49\u001b[0m \u001b[0;34m\u001b[0m\u001b[0m\n",
      "\u001b[0;32m/home/inigo/anaconda2/lib/python2.7/site-packages/sklearn/feature_selection/from_model.pyc\u001b[0m in \u001b[0;36m_get_support_mask\u001b[0;34m(self)\u001b[0m\n\u001b[1;32m    140\u001b[0m                 \u001b[0;34m'Either fit SelectFromModel before transform or set \"prefit='\u001b[0m\u001b[0;34m\u001b[0m\u001b[0m\n\u001b[1;32m    141\u001b[0m                 'True\" and pass a fitted estimator to the constructor.')\n\u001b[0;32m--> 142\u001b[0;31m         \u001b[0mscores\u001b[0m \u001b[0;34m=\u001b[0m \u001b[0m_get_feature_importances\u001b[0m\u001b[0;34m(\u001b[0m\u001b[0mestimator\u001b[0m\u001b[0;34m,\u001b[0m \u001b[0mself\u001b[0m\u001b[0;34m.\u001b[0m\u001b[0mnorm_order\u001b[0m\u001b[0;34m)\u001b[0m\u001b[0;34m\u001b[0m\u001b[0m\n\u001b[0m\u001b[1;32m    143\u001b[0m         \u001b[0mthreshold\u001b[0m \u001b[0;34m=\u001b[0m \u001b[0m_calculate_threshold\u001b[0m\u001b[0;34m(\u001b[0m\u001b[0mestimator\u001b[0m\u001b[0;34m,\u001b[0m \u001b[0mscores\u001b[0m\u001b[0;34m,\u001b[0m \u001b[0mself\u001b[0m\u001b[0;34m.\u001b[0m\u001b[0mthreshold\u001b[0m\u001b[0;34m)\u001b[0m\u001b[0;34m\u001b[0m\u001b[0m\n\u001b[1;32m    144\u001b[0m         \u001b[0;32mreturn\u001b[0m \u001b[0mscores\u001b[0m \u001b[0;34m>=\u001b[0m \u001b[0mthreshold\u001b[0m\u001b[0;34m\u001b[0m\u001b[0m\n",
      "\u001b[0;32m/home/inigo/anaconda2/lib/python2.7/site-packages/sklearn/feature_selection/from_model.pyc\u001b[0m in \u001b[0;36m_get_feature_importances\u001b[0;34m(estimator, norm_order)\u001b[0m\n\u001b[1;32m     14\u001b[0m \u001b[0;32mdef\u001b[0m \u001b[0m_get_feature_importances\u001b[0m\u001b[0;34m(\u001b[0m\u001b[0mestimator\u001b[0m\u001b[0;34m,\u001b[0m \u001b[0mnorm_order\u001b[0m\u001b[0;34m=\u001b[0m\u001b[0;36m1\u001b[0m\u001b[0;34m)\u001b[0m\u001b[0;34m:\u001b[0m\u001b[0;34m\u001b[0m\u001b[0m\n\u001b[1;32m     15\u001b[0m     \u001b[0;34m\"\"\"Retrieve or aggregate feature importances from estimator\"\"\"\u001b[0m\u001b[0;34m\u001b[0m\u001b[0m\n\u001b[0;32m---> 16\u001b[0;31m     \u001b[0mimportances\u001b[0m \u001b[0;34m=\u001b[0m \u001b[0mgetattr\u001b[0m\u001b[0;34m(\u001b[0m\u001b[0mestimator\u001b[0m\u001b[0;34m,\u001b[0m \u001b[0;34m\"feature_importances_\"\u001b[0m\u001b[0;34m,\u001b[0m \u001b[0mNone\u001b[0m\u001b[0;34m)\u001b[0m\u001b[0;34m\u001b[0m\u001b[0m\n\u001b[0m\u001b[1;32m     17\u001b[0m \u001b[0;34m\u001b[0m\u001b[0m\n\u001b[1;32m     18\u001b[0m     \u001b[0;32mif\u001b[0m \u001b[0mimportances\u001b[0m \u001b[0;32mis\u001b[0m \u001b[0mNone\u001b[0m \u001b[0;32mand\u001b[0m \u001b[0mhasattr\u001b[0m\u001b[0;34m(\u001b[0m\u001b[0mestimator\u001b[0m\u001b[0;34m,\u001b[0m \u001b[0;34m\"coef_\"\u001b[0m\u001b[0;34m)\u001b[0m\u001b[0;34m:\u001b[0m\u001b[0;34m\u001b[0m\u001b[0m\n",
      "\u001b[0;32m/home/inigo/anaconda2/lib/python2.7/site-packages/sklearn/ensemble/forest.pyc\u001b[0m in \u001b[0;36mfeature_importances_\u001b[0;34m(self)\u001b[0m\n\u001b[1;32m    371\u001b[0m                                    \u001b[0mbackend\u001b[0m\u001b[0;34m=\u001b[0m\u001b[0;34m\"threading\"\u001b[0m\u001b[0;34m)\u001b[0m\u001b[0;34m(\u001b[0m\u001b[0;34m\u001b[0m\u001b[0m\n\u001b[1;32m    372\u001b[0m             \u001b[0mdelayed\u001b[0m\u001b[0;34m(\u001b[0m\u001b[0mgetattr\u001b[0m\u001b[0;34m)\u001b[0m\u001b[0;34m(\u001b[0m\u001b[0mtree\u001b[0m\u001b[0;34m,\u001b[0m \u001b[0;34m'feature_importances_'\u001b[0m\u001b[0;34m)\u001b[0m\u001b[0;34m\u001b[0m\u001b[0m\n\u001b[0;32m--> 373\u001b[0;31m             for tree in self.estimators_)\n\u001b[0m\u001b[1;32m    374\u001b[0m \u001b[0;34m\u001b[0m\u001b[0m\n\u001b[1;32m    375\u001b[0m         \u001b[0;32mreturn\u001b[0m \u001b[0msum\u001b[0m\u001b[0;34m(\u001b[0m\u001b[0mall_importances\u001b[0m\u001b[0;34m)\u001b[0m \u001b[0;34m/\u001b[0m \u001b[0mlen\u001b[0m\u001b[0;34m(\u001b[0m\u001b[0mself\u001b[0m\u001b[0;34m.\u001b[0m\u001b[0mestimators_\u001b[0m\u001b[0;34m)\u001b[0m\u001b[0;34m\u001b[0m\u001b[0m\n",
      "\u001b[0;32m/home/inigo/anaconda2/lib/python2.7/site-packages/sklearn/externals/joblib/parallel.pyc\u001b[0m in \u001b[0;36m__call__\u001b[0;34m(self, iterable)\u001b[0m\n\u001b[1;32m    795\u001b[0m         \u001b[0;32mfinally\u001b[0m\u001b[0;34m:\u001b[0m\u001b[0;34m\u001b[0m\u001b[0m\n\u001b[1;32m    796\u001b[0m             \u001b[0;32mif\u001b[0m \u001b[0;32mnot\u001b[0m \u001b[0mself\u001b[0m\u001b[0;34m.\u001b[0m\u001b[0m_managed_backend\u001b[0m\u001b[0;34m:\u001b[0m\u001b[0;34m\u001b[0m\u001b[0m\n\u001b[0;32m--> 797\u001b[0;31m                 \u001b[0mself\u001b[0m\u001b[0;34m.\u001b[0m\u001b[0m_terminate_backend\u001b[0m\u001b[0;34m(\u001b[0m\u001b[0;34m)\u001b[0m\u001b[0;34m\u001b[0m\u001b[0m\n\u001b[0m\u001b[1;32m    798\u001b[0m             \u001b[0mself\u001b[0m\u001b[0;34m.\u001b[0m\u001b[0m_jobs\u001b[0m \u001b[0;34m=\u001b[0m \u001b[0mlist\u001b[0m\u001b[0;34m(\u001b[0m\u001b[0;34m)\u001b[0m\u001b[0;34m\u001b[0m\u001b[0m\n\u001b[1;32m    799\u001b[0m         \u001b[0moutput\u001b[0m \u001b[0;34m=\u001b[0m \u001b[0mself\u001b[0m\u001b[0;34m.\u001b[0m\u001b[0m_output\u001b[0m\u001b[0;34m\u001b[0m\u001b[0m\n",
      "\u001b[0;32m/home/inigo/anaconda2/lib/python2.7/site-packages/sklearn/externals/joblib/parallel.pyc\u001b[0m in \u001b[0;36m_terminate_backend\u001b[0;34m(self)\u001b[0m\n\u001b[1;32m    568\u001b[0m     \u001b[0;32mdef\u001b[0m \u001b[0m_terminate_backend\u001b[0m\u001b[0;34m(\u001b[0m\u001b[0mself\u001b[0m\u001b[0;34m)\u001b[0m\u001b[0;34m:\u001b[0m\u001b[0;34m\u001b[0m\u001b[0m\n\u001b[1;32m    569\u001b[0m         \u001b[0;32mif\u001b[0m \u001b[0mself\u001b[0m\u001b[0;34m.\u001b[0m\u001b[0m_backend\u001b[0m \u001b[0;32mis\u001b[0m \u001b[0;32mnot\u001b[0m \u001b[0mNone\u001b[0m\u001b[0;34m:\u001b[0m\u001b[0;34m\u001b[0m\u001b[0m\n\u001b[0;32m--> 570\u001b[0;31m             \u001b[0mself\u001b[0m\u001b[0;34m.\u001b[0m\u001b[0m_backend\u001b[0m\u001b[0;34m.\u001b[0m\u001b[0mterminate\u001b[0m\u001b[0;34m(\u001b[0m\u001b[0;34m)\u001b[0m\u001b[0;34m\u001b[0m\u001b[0m\n\u001b[0m\u001b[1;32m    571\u001b[0m \u001b[0;34m\u001b[0m\u001b[0m\n\u001b[1;32m    572\u001b[0m     \u001b[0;32mdef\u001b[0m \u001b[0m_dispatch\u001b[0m\u001b[0;34m(\u001b[0m\u001b[0mself\u001b[0m\u001b[0;34m,\u001b[0m \u001b[0mbatch\u001b[0m\u001b[0;34m)\u001b[0m\u001b[0;34m:\u001b[0m\u001b[0;34m\u001b[0m\u001b[0m\n",
      "\u001b[0;32m/home/inigo/anaconda2/lib/python2.7/site-packages/sklearn/externals/joblib/_parallel_backends.pyc\u001b[0m in \u001b[0;36mterminate\u001b[0;34m(self)\u001b[0m\n\u001b[1;32m    134\u001b[0m         \u001b[0;32mif\u001b[0m \u001b[0mself\u001b[0m\u001b[0;34m.\u001b[0m\u001b[0m_pool\u001b[0m \u001b[0;32mis\u001b[0m \u001b[0;32mnot\u001b[0m \u001b[0mNone\u001b[0m\u001b[0;34m:\u001b[0m\u001b[0;34m\u001b[0m\u001b[0m\n\u001b[1;32m    135\u001b[0m             \u001b[0mself\u001b[0m\u001b[0;34m.\u001b[0m\u001b[0m_pool\u001b[0m\u001b[0;34m.\u001b[0m\u001b[0mclose\u001b[0m\u001b[0;34m(\u001b[0m\u001b[0;34m)\u001b[0m\u001b[0;34m\u001b[0m\u001b[0m\n\u001b[0;32m--> 136\u001b[0;31m             \u001b[0mself\u001b[0m\u001b[0;34m.\u001b[0m\u001b[0m_pool\u001b[0m\u001b[0;34m.\u001b[0m\u001b[0mterminate\u001b[0m\u001b[0;34m(\u001b[0m\u001b[0;34m)\u001b[0m  \u001b[0;31m# terminate does a join()\u001b[0m\u001b[0;34m\u001b[0m\u001b[0m\n\u001b[0m\u001b[1;32m    137\u001b[0m             \u001b[0mself\u001b[0m\u001b[0;34m.\u001b[0m\u001b[0m_pool\u001b[0m \u001b[0;34m=\u001b[0m \u001b[0mNone\u001b[0m\u001b[0;34m\u001b[0m\u001b[0m\n\u001b[1;32m    138\u001b[0m \u001b[0;34m\u001b[0m\u001b[0m\n",
      "\u001b[0;32m/home/inigo/anaconda2/lib/python2.7/multiprocessing/pool.pyc\u001b[0m in \u001b[0;36mterminate\u001b[0;34m(self)\u001b[0m\n\u001b[1;32m    463\u001b[0m         \u001b[0mself\u001b[0m\u001b[0;34m.\u001b[0m\u001b[0m_state\u001b[0m \u001b[0;34m=\u001b[0m \u001b[0mTERMINATE\u001b[0m\u001b[0;34m\u001b[0m\u001b[0m\n\u001b[1;32m    464\u001b[0m         \u001b[0mself\u001b[0m\u001b[0;34m.\u001b[0m\u001b[0m_worker_handler\u001b[0m\u001b[0;34m.\u001b[0m\u001b[0m_state\u001b[0m \u001b[0;34m=\u001b[0m \u001b[0mTERMINATE\u001b[0m\u001b[0;34m\u001b[0m\u001b[0m\n\u001b[0;32m--> 465\u001b[0;31m         \u001b[0mself\u001b[0m\u001b[0;34m.\u001b[0m\u001b[0m_terminate\u001b[0m\u001b[0;34m(\u001b[0m\u001b[0;34m)\u001b[0m\u001b[0;34m\u001b[0m\u001b[0m\n\u001b[0m\u001b[1;32m    466\u001b[0m \u001b[0;34m\u001b[0m\u001b[0m\n\u001b[1;32m    467\u001b[0m     \u001b[0;32mdef\u001b[0m \u001b[0mjoin\u001b[0m\u001b[0;34m(\u001b[0m\u001b[0mself\u001b[0m\u001b[0;34m)\u001b[0m\u001b[0;34m:\u001b[0m\u001b[0;34m\u001b[0m\u001b[0m\n",
      "\u001b[0;32m/home/inigo/anaconda2/lib/python2.7/multiprocessing/util.pyc\u001b[0m in \u001b[0;36m__call__\u001b[0;34m(self, wr)\u001b[0m\n\u001b[1;32m    205\u001b[0m                 sub_debug('finalizer calling %s with args %s and kwargs %s',\n\u001b[1;32m    206\u001b[0m                           self._callback, self._args, self._kwargs)\n\u001b[0;32m--> 207\u001b[0;31m                 \u001b[0mres\u001b[0m \u001b[0;34m=\u001b[0m \u001b[0mself\u001b[0m\u001b[0;34m.\u001b[0m\u001b[0m_callback\u001b[0m\u001b[0;34m(\u001b[0m\u001b[0;34m*\u001b[0m\u001b[0mself\u001b[0m\u001b[0;34m.\u001b[0m\u001b[0m_args\u001b[0m\u001b[0;34m,\u001b[0m \u001b[0;34m**\u001b[0m\u001b[0mself\u001b[0m\u001b[0;34m.\u001b[0m\u001b[0m_kwargs\u001b[0m\u001b[0;34m)\u001b[0m\u001b[0;34m\u001b[0m\u001b[0m\n\u001b[0m\u001b[1;32m    208\u001b[0m             \u001b[0mself\u001b[0m\u001b[0;34m.\u001b[0m\u001b[0m_weakref\u001b[0m \u001b[0;34m=\u001b[0m \u001b[0mself\u001b[0m\u001b[0;34m.\u001b[0m\u001b[0m_callback\u001b[0m \u001b[0;34m=\u001b[0m \u001b[0mself\u001b[0m\u001b[0;34m.\u001b[0m\u001b[0m_args\u001b[0m \u001b[0;34m=\u001b[0m\u001b[0;31m \u001b[0m\u001b[0;31m\\\u001b[0m\u001b[0;34m\u001b[0m\u001b[0m\n\u001b[1;32m    209\u001b[0m                             \u001b[0mself\u001b[0m\u001b[0;34m.\u001b[0m\u001b[0m_kwargs\u001b[0m \u001b[0;34m=\u001b[0m \u001b[0mself\u001b[0m\u001b[0;34m.\u001b[0m\u001b[0m_key\u001b[0m \u001b[0;34m=\u001b[0m \u001b[0mNone\u001b[0m\u001b[0;34m\u001b[0m\u001b[0m\n",
      "\u001b[0;32m/home/inigo/anaconda2/lib/python2.7/multiprocessing/pool.pyc\u001b[0m in \u001b[0;36m_terminate_pool\u001b[0;34m(cls, taskqueue, inqueue, outqueue, pool, worker_handler, task_handler, result_handler, cache)\u001b[0m\n\u001b[1;32m    504\u001b[0m         \u001b[0mdebug\u001b[0m\u001b[0;34m(\u001b[0m\u001b[0;34m'joining worker handler'\u001b[0m\u001b[0;34m)\u001b[0m\u001b[0;34m\u001b[0m\u001b[0m\n\u001b[1;32m    505\u001b[0m         \u001b[0;32mif\u001b[0m \u001b[0mthreading\u001b[0m\u001b[0;34m.\u001b[0m\u001b[0mcurrent_thread\u001b[0m\u001b[0;34m(\u001b[0m\u001b[0;34m)\u001b[0m \u001b[0;32mis\u001b[0m \u001b[0;32mnot\u001b[0m \u001b[0mworker_handler\u001b[0m\u001b[0;34m:\u001b[0m\u001b[0;34m\u001b[0m\u001b[0m\n\u001b[0;32m--> 506\u001b[0;31m             \u001b[0mworker_handler\u001b[0m\u001b[0;34m.\u001b[0m\u001b[0mjoin\u001b[0m\u001b[0;34m(\u001b[0m\u001b[0;36m1e100\u001b[0m\u001b[0;34m)\u001b[0m\u001b[0;34m\u001b[0m\u001b[0m\n\u001b[0m\u001b[1;32m    507\u001b[0m \u001b[0;34m\u001b[0m\u001b[0m\n\u001b[1;32m    508\u001b[0m         \u001b[0;31m# Terminate workers which haven't already finished.\u001b[0m\u001b[0;34m\u001b[0m\u001b[0;34m\u001b[0m\u001b[0m\n",
      "\u001b[0;32m/home/inigo/anaconda2/lib/python2.7/threading.pyc\u001b[0m in \u001b[0;36mjoin\u001b[0;34m(self, timeout)\u001b[0m\n\u001b[1;32m    949\u001b[0m                             \u001b[0mself\u001b[0m\u001b[0;34m.\u001b[0m\u001b[0m_note\u001b[0m\u001b[0;34m(\u001b[0m\u001b[0;34m\"%s.join(): timed out\"\u001b[0m\u001b[0;34m,\u001b[0m \u001b[0mself\u001b[0m\u001b[0;34m)\u001b[0m\u001b[0;34m\u001b[0m\u001b[0m\n\u001b[1;32m    950\u001b[0m                         \u001b[0;32mbreak\u001b[0m\u001b[0;34m\u001b[0m\u001b[0m\n\u001b[0;32m--> 951\u001b[0;31m                     \u001b[0mself\u001b[0m\u001b[0;34m.\u001b[0m\u001b[0m__block\u001b[0m\u001b[0;34m.\u001b[0m\u001b[0mwait\u001b[0m\u001b[0;34m(\u001b[0m\u001b[0mdelay\u001b[0m\u001b[0;34m)\u001b[0m\u001b[0;34m\u001b[0m\u001b[0m\n\u001b[0m\u001b[1;32m    952\u001b[0m                 \u001b[0;32melse\u001b[0m\u001b[0;34m:\u001b[0m\u001b[0;34m\u001b[0m\u001b[0m\n\u001b[1;32m    953\u001b[0m                     \u001b[0;32mif\u001b[0m \u001b[0m__debug__\u001b[0m\u001b[0;34m:\u001b[0m\u001b[0;34m\u001b[0m\u001b[0m\n",
      "\u001b[0;32m/home/inigo/anaconda2/lib/python2.7/threading.pyc\u001b[0m in \u001b[0;36mwait\u001b[0;34m(self, timeout)\u001b[0m\n\u001b[1;32m    357\u001b[0m                         \u001b[0;32mbreak\u001b[0m\u001b[0;34m\u001b[0m\u001b[0m\n\u001b[1;32m    358\u001b[0m                     \u001b[0mdelay\u001b[0m \u001b[0;34m=\u001b[0m \u001b[0mmin\u001b[0m\u001b[0;34m(\u001b[0m\u001b[0mdelay\u001b[0m \u001b[0;34m*\u001b[0m \u001b[0;36m2\u001b[0m\u001b[0;34m,\u001b[0m \u001b[0mremaining\u001b[0m\u001b[0;34m,\u001b[0m \u001b[0;36m.05\u001b[0m\u001b[0;34m)\u001b[0m\u001b[0;34m\u001b[0m\u001b[0m\n\u001b[0;32m--> 359\u001b[0;31m                     \u001b[0m_sleep\u001b[0m\u001b[0;34m(\u001b[0m\u001b[0mdelay\u001b[0m\u001b[0;34m)\u001b[0m\u001b[0;34m\u001b[0m\u001b[0m\n\u001b[0m\u001b[1;32m    360\u001b[0m                 \u001b[0;32mif\u001b[0m \u001b[0;32mnot\u001b[0m \u001b[0mgotit\u001b[0m\u001b[0;34m:\u001b[0m\u001b[0;34m\u001b[0m\u001b[0m\n\u001b[1;32m    361\u001b[0m                     \u001b[0;32mif\u001b[0m \u001b[0m__debug__\u001b[0m\u001b[0;34m:\u001b[0m\u001b[0;34m\u001b[0m\u001b[0m\n",
      "\u001b[0;31mKeyboardInterrupt\u001b[0m: "
     ]
    }
   ],
   "source": [
    "from sklearn.feature_selection import SelectFromModel\n",
    "\n",
    "highfeats = np.array([])\n",
    "\n",
    "for estimator in fitModel.estimators_:\n",
    "    model = SelectFromModel(estimator, prefit=True)\n",
    "    highfeats = np.append(highfeats, model.get_support(indices = True))\n",
    "\n",
    "delidx = np.unique(highfeats)\n",
    "allidx = np.arange(preProcFeats.shape[1])\n",
    "\n",
    "delfeats = np.delete(allidx, delidx)\n",
    "highfeats = np.delete(preProcFeats, delfeats, axis=1)\n",
    "print 'highfeats' + str(highfeats.shape)\n",
    "print highfeats"
   ]
  },
  {
   "cell_type": "markdown",
   "metadata": {},
   "source": [
    "#### Redo confusion matrix and importance graph with fewer features"
   ]
  },
  {
   "cell_type": "code",
   "execution_count": null,
   "metadata": {
    "collapsed": true,
    "scrolled": true
   },
   "outputs": [],
   "source": [
    "print sklearn.model_selection.cross_val_score(clf, highfeats, preProcLabels,\\\n",
    "                                              cv=k_fold, n_jobs=-1, scoring='neg_log_loss')\n",
    "\n",
    "\n",
    "# Train/Test Validation\n",
    "X_train, X_test, y_train, y_test = sklearn.model_selection.train_test_split(highfeats,\\\n",
    "                                                            preProcLabels, test_size=0.25, random_state=420) #one quarter of data used for testing\n",
    "predictTestX = clf.fit(X_train, y_train).predict_proba(X_test) #return an array of predicted values\n",
    "confuseMatrix = sklearn.metrics.confusion_matrix(y_test, clf.fit(X_train, y_train).predict(X_test))\n",
    "print confuseMatrix"
   ]
  },
  {
   "cell_type": "code",
   "execution_count": null,
   "metadata": {
    "collapsed": true
   },
   "outputs": [],
   "source": [
    "classLabels = ['1', '2', '3', '4', '5', '6', '7', '9']\n",
    "\n",
    "print confuseMatrix.shape\n",
    "normConfuseMatrix = np.zeros(confuseMatrix.shape)\n",
    "for col in np.arange(confuseMatrix.shape[1]):\n",
    "    normConfuseMatrix[:,col] = confuseMatrix[:,col] / float(confuseMatrix[:,col].max())\n",
    "\n",
    "#turn the matrix into a dataframe    \n",
    "#dfCM = pd.DataFrame(normConfuseMatrix, index = [i for i in classLabels], columns = [i for i in classLabels])\n",
    "dfCM = pd.DataFrame(confuseMatrix, index = [i for i in classLabels], columns = [i for i in classLabels])\n",
    "\n",
    "#plot the confusion matrix visually using a heatmap\n",
    "colormap = plt.cm.cubehelix_r\n",
    "fig = plt.figure(figsize=(5,5)) # (width, height)\n",
    "sns.heatmap(dfCM, annot=True, vmin = 0, vmax = 100, fmt='d', cbar=False, cmap = colormap)\n",
    "#sns.heatmap(dfCM, annot=True, cbar=False)\n",
    "plt.xlabel('True Label ID')\n",
    "plt.ylabel('Predicted Label ID')\n",
    "\n",
    "plt.tight_layout()\n",
    "plt.savefig('confusion_matrix.pdf')"
   ]
  },
  {
   "cell_type": "markdown",
   "metadata": {},
   "source": [
    "**Feature Importance**"
   ]
  },
  {
   "cell_type": "markdown",
   "metadata": {},
   "source": [
    "Plots a graph of the "
   ]
  },
  {
   "cell_type": "code",
   "execution_count": null,
   "metadata": {
    "collapsed": true
   },
   "outputs": [],
   "source": [
    "fitModel = clf.fit(highfeats, preProcLabels)"
   ]
  },
  {
   "cell_type": "code",
   "execution_count": null,
   "metadata": {
    "collapsed": true
   },
   "outputs": [],
   "source": [
    "featureStrs = featureDf.columns.values\n",
    "\n",
    "fimps = []\n",
    "\n",
    "fig = plt.figure(figsize=(15,5)) # (width, height)\n",
    "for idx in np.arange(len(fitModel.estimators_)):\n",
    "    maxFeatVal = fitModel.estimators_[idx].feature_importances_.max() #find the feature with most importance\n",
    "    \n",
    "    #plot the importance of each feature (for each estimator, labelled by line colour)\n",
    "    plt.plot(fitModel.estimators_[idx].feature_importances_, label=idx+1)\n",
    "    \n",
    "    #save feature importance array\n",
    "    fimps.append(fitModel.estimators_[idx].feature_importances_)\n",
    "    \n",
    "    #plt.plot(fitModel.estimators_[idx].feature_importances_.clip(1e-2, maxFeatVal), label=idx+1)\n",
    "    #plt.semilogy(fitModel.estimators_[idx].feature_importances_.clip(1e-3, maxFeatVal), label=idx+1)\n",
    "    \n",
    "    #for each estimator 1-8 prints the number, the feature with the highest importance, the features max importance\n",
    "    print idx+1, featureStrs[np.argmax(fitModel.estimators_[idx].feature_importances_)], maxFeatVal\n",
    "\n",
    "plt.legend()\n",
    "plt.xlabel('Feature ID')"
   ]
  },
  {
   "cell_type": "code",
   "execution_count": null,
   "metadata": {
    "collapsed": true
   },
   "outputs": [],
   "source": [
    "print fitModel.predict_proba(highfeats)[:10]"
   ]
  },
  {
   "cell_type": "code",
   "execution_count": null,
   "metadata": {
    "collapsed": true
   },
   "outputs": [],
   "source": [
    "predictProb = fitModel.predict_proba(highfeats)"
   ]
  },
  {
   "cell_type": "code",
   "execution_count": null,
   "metadata": {
    "collapsed": true
   },
   "outputs": [],
   "source": [
    "print preProcLabels.shape\n",
    "print predictProb.shape\n",
    "print np.argwhere(preProcLabels == 9).shape\n",
    "\n",
    "#c9c9Prob = predictProb[np.argwhere(preProcLabels == 9).flatten()][:,7]\n",
    "#cAllc9Prob = predictProb[np.argwhere(preProcLabels != 9).flatten()][:,7]\n",
    "\n",
    "#fetch probabilities for timeseries that are class 9, and tiemseries that are not class 9 - shouldnt this be 0 and 9?\n",
    "c9c9Prob = predictTestX[np.argwhere(y_test == 9).flatten()][:,7] #.flatten() collapses the array into one dimension\n",
    "cAllc9Prob = predictTestX[np.argwhere(y_test != 9).flatten()][:,7]\n",
    "print c9c9Prob.min()\n",
    "\n",
    "\n",
    "\n",
    "\n",
    "#fig = plt.figure(figsize=(5,4)) # (width, height)\n",
    "fig, ax = plt.subplots(figsize=(5,3.5)) # (width, height)\n",
    "for ss in [c9c9Prob, cAllc9Prob]:\n",
    "    sns.distplot(ss, kde=False, bins=30)\n",
    "plt.xlabel('Probability')\n",
    "plt.ylabel('Counts')\n",
    "plt.title('Prediction of label 9')\n",
    "plt.xlim(0.25, 1.)\n",
    "plt.ylim(0, 25)\n",
    "\n",
    "for idx in range(7):\n",
    "        if idx != i:\n",
    "            predlabel = idx+1\n",
    "            cncnProb = predictTestX[np.argwhere(y_test == truelabel).flatten()][:,7]\n",
    "            cnciprob = predictTestX[np.argwhere(y_test == predlabel).flatten()][:,7]\n",
    "            fig, ax = plt.subplots(figsize=(5,3.5)) # (width, height)\n",
    "            for ss in [cncnProb, cnciprob]:\n",
    "                sns.distplot(ss, kde=False, bins=30)\n",
    "            plt.xlabel('Probability')\n",
    "            plt.ylabel('Counts')\n",
    "            plt.xlim(0.25, 1.)\n",
    "            plt.ylim(0, 25)\n",
    "            plt.title('False negatives - class %d labelled as class %d'%(truelabel ,predlabel))\n",
    "            plt.tight_layout()\n",
    "            plt.savefig('Figures/Label%dPred%d'%(truelabel, predlabel))\n",
    "\n",
    "plt.tight_layout()\n",
    "plt.savefig('Figures/class9_hist.pdf')\n",
    "\n",
    "for i in range(7):\n",
    "    truelabel = i+1\n",
    "    for idx in range(7):\n",
    "        if idx != i:\n",
    "            predlabel = idx+1\n",
    "            cncnProb = predictTestX[np.argwhere(y_test == truelabel).flatten()][:,i]\n",
    "            cnciprob = predictTestX[np.argwhere(y_test == predlabel).flatten()][:,i]\n",
    "            fig, ax = plt.subplots(figsize=(5,3.5)) # (width, height)\n",
    "            for ss in [cncnProb, cnciprob]:\n",
    "                sns.distplot(ss, kde=False, bins=30)\n",
    "            plt.xlabel('Probability')\n",
    "            plt.ylabel('Counts')\n",
    "            plt.xlim(0.25, 1.)\n",
    "            plt.ylim(0, 25)\n",
    "            plt.title('False negatives - class %d labelled as class %d'%(truelabel ,predlabel))\n",
    "            plt.tight_layout()\n",
    "            plt.savefig('Figures/Label%dPred%d'%(truelabel, predlabel))"
   ]
  }
 ],
 "metadata": {
  "kernelspec": {
   "display_name": "Python 2",
   "language": "python",
   "name": "python2"
  },
  "language_info": {
   "codemirror_mode": {
    "name": "ipython",
    "version": 2
   },
   "file_extension": ".py",
   "mimetype": "text/x-python",
   "name": "python",
   "nbconvert_exporter": "python",
   "pygments_lexer": "ipython2",
   "version": "2.7.13"
  }
 },
 "nbformat": 4,
 "nbformat_minor": 2
}
